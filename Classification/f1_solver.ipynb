{
 "cells": [
  {
   "cell_type": "code",
   "execution_count": 1,
   "id": "initial_id",
   "metadata": {
    "collapsed": true,
    "ExecuteTime": {
     "end_time": "2024-03-25T21:12:12.816829Z",
     "start_time": "2024-03-25T21:12:12.068353Z"
    }
   },
   "outputs": [],
   "source": [
    "# importing required libraries \n",
    "\n",
    "import pandas as pd\n",
    "import seaborn as sns\n",
    "import matplotlib.pyplot as plt \n",
    "import numpy as np\n",
    "from sklearn.model_selection import train_test_split\n",
    "import warnings\n",
    "warnings.simplefilter(\"ignore\")\n",
    "pd.set_option('display.max_columns', None)"
   ]
  },
  {
   "cell_type": "code",
   "outputs": [],
   "source": [
    "result_df = pd.read_csv('f1/results.csv')\n",
    "stats_df = pd.read_csv('f1/status.csv')\n",
    "drivers_df = pd.read_csv('f1/drivers.csv')\n",
    "races_df = pd.read_csv('f1/races.csv')\n",
    "constructor_df = pd.read_csv('f1/constructors.csv')\n",
    "driver_standings_df = pd.read_csv('f1/driver_standings.csv')\n",
    "pd.get_option('display.max_columns', None)"
   ],
   "metadata": {
    "collapsed": false,
    "ExecuteTime": {
     "end_time": "2024-03-25T21:14:55.354668Z",
     "start_time": "2024-03-25T21:14:55.267251Z"
    }
   },
   "id": "f26dfe2c4ea9f625",
   "execution_count": 4
  },
  {
   "cell_type": "code",
   "outputs": [
    {
     "data": {
      "text/plain": "   resultId  raceId_x  driverId  constructorId number_x  grid position_x  \\\n0         1        18         1              1       22     1          1   \n1         1        18         1              1       22     1          1   \n2         1        18         1              1       22     1          1   \n3         1        18         1              1       22     1          1   \n4         1        18         1              1       22     1          1   \n\n  positionText_x  positionOrder  points_x  laps         time milliseconds  \\\n0              1              1      10.0    58  1:34:50.616      5690616   \n1              1              1      10.0    58  1:34:50.616      5690616   \n2              1              1      10.0    58  1:34:50.616      5690616   \n3              1              1      10.0    58  1:34:50.616      5690616   \n4              1              1      10.0    58  1:34:50.616      5690616   \n\n  fastestLap rank fastestLapTime fastestLapSpeed  statusId driverRef number_y  \\\n0         39    2       1:27.452         218.300         1  hamilton       44   \n1         39    2       1:27.452         218.300         1  hamilton       44   \n2         39    2       1:27.452         218.300         1  hamilton       44   \n3         39    2       1:27.452         218.300         1  hamilton       44   \n4         39    2       1:27.452         218.300         1  hamilton       44   \n\n  code forename   surname         dob nationality_x  \\\n0  HAM    Lewis  Hamilton  1985-01-07       British   \n1  HAM    Lewis  Hamilton  1985-01-07       British   \n2  HAM    Lewis  Hamilton  1985-01-07       British   \n3  HAM    Lewis  Hamilton  1985-01-07       British   \n4  HAM    Lewis  Hamilton  1985-01-07       British   \n\n                                         url_x  driverStandingsId  raceId_y  \\\n0  http://en.wikipedia.org/wiki/Lewis_Hamilton                  1        18   \n1  http://en.wikipedia.org/wiki/Lewis_Hamilton                  9        19   \n2  http://en.wikipedia.org/wiki/Lewis_Hamilton                 27        20   \n3  http://en.wikipedia.org/wiki/Lewis_Hamilton                 48        21   \n4  http://en.wikipedia.org/wiki/Lewis_Hamilton                 69        22   \n\n   points_y  position_y positionText_y  wins constructorRef     name  \\\n0      10.0           1              1     1        mclaren  McLaren   \n1      14.0           1              1     1        mclaren  McLaren   \n2      14.0           3              3     1        mclaren  McLaren   \n3      20.0           2              2     1        mclaren  McLaren   \n4      28.0           3              3     1        mclaren  McLaren   \n\n  nationality_y                                 url_y    status  \n0       British  http://en.wikipedia.org/wiki/McLaren  Finished  \n1       British  http://en.wikipedia.org/wiki/McLaren  Finished  \n2       British  http://en.wikipedia.org/wiki/McLaren  Finished  \n3       British  http://en.wikipedia.org/wiki/McLaren  Finished  \n4       British  http://en.wikipedia.org/wiki/McLaren  Finished  ",
      "text/html": "<div>\n<style scoped>\n    .dataframe tbody tr th:only-of-type {\n        vertical-align: middle;\n    }\n\n    .dataframe tbody tr th {\n        vertical-align: top;\n    }\n\n    .dataframe thead th {\n        text-align: right;\n    }\n</style>\n<table border=\"1\" class=\"dataframe\">\n  <thead>\n    <tr style=\"text-align: right;\">\n      <th></th>\n      <th>resultId</th>\n      <th>raceId_x</th>\n      <th>driverId</th>\n      <th>constructorId</th>\n      <th>number_x</th>\n      <th>grid</th>\n      <th>position_x</th>\n      <th>positionText_x</th>\n      <th>positionOrder</th>\n      <th>points_x</th>\n      <th>laps</th>\n      <th>time</th>\n      <th>milliseconds</th>\n      <th>fastestLap</th>\n      <th>rank</th>\n      <th>fastestLapTime</th>\n      <th>fastestLapSpeed</th>\n      <th>statusId</th>\n      <th>driverRef</th>\n      <th>number_y</th>\n      <th>code</th>\n      <th>forename</th>\n      <th>surname</th>\n      <th>dob</th>\n      <th>nationality_x</th>\n      <th>url_x</th>\n      <th>driverStandingsId</th>\n      <th>raceId_y</th>\n      <th>points_y</th>\n      <th>position_y</th>\n      <th>positionText_y</th>\n      <th>wins</th>\n      <th>constructorRef</th>\n      <th>name</th>\n      <th>nationality_y</th>\n      <th>url_y</th>\n      <th>status</th>\n    </tr>\n  </thead>\n  <tbody>\n    <tr>\n      <th>0</th>\n      <td>1</td>\n      <td>18</td>\n      <td>1</td>\n      <td>1</td>\n      <td>22</td>\n      <td>1</td>\n      <td>1</td>\n      <td>1</td>\n      <td>1</td>\n      <td>10.0</td>\n      <td>58</td>\n      <td>1:34:50.616</td>\n      <td>5690616</td>\n      <td>39</td>\n      <td>2</td>\n      <td>1:27.452</td>\n      <td>218.300</td>\n      <td>1</td>\n      <td>hamilton</td>\n      <td>44</td>\n      <td>HAM</td>\n      <td>Lewis</td>\n      <td>Hamilton</td>\n      <td>1985-01-07</td>\n      <td>British</td>\n      <td>http://en.wikipedia.org/wiki/Lewis_Hamilton</td>\n      <td>1</td>\n      <td>18</td>\n      <td>10.0</td>\n      <td>1</td>\n      <td>1</td>\n      <td>1</td>\n      <td>mclaren</td>\n      <td>McLaren</td>\n      <td>British</td>\n      <td>http://en.wikipedia.org/wiki/McLaren</td>\n      <td>Finished</td>\n    </tr>\n    <tr>\n      <th>1</th>\n      <td>1</td>\n      <td>18</td>\n      <td>1</td>\n      <td>1</td>\n      <td>22</td>\n      <td>1</td>\n      <td>1</td>\n      <td>1</td>\n      <td>1</td>\n      <td>10.0</td>\n      <td>58</td>\n      <td>1:34:50.616</td>\n      <td>5690616</td>\n      <td>39</td>\n      <td>2</td>\n      <td>1:27.452</td>\n      <td>218.300</td>\n      <td>1</td>\n      <td>hamilton</td>\n      <td>44</td>\n      <td>HAM</td>\n      <td>Lewis</td>\n      <td>Hamilton</td>\n      <td>1985-01-07</td>\n      <td>British</td>\n      <td>http://en.wikipedia.org/wiki/Lewis_Hamilton</td>\n      <td>9</td>\n      <td>19</td>\n      <td>14.0</td>\n      <td>1</td>\n      <td>1</td>\n      <td>1</td>\n      <td>mclaren</td>\n      <td>McLaren</td>\n      <td>British</td>\n      <td>http://en.wikipedia.org/wiki/McLaren</td>\n      <td>Finished</td>\n    </tr>\n    <tr>\n      <th>2</th>\n      <td>1</td>\n      <td>18</td>\n      <td>1</td>\n      <td>1</td>\n      <td>22</td>\n      <td>1</td>\n      <td>1</td>\n      <td>1</td>\n      <td>1</td>\n      <td>10.0</td>\n      <td>58</td>\n      <td>1:34:50.616</td>\n      <td>5690616</td>\n      <td>39</td>\n      <td>2</td>\n      <td>1:27.452</td>\n      <td>218.300</td>\n      <td>1</td>\n      <td>hamilton</td>\n      <td>44</td>\n      <td>HAM</td>\n      <td>Lewis</td>\n      <td>Hamilton</td>\n      <td>1985-01-07</td>\n      <td>British</td>\n      <td>http://en.wikipedia.org/wiki/Lewis_Hamilton</td>\n      <td>27</td>\n      <td>20</td>\n      <td>14.0</td>\n      <td>3</td>\n      <td>3</td>\n      <td>1</td>\n      <td>mclaren</td>\n      <td>McLaren</td>\n      <td>British</td>\n      <td>http://en.wikipedia.org/wiki/McLaren</td>\n      <td>Finished</td>\n    </tr>\n    <tr>\n      <th>3</th>\n      <td>1</td>\n      <td>18</td>\n      <td>1</td>\n      <td>1</td>\n      <td>22</td>\n      <td>1</td>\n      <td>1</td>\n      <td>1</td>\n      <td>1</td>\n      <td>10.0</td>\n      <td>58</td>\n      <td>1:34:50.616</td>\n      <td>5690616</td>\n      <td>39</td>\n      <td>2</td>\n      <td>1:27.452</td>\n      <td>218.300</td>\n      <td>1</td>\n      <td>hamilton</td>\n      <td>44</td>\n      <td>HAM</td>\n      <td>Lewis</td>\n      <td>Hamilton</td>\n      <td>1985-01-07</td>\n      <td>British</td>\n      <td>http://en.wikipedia.org/wiki/Lewis_Hamilton</td>\n      <td>48</td>\n      <td>21</td>\n      <td>20.0</td>\n      <td>2</td>\n      <td>2</td>\n      <td>1</td>\n      <td>mclaren</td>\n      <td>McLaren</td>\n      <td>British</td>\n      <td>http://en.wikipedia.org/wiki/McLaren</td>\n      <td>Finished</td>\n    </tr>\n    <tr>\n      <th>4</th>\n      <td>1</td>\n      <td>18</td>\n      <td>1</td>\n      <td>1</td>\n      <td>22</td>\n      <td>1</td>\n      <td>1</td>\n      <td>1</td>\n      <td>1</td>\n      <td>10.0</td>\n      <td>58</td>\n      <td>1:34:50.616</td>\n      <td>5690616</td>\n      <td>39</td>\n      <td>2</td>\n      <td>1:27.452</td>\n      <td>218.300</td>\n      <td>1</td>\n      <td>hamilton</td>\n      <td>44</td>\n      <td>HAM</td>\n      <td>Lewis</td>\n      <td>Hamilton</td>\n      <td>1985-01-07</td>\n      <td>British</td>\n      <td>http://en.wikipedia.org/wiki/Lewis_Hamilton</td>\n      <td>69</td>\n      <td>22</td>\n      <td>28.0</td>\n      <td>3</td>\n      <td>3</td>\n      <td>1</td>\n      <td>mclaren</td>\n      <td>McLaren</td>\n      <td>British</td>\n      <td>http://en.wikipedia.org/wiki/McLaren</td>\n      <td>Finished</td>\n    </tr>\n  </tbody>\n</table>\n</div>"
     },
     "execution_count": 5,
     "metadata": {},
     "output_type": "execute_result"
    }
   ],
   "source": [
    "races_df = races_df.raceId.astype(int)\n",
    "con1 = pd.merge(result_df, races_df, on ='raceId')\n",
    "con2 = pd.merge(con1, drivers_df, on = 'driverId')\n",
    "con3 = pd.merge(con2, driver_standings_df, on = 'driverId')\n",
    "con4 = pd.merge(con3, constructor_df, on ='constructorId')\n",
    "df = pd.merge(con4, stats_df, on ='statusId')\n",
    "pd.get_option(\"display.max_columns\",None)\n",
    "df.head()"
   ],
   "metadata": {
    "collapsed": false,
    "ExecuteTime": {
     "end_time": "2024-03-25T21:16:08.541862Z",
     "start_time": "2024-03-25T21:15:55.411002Z"
    }
   },
   "id": "3f0abc1929495b3f",
   "execution_count": 5
  },
  {
   "cell_type": "code",
   "outputs": [
    {
     "data": {
      "text/plain": "resultId             0\nraceId_x             0\ndriverId             0\nconstructorId        0\nnumber_x             0\ngrid                 0\nposition_x           0\npositionText_x       0\npositionOrder        0\npoints_x             0\nlaps                 0\ntime                 0\nmilliseconds         0\nfastestLap           0\nrank                 0\nfastestLapTime       0\nfastestLapSpeed      0\nstatusId             0\ndriverRef            0\nnumber_y             0\ncode                 0\nforename             0\nsurname              0\ndob                  0\nnationality_x        0\nurl_x                0\ndriverStandingsId    0\nraceId_y             0\npoints_y             0\nposition_y           0\npositionText_y       0\nwins                 0\nconstructorRef       0\nname                 0\nnationality_y        0\nurl_y                0\nstatus               0\ndtype: int64"
     },
     "execution_count": 7,
     "metadata": {},
     "output_type": "execute_result"
    }
   ],
   "source": [
    "# mencari nilai null dalam dataset\n",
    "df.isnull().sum()"
   ],
   "metadata": {
    "collapsed": false,
    "ExecuteTime": {
     "end_time": "2024-03-25T21:25:35.929746Z",
     "start_time": "2024-03-25T21:25:33.837887Z"
    }
   },
   "id": "190122c6452b81dc",
   "execution_count": 7
  },
  {
   "cell_type": "code",
   "outputs": [
    {
     "name": "stdout",
     "output_type": "stream",
     "text": [
      "<class 'pandas.core.frame.DataFrame'>\n",
      "RangeIndex: 3537627 entries, 0 to 3537626\n",
      "Data columns (total 37 columns):\n",
      " #   Column             Dtype  \n",
      "---  ------             -----  \n",
      " 0   resultId           int64  \n",
      " 1   raceId_x           int64  \n",
      " 2   driverId           int64  \n",
      " 3   constructorId      int64  \n",
      " 4   number_x           object \n",
      " 5   grid               int64  \n",
      " 6   position_x         object \n",
      " 7   positionText_x     object \n",
      " 8   positionOrder      int64  \n",
      " 9   points_x           float64\n",
      " 10  laps               int64  \n",
      " 11  time               object \n",
      " 12  milliseconds       object \n",
      " 13  fastestLap         object \n",
      " 14  rank               object \n",
      " 15  fastestLapTime     object \n",
      " 16  fastestLapSpeed    object \n",
      " 17  statusId           int64  \n",
      " 18  driverRef          object \n",
      " 19  number_y           object \n",
      " 20  code               object \n",
      " 21  forename           object \n",
      " 22  surname            object \n",
      " 23  dob                object \n",
      " 24  nationality_x      object \n",
      " 25  url_x              object \n",
      " 26  driverStandingsId  int64  \n",
      " 27  raceId_y           int64  \n",
      " 28  points_y           float64\n",
      " 29  position_y         int64  \n",
      " 30  positionText_y     object \n",
      " 31  wins               int64  \n",
      " 32  constructorRef     object \n",
      " 33  name               object \n",
      " 34  nationality_y      object \n",
      " 35  url_y              object \n",
      " 36  status             object \n",
      "dtypes: float64(2), int64(12), object(23)\n",
      "memory usage: 998.6+ MB\n"
     ]
    }
   ],
   "source": [
    "df.info()"
   ],
   "metadata": {
    "collapsed": false,
    "ExecuteTime": {
     "end_time": "2024-03-25T21:25:57.573507Z",
     "start_time": "2024-03-25T21:25:57.554581Z"
    }
   },
   "id": "81c75b510f896361",
   "execution_count": 8
  },
  {
   "cell_type": "code",
   "outputs": [
    {
     "data": {
      "text/plain": "                       count          mean           std  min      25%  \\\nresultId           3537627.0  12630.091396   8209.508032  1.0   5125.0   \nraceId_x           3537627.0    517.066570    331.536193  1.0    234.0   \ndriverId           3537627.0    204.182795    265.852299  1.0     20.0   \nconstructorId      3537627.0     39.412151     56.860468  1.0      6.0   \ngrid               3537627.0      9.763203      6.557031  0.0      4.0   \npositionOrder      3537627.0     11.229562      7.378775  1.0      5.0   \npoints_x           3537627.0      2.998598      5.334331  0.0      0.0   \nlaps               3537627.0     48.362040     25.123229  0.0     32.0   \nstatusId           3537627.0     13.238133     22.544512  1.0      1.0   \ndriverStandingsId  3537627.0  40117.463301  25309.272186  1.0  13856.0   \nraceId_y           3537627.0    519.330155    331.962602  1.0    238.0   \npoints_y           3537627.0     28.391002     52.047553  0.0      1.0   \nposition_y         3537627.0     11.654836      9.133026  1.0      5.0   \nwins               3537627.0      0.551738      1.452231  0.0      0.0   \n\n                       50%      75%      max  \nresultId           11763.0  21140.0  26085.0  \nraceId_x             467.0    856.0   1110.0  \ndriverId             105.0    229.0    858.0  \nconstructorId         16.0     37.0    214.0  \ngrid                   9.0     15.0     34.0  \npositionOrder         10.0     17.0     39.0  \npoints_x               0.0      4.0     50.0  \nlaps                  55.0     67.0    200.0  \nstatusId               5.0     12.0    141.0  \ndriverStandingsId  49960.0  65824.0  72187.0  \nraceId_y             470.0    857.0   1110.0  \npoints_y               8.0     31.0    454.0  \nposition_y            10.0     16.0    108.0  \nwins                   0.0      0.0     15.0  ",
      "text/html": "<div>\n<style scoped>\n    .dataframe tbody tr th:only-of-type {\n        vertical-align: middle;\n    }\n\n    .dataframe tbody tr th {\n        vertical-align: top;\n    }\n\n    .dataframe thead th {\n        text-align: right;\n    }\n</style>\n<table border=\"1\" class=\"dataframe\">\n  <thead>\n    <tr style=\"text-align: right;\">\n      <th></th>\n      <th>count</th>\n      <th>mean</th>\n      <th>std</th>\n      <th>min</th>\n      <th>25%</th>\n      <th>50%</th>\n      <th>75%</th>\n      <th>max</th>\n    </tr>\n  </thead>\n  <tbody>\n    <tr>\n      <th>resultId</th>\n      <td>3537627.0</td>\n      <td>12630.091396</td>\n      <td>8209.508032</td>\n      <td>1.0</td>\n      <td>5125.0</td>\n      <td>11763.0</td>\n      <td>21140.0</td>\n      <td>26085.0</td>\n    </tr>\n    <tr>\n      <th>raceId_x</th>\n      <td>3537627.0</td>\n      <td>517.066570</td>\n      <td>331.536193</td>\n      <td>1.0</td>\n      <td>234.0</td>\n      <td>467.0</td>\n      <td>856.0</td>\n      <td>1110.0</td>\n    </tr>\n    <tr>\n      <th>driverId</th>\n      <td>3537627.0</td>\n      <td>204.182795</td>\n      <td>265.852299</td>\n      <td>1.0</td>\n      <td>20.0</td>\n      <td>105.0</td>\n      <td>229.0</td>\n      <td>858.0</td>\n    </tr>\n    <tr>\n      <th>constructorId</th>\n      <td>3537627.0</td>\n      <td>39.412151</td>\n      <td>56.860468</td>\n      <td>1.0</td>\n      <td>6.0</td>\n      <td>16.0</td>\n      <td>37.0</td>\n      <td>214.0</td>\n    </tr>\n    <tr>\n      <th>grid</th>\n      <td>3537627.0</td>\n      <td>9.763203</td>\n      <td>6.557031</td>\n      <td>0.0</td>\n      <td>4.0</td>\n      <td>9.0</td>\n      <td>15.0</td>\n      <td>34.0</td>\n    </tr>\n    <tr>\n      <th>positionOrder</th>\n      <td>3537627.0</td>\n      <td>11.229562</td>\n      <td>7.378775</td>\n      <td>1.0</td>\n      <td>5.0</td>\n      <td>10.0</td>\n      <td>17.0</td>\n      <td>39.0</td>\n    </tr>\n    <tr>\n      <th>points_x</th>\n      <td>3537627.0</td>\n      <td>2.998598</td>\n      <td>5.334331</td>\n      <td>0.0</td>\n      <td>0.0</td>\n      <td>0.0</td>\n      <td>4.0</td>\n      <td>50.0</td>\n    </tr>\n    <tr>\n      <th>laps</th>\n      <td>3537627.0</td>\n      <td>48.362040</td>\n      <td>25.123229</td>\n      <td>0.0</td>\n      <td>32.0</td>\n      <td>55.0</td>\n      <td>67.0</td>\n      <td>200.0</td>\n    </tr>\n    <tr>\n      <th>statusId</th>\n      <td>3537627.0</td>\n      <td>13.238133</td>\n      <td>22.544512</td>\n      <td>1.0</td>\n      <td>1.0</td>\n      <td>5.0</td>\n      <td>12.0</td>\n      <td>141.0</td>\n    </tr>\n    <tr>\n      <th>driverStandingsId</th>\n      <td>3537627.0</td>\n      <td>40117.463301</td>\n      <td>25309.272186</td>\n      <td>1.0</td>\n      <td>13856.0</td>\n      <td>49960.0</td>\n      <td>65824.0</td>\n      <td>72187.0</td>\n    </tr>\n    <tr>\n      <th>raceId_y</th>\n      <td>3537627.0</td>\n      <td>519.330155</td>\n      <td>331.962602</td>\n      <td>1.0</td>\n      <td>238.0</td>\n      <td>470.0</td>\n      <td>857.0</td>\n      <td>1110.0</td>\n    </tr>\n    <tr>\n      <th>points_y</th>\n      <td>3537627.0</td>\n      <td>28.391002</td>\n      <td>52.047553</td>\n      <td>0.0</td>\n      <td>1.0</td>\n      <td>8.0</td>\n      <td>31.0</td>\n      <td>454.0</td>\n    </tr>\n    <tr>\n      <th>position_y</th>\n      <td>3537627.0</td>\n      <td>11.654836</td>\n      <td>9.133026</td>\n      <td>1.0</td>\n      <td>5.0</td>\n      <td>10.0</td>\n      <td>16.0</td>\n      <td>108.0</td>\n    </tr>\n    <tr>\n      <th>wins</th>\n      <td>3537627.0</td>\n      <td>0.551738</td>\n      <td>1.452231</td>\n      <td>0.0</td>\n      <td>0.0</td>\n      <td>0.0</td>\n      <td>0.0</td>\n      <td>15.0</td>\n    </tr>\n  </tbody>\n</table>\n</div>"
     },
     "execution_count": 9,
     "metadata": {},
     "output_type": "execute_result"
    }
   ],
   "source": [
    "df.describe().T"
   ],
   "metadata": {
    "collapsed": false,
    "ExecuteTime": {
     "end_time": "2024-03-25T21:26:12.691494Z",
     "start_time": "2024-03-25T21:26:11.247947Z"
    }
   },
   "id": "a22ce1b13acc1db",
   "execution_count": 9
  },
  {
   "cell_type": "code",
   "outputs": [],
   "source": [
    "df = df.drop(['url_y','url_x','position_x','fastestLapTime','positionText_x','time','driverRef',\n",
    "              'constructorRef','nationality_y','positionText_y','raceId_y','points_y'],axis=1)"
   ],
   "metadata": {
    "collapsed": false,
    "ExecuteTime": {
     "end_time": "2024-03-25T21:42:06.357268Z",
     "start_time": "2024-03-25T21:42:05.811780Z"
    }
   },
   "id": "778dd5d4495784a8",
   "execution_count": 15
  },
  {
   "cell_type": "code",
   "outputs": [
    {
     "data": {
      "text/plain": "   resultId  racerId  driverId  constructorId number  grid  positionOrder  \\\n0         1       18         1              1     22     1              1   \n1         1       18         1              1     22     1              1   \n2         1       18         1              1     22     1              1   \n3         1       18         1              1     22     1              1   \n4         1       18         1              1     22     1              1   \n\n   points  laps timetaken_in_millisec fastestLap rank max_speed  statusId  \\\n0    10.0    58               5690616         39    2   218.300         1   \n1    10.0    58               5690616         39    2   218.300         1   \n2    10.0    58               5690616         39    2   218.300         1   \n3    10.0    58               5690616         39    2   218.300         1   \n4    10.0    58               5690616         39    2   218.300         1   \n\n  driver_num driver_code         dob nationality  driverStandingsId  position  \\\n0         44         HAM  1985-01-07     British                  1         1   \n1         44         HAM  1985-01-07     British                  9         1   \n2         44         HAM  1985-01-07     British                 27         3   \n3         44         HAM  1985-01-07     British                 48         2   \n4         44         HAM  1985-01-07     British                 69         3   \n\n   wins     name    status     driver_name  \n0     1  McLaren  Finished  Lewis Hamilton  \n1     1  McLaren  Finished  Lewis Hamilton  \n2     1  McLaren  Finished  Lewis Hamilton  \n3     1  McLaren  Finished  Lewis Hamilton  \n4     1  McLaren  Finished  Lewis Hamilton  ",
      "text/html": "<div>\n<style scoped>\n    .dataframe tbody tr th:only-of-type {\n        vertical-align: middle;\n    }\n\n    .dataframe tbody tr th {\n        vertical-align: top;\n    }\n\n    .dataframe thead th {\n        text-align: right;\n    }\n</style>\n<table border=\"1\" class=\"dataframe\">\n  <thead>\n    <tr style=\"text-align: right;\">\n      <th></th>\n      <th>resultId</th>\n      <th>racerId</th>\n      <th>driverId</th>\n      <th>constructorId</th>\n      <th>number</th>\n      <th>grid</th>\n      <th>positionOrder</th>\n      <th>points</th>\n      <th>laps</th>\n      <th>timetaken_in_millisec</th>\n      <th>fastestLap</th>\n      <th>rank</th>\n      <th>max_speed</th>\n      <th>statusId</th>\n      <th>driver_num</th>\n      <th>driver_code</th>\n      <th>dob</th>\n      <th>nationality</th>\n      <th>driverStandingsId</th>\n      <th>position</th>\n      <th>wins</th>\n      <th>name</th>\n      <th>status</th>\n      <th>driver_name</th>\n    </tr>\n  </thead>\n  <tbody>\n    <tr>\n      <th>0</th>\n      <td>1</td>\n      <td>18</td>\n      <td>1</td>\n      <td>1</td>\n      <td>22</td>\n      <td>1</td>\n      <td>1</td>\n      <td>10.0</td>\n      <td>58</td>\n      <td>5690616</td>\n      <td>39</td>\n      <td>2</td>\n      <td>218.300</td>\n      <td>1</td>\n      <td>44</td>\n      <td>HAM</td>\n      <td>1985-01-07</td>\n      <td>British</td>\n      <td>1</td>\n      <td>1</td>\n      <td>1</td>\n      <td>McLaren</td>\n      <td>Finished</td>\n      <td>Lewis Hamilton</td>\n    </tr>\n    <tr>\n      <th>1</th>\n      <td>1</td>\n      <td>18</td>\n      <td>1</td>\n      <td>1</td>\n      <td>22</td>\n      <td>1</td>\n      <td>1</td>\n      <td>10.0</td>\n      <td>58</td>\n      <td>5690616</td>\n      <td>39</td>\n      <td>2</td>\n      <td>218.300</td>\n      <td>1</td>\n      <td>44</td>\n      <td>HAM</td>\n      <td>1985-01-07</td>\n      <td>British</td>\n      <td>9</td>\n      <td>1</td>\n      <td>1</td>\n      <td>McLaren</td>\n      <td>Finished</td>\n      <td>Lewis Hamilton</td>\n    </tr>\n    <tr>\n      <th>2</th>\n      <td>1</td>\n      <td>18</td>\n      <td>1</td>\n      <td>1</td>\n      <td>22</td>\n      <td>1</td>\n      <td>1</td>\n      <td>10.0</td>\n      <td>58</td>\n      <td>5690616</td>\n      <td>39</td>\n      <td>2</td>\n      <td>218.300</td>\n      <td>1</td>\n      <td>44</td>\n      <td>HAM</td>\n      <td>1985-01-07</td>\n      <td>British</td>\n      <td>27</td>\n      <td>3</td>\n      <td>1</td>\n      <td>McLaren</td>\n      <td>Finished</td>\n      <td>Lewis Hamilton</td>\n    </tr>\n    <tr>\n      <th>3</th>\n      <td>1</td>\n      <td>18</td>\n      <td>1</td>\n      <td>1</td>\n      <td>22</td>\n      <td>1</td>\n      <td>1</td>\n      <td>10.0</td>\n      <td>58</td>\n      <td>5690616</td>\n      <td>39</td>\n      <td>2</td>\n      <td>218.300</td>\n      <td>1</td>\n      <td>44</td>\n      <td>HAM</td>\n      <td>1985-01-07</td>\n      <td>British</td>\n      <td>48</td>\n      <td>2</td>\n      <td>1</td>\n      <td>McLaren</td>\n      <td>Finished</td>\n      <td>Lewis Hamilton</td>\n    </tr>\n    <tr>\n      <th>4</th>\n      <td>1</td>\n      <td>18</td>\n      <td>1</td>\n      <td>1</td>\n      <td>22</td>\n      <td>1</td>\n      <td>1</td>\n      <td>10.0</td>\n      <td>58</td>\n      <td>5690616</td>\n      <td>39</td>\n      <td>2</td>\n      <td>218.300</td>\n      <td>1</td>\n      <td>44</td>\n      <td>HAM</td>\n      <td>1985-01-07</td>\n      <td>British</td>\n      <td>69</td>\n      <td>3</td>\n      <td>1</td>\n      <td>McLaren</td>\n      <td>Finished</td>\n      <td>Lewis Hamilton</td>\n    </tr>\n  </tbody>\n</table>\n</div>"
     },
     "execution_count": 17,
     "metadata": {},
     "output_type": "execute_result"
    }
   ],
   "source": [
    "col_name = {'number_x':'number',\n",
    "            'milliseconds':'timetaken_in_millisec',\n",
    "            'fastestLapSpeed':'max_speed',\n",
    "            'name_x':'grand_prix',\n",
    "            'number_y':'driver_num',\n",
    "            'code':'driver_code',\n",
    "            'nationality_x':'nationality',\n",
    "            'name_y':'company',\n",
    "            'raceId_x':'racerId',\n",
    "            'points_x':'points',\n",
    "            'position_y':'position'}\n",
    "\n",
    "df.rename(columns=col_name,inplace=True)\n",
    "df['driver_name'] = df['forename']+' '+df['surname']\n",
    "df = df.drop(['forename','surname'],axis=1)\n",
    "df.head()"
   ],
   "metadata": {
    "collapsed": false,
    "ExecuteTime": {
     "end_time": "2024-03-25T21:43:44.475145Z",
     "start_time": "2024-03-25T21:43:43.396702Z"
    }
   },
   "id": "8528cb0b7e45b6fb",
   "execution_count": 17
  },
  {
   "cell_type": "code",
   "outputs": [],
   "source": [
    "df['dob'] = pd.to_datetime(df['dob'])"
   ],
   "metadata": {
    "collapsed": false,
    "ExecuteTime": {
     "end_time": "2024-03-25T21:44:53.229369Z",
     "start_time": "2024-03-25T21:44:52.951687Z"
    }
   },
   "id": "9a02e42bb654a703",
   "execution_count": 18
  },
  {
   "cell_type": "code",
   "outputs": [
    {
     "data": {
      "text/plain": "   resultId  racerId  driverId  constructorId number  grid  positionOrder  \\\n0         1       18         1              1     22     1              1   \n1         1       18         1              1     22     1              1   \n2         1       18         1              1     22     1              1   \n3         1       18         1              1     22     1              1   \n4         1       18         1              1     22     1              1   \n\n   points  laps timetaken_in_millisec fastestLap rank max_speed  statusId  \\\n0    10.0    58               5690616         39    2   218.300         1   \n1    10.0    58               5690616         39    2   218.300         1   \n2    10.0    58               5690616         39    2   218.300         1   \n3    10.0    58               5690616         39    2   218.300         1   \n4    10.0    58               5690616         39    2   218.300         1   \n\n  driver_num driver_code        dob nationality  driverStandingsId  position  \\\n0         44         HAM 1985-01-07     British                  1         1   \n1         44         HAM 1985-01-07     British                  9         1   \n2         44         HAM 1985-01-07     British                 27         3   \n3         44         HAM 1985-01-07     British                 48         2   \n4         44         HAM 1985-01-07     British                 69         3   \n\n   wins     name    status     driver_name   age  \n0     1  McLaren  Finished  Lewis Hamilton  39.0  \n1     1  McLaren  Finished  Lewis Hamilton  39.0  \n2     1  McLaren  Finished  Lewis Hamilton  39.0  \n3     1  McLaren  Finished  Lewis Hamilton  39.0  \n4     1  McLaren  Finished  Lewis Hamilton  39.0  ",
      "text/html": "<div>\n<style scoped>\n    .dataframe tbody tr th:only-of-type {\n        vertical-align: middle;\n    }\n\n    .dataframe tbody tr th {\n        vertical-align: top;\n    }\n\n    .dataframe thead th {\n        text-align: right;\n    }\n</style>\n<table border=\"1\" class=\"dataframe\">\n  <thead>\n    <tr style=\"text-align: right;\">\n      <th></th>\n      <th>resultId</th>\n      <th>racerId</th>\n      <th>driverId</th>\n      <th>constructorId</th>\n      <th>number</th>\n      <th>grid</th>\n      <th>positionOrder</th>\n      <th>points</th>\n      <th>laps</th>\n      <th>timetaken_in_millisec</th>\n      <th>fastestLap</th>\n      <th>rank</th>\n      <th>max_speed</th>\n      <th>statusId</th>\n      <th>driver_num</th>\n      <th>driver_code</th>\n      <th>dob</th>\n      <th>nationality</th>\n      <th>driverStandingsId</th>\n      <th>position</th>\n      <th>wins</th>\n      <th>name</th>\n      <th>status</th>\n      <th>driver_name</th>\n      <th>age</th>\n    </tr>\n  </thead>\n  <tbody>\n    <tr>\n      <th>0</th>\n      <td>1</td>\n      <td>18</td>\n      <td>1</td>\n      <td>1</td>\n      <td>22</td>\n      <td>1</td>\n      <td>1</td>\n      <td>10.0</td>\n      <td>58</td>\n      <td>5690616</td>\n      <td>39</td>\n      <td>2</td>\n      <td>218.300</td>\n      <td>1</td>\n      <td>44</td>\n      <td>HAM</td>\n      <td>1985-01-07</td>\n      <td>British</td>\n      <td>1</td>\n      <td>1</td>\n      <td>1</td>\n      <td>McLaren</td>\n      <td>Finished</td>\n      <td>Lewis Hamilton</td>\n      <td>39.0</td>\n    </tr>\n    <tr>\n      <th>1</th>\n      <td>1</td>\n      <td>18</td>\n      <td>1</td>\n      <td>1</td>\n      <td>22</td>\n      <td>1</td>\n      <td>1</td>\n      <td>10.0</td>\n      <td>58</td>\n      <td>5690616</td>\n      <td>39</td>\n      <td>2</td>\n      <td>218.300</td>\n      <td>1</td>\n      <td>44</td>\n      <td>HAM</td>\n      <td>1985-01-07</td>\n      <td>British</td>\n      <td>9</td>\n      <td>1</td>\n      <td>1</td>\n      <td>McLaren</td>\n      <td>Finished</td>\n      <td>Lewis Hamilton</td>\n      <td>39.0</td>\n    </tr>\n    <tr>\n      <th>2</th>\n      <td>1</td>\n      <td>18</td>\n      <td>1</td>\n      <td>1</td>\n      <td>22</td>\n      <td>1</td>\n      <td>1</td>\n      <td>10.0</td>\n      <td>58</td>\n      <td>5690616</td>\n      <td>39</td>\n      <td>2</td>\n      <td>218.300</td>\n      <td>1</td>\n      <td>44</td>\n      <td>HAM</td>\n      <td>1985-01-07</td>\n      <td>British</td>\n      <td>27</td>\n      <td>3</td>\n      <td>1</td>\n      <td>McLaren</td>\n      <td>Finished</td>\n      <td>Lewis Hamilton</td>\n      <td>39.0</td>\n    </tr>\n    <tr>\n      <th>3</th>\n      <td>1</td>\n      <td>18</td>\n      <td>1</td>\n      <td>1</td>\n      <td>22</td>\n      <td>1</td>\n      <td>1</td>\n      <td>10.0</td>\n      <td>58</td>\n      <td>5690616</td>\n      <td>39</td>\n      <td>2</td>\n      <td>218.300</td>\n      <td>1</td>\n      <td>44</td>\n      <td>HAM</td>\n      <td>1985-01-07</td>\n      <td>British</td>\n      <td>48</td>\n      <td>2</td>\n      <td>1</td>\n      <td>McLaren</td>\n      <td>Finished</td>\n      <td>Lewis Hamilton</td>\n      <td>39.0</td>\n    </tr>\n    <tr>\n      <th>4</th>\n      <td>1</td>\n      <td>18</td>\n      <td>1</td>\n      <td>1</td>\n      <td>22</td>\n      <td>1</td>\n      <td>1</td>\n      <td>10.0</td>\n      <td>58</td>\n      <td>5690616</td>\n      <td>39</td>\n      <td>2</td>\n      <td>218.300</td>\n      <td>1</td>\n      <td>44</td>\n      <td>HAM</td>\n      <td>1985-01-07</td>\n      <td>British</td>\n      <td>69</td>\n      <td>3</td>\n      <td>1</td>\n      <td>McLaren</td>\n      <td>Finished</td>\n      <td>Lewis Hamilton</td>\n      <td>39.0</td>\n    </tr>\n  </tbody>\n</table>\n</div>"
     },
     "execution_count": 19,
     "metadata": {},
     "output_type": "execute_result"
    }
   ],
   "source": [
    "from datetime import datetime\n",
    "dates = datetime.today()-df['dob']\n",
    "age = dates.dt.days/365\n",
    "df['age'] = round(age)\n",
    "pd.set_option('display.max_columns', None)\n",
    "df.head()"
   ],
   "metadata": {
    "collapsed": false,
    "ExecuteTime": {
     "end_time": "2024-03-25T21:45:25.756622Z",
     "start_time": "2024-03-25T21:45:25.499907Z"
    }
   },
   "id": "f6c1efd8695dfbba",
   "execution_count": 19
  },
  {
   "cell_type": "code",
   "outputs": [],
   "source": [
    "l = ['number','timetaken_in_millisec','fastestLap','rank','max_speed','driver_num']\n",
    "for i in l:\n",
    "    df[i] = pd.to_numeric(df[i],errors='coerce')\n",
    "df.drop('driver_num',axis=1,inplace=True)"
   ],
   "metadata": {
    "collapsed": false,
    "ExecuteTime": {
     "end_time": "2024-03-25T21:48:04.233068Z",
     "start_time": "2024-03-25T21:48:03.676048Z"
    }
   },
   "id": "ca5e2f5d83b9f882",
   "execution_count": 21
  },
  {
   "cell_type": "code",
   "outputs": [
    {
     "name": "stdout",
     "output_type": "stream",
     "text": [
      "<class 'pandas.core.frame.DataFrame'>\n",
      "RangeIndex: 3537627 entries, 0 to 3537626\n",
      "Data columns (total 24 columns):\n",
      " #   Column                 Dtype         \n",
      "---  ------                 -----         \n",
      " 0   resultId               int64         \n",
      " 1   racerId                int64         \n",
      " 2   driverId               int64         \n",
      " 3   constructorId          int64         \n",
      " 4   number                 float64       \n",
      " 5   grid                   int64         \n",
      " 6   positionOrder          int64         \n",
      " 7   points                 float64       \n",
      " 8   laps                   int64         \n",
      " 9   timetaken_in_millisec  float64       \n",
      " 10  fastestLap             float64       \n",
      " 11  rank                   float64       \n",
      " 12  max_speed              float64       \n",
      " 13  statusId               int64         \n",
      " 14  driver_code            object        \n",
      " 15  dob                    datetime64[ns]\n",
      " 16  nationality            object        \n",
      " 17  driverStandingsId      int64         \n",
      " 18  position               int64         \n",
      " 19  wins                   int64         \n",
      " 20  name                   object        \n",
      " 21  status                 object        \n",
      " 22  driver_name            object        \n",
      " 23  age                    float64       \n",
      "dtypes: datetime64[ns](1), float64(7), int64(11), object(5)\n",
      "memory usage: 647.8+ MB\n"
     ]
    }
   ],
   "source": [
    "df.info()"
   ],
   "metadata": {
    "collapsed": false,
    "ExecuteTime": {
     "end_time": "2024-03-25T21:48:19.310278Z",
     "start_time": "2024-03-25T21:48:19.299956Z"
    }
   },
   "id": "3d35a8244e9b5081",
   "execution_count": 22
  },
  {
   "cell_type": "code",
   "outputs": [],
   "source": [
    "cat = []\n",
    "num = []\n",
    "for i in df.columns:\n",
    "    if df[i].dtypes == 'O':\n",
    "        cat.append(i)\n",
    "    else:\n",
    "        num.append(i)"
   ],
   "metadata": {
    "collapsed": false,
    "ExecuteTime": {
     "end_time": "2024-03-25T21:48:52.737095Z",
     "start_time": "2024-03-25T21:48:52.731090Z"
    }
   },
   "id": "157f32939e8ab2a3",
   "execution_count": 23
  },
  {
   "cell_type": "code",
   "outputs": [
    {
     "data": {
      "text/plain": "        driver_code nationality     name    status     driver_name\n0               HAM     British  McLaren  Finished  Lewis Hamilton\n1               HAM     British  McLaren  Finished  Lewis Hamilton\n2               HAM     British  McLaren  Finished  Lewis Hamilton\n3               HAM     British  McLaren  Finished  Lewis Hamilton\n4               HAM     British  McLaren  Finished  Lewis Hamilton\n...             ...         ...      ...       ...             ...\n3537622          \\N    American    Deidt  +20 Laps    Duane Carter\n3537623          \\N    American    Deidt  +20 Laps    Duane Carter\n3537624          \\N    American    Deidt  +20 Laps    Duane Carter\n3537625          \\N    American    Deidt  +20 Laps    Duane Carter\n3537626          \\N    American    Deidt  +20 Laps    Duane Carter\n\n[3537627 rows x 5 columns]",
      "text/html": "<div>\n<style scoped>\n    .dataframe tbody tr th:only-of-type {\n        vertical-align: middle;\n    }\n\n    .dataframe tbody tr th {\n        vertical-align: top;\n    }\n\n    .dataframe thead th {\n        text-align: right;\n    }\n</style>\n<table border=\"1\" class=\"dataframe\">\n  <thead>\n    <tr style=\"text-align: right;\">\n      <th></th>\n      <th>driver_code</th>\n      <th>nationality</th>\n      <th>name</th>\n      <th>status</th>\n      <th>driver_name</th>\n    </tr>\n  </thead>\n  <tbody>\n    <tr>\n      <th>0</th>\n      <td>HAM</td>\n      <td>British</td>\n      <td>McLaren</td>\n      <td>Finished</td>\n      <td>Lewis Hamilton</td>\n    </tr>\n    <tr>\n      <th>1</th>\n      <td>HAM</td>\n      <td>British</td>\n      <td>McLaren</td>\n      <td>Finished</td>\n      <td>Lewis Hamilton</td>\n    </tr>\n    <tr>\n      <th>2</th>\n      <td>HAM</td>\n      <td>British</td>\n      <td>McLaren</td>\n      <td>Finished</td>\n      <td>Lewis Hamilton</td>\n    </tr>\n    <tr>\n      <th>3</th>\n      <td>HAM</td>\n      <td>British</td>\n      <td>McLaren</td>\n      <td>Finished</td>\n      <td>Lewis Hamilton</td>\n    </tr>\n    <tr>\n      <th>4</th>\n      <td>HAM</td>\n      <td>British</td>\n      <td>McLaren</td>\n      <td>Finished</td>\n      <td>Lewis Hamilton</td>\n    </tr>\n    <tr>\n      <th>...</th>\n      <td>...</td>\n      <td>...</td>\n      <td>...</td>\n      <td>...</td>\n      <td>...</td>\n    </tr>\n    <tr>\n      <th>3537622</th>\n      <td>\\N</td>\n      <td>American</td>\n      <td>Deidt</td>\n      <td>+20 Laps</td>\n      <td>Duane Carter</td>\n    </tr>\n    <tr>\n      <th>3537623</th>\n      <td>\\N</td>\n      <td>American</td>\n      <td>Deidt</td>\n      <td>+20 Laps</td>\n      <td>Duane Carter</td>\n    </tr>\n    <tr>\n      <th>3537624</th>\n      <td>\\N</td>\n      <td>American</td>\n      <td>Deidt</td>\n      <td>+20 Laps</td>\n      <td>Duane Carter</td>\n    </tr>\n    <tr>\n      <th>3537625</th>\n      <td>\\N</td>\n      <td>American</td>\n      <td>Deidt</td>\n      <td>+20 Laps</td>\n      <td>Duane Carter</td>\n    </tr>\n    <tr>\n      <th>3537626</th>\n      <td>\\N</td>\n      <td>American</td>\n      <td>Deidt</td>\n      <td>+20 Laps</td>\n      <td>Duane Carter</td>\n    </tr>\n  </tbody>\n</table>\n<p>3537627 rows × 5 columns</p>\n</div>"
     },
     "execution_count": 29,
     "metadata": {},
     "output_type": "execute_result"
    }
   ],
   "source": [
    "df[cat]"
   ],
   "metadata": {
    "collapsed": false,
    "ExecuteTime": {
     "end_time": "2024-03-25T21:52:35.878369Z",
     "start_time": "2024-03-25T21:52:35.689421Z"
    }
   },
   "id": "66115145f28575a",
   "execution_count": 29
  },
  {
   "cell_type": "code",
   "outputs": [
    {
     "data": {
      "text/plain": "   resultId  racerId  driverId  constructorId  number  grid  positionOrder  \\\n0         1       18         1              1    22.0     1              1   \n1         1       18         1              1    22.0     1              1   \n2         1       18         1              1    22.0     1              1   \n3         1       18         1              1    22.0     1              1   \n4         1       18         1              1    22.0     1              1   \n\n   points  laps  timetaken_in_millisec  fastestLap  rank  max_speed  statusId  \\\n0    10.0    58              5690616.0        39.0   2.0      218.3         1   \n1    10.0    58              5690616.0        39.0   2.0      218.3         1   \n2    10.0    58              5690616.0        39.0   2.0      218.3         1   \n3    10.0    58              5690616.0        39.0   2.0      218.3         1   \n4    10.0    58              5690616.0        39.0   2.0      218.3         1   \n\n         dob  driverStandingsId  position  wins   age  \n0 1985-01-07                  1         1     1  39.0  \n1 1985-01-07                  9         1     1  39.0  \n2 1985-01-07                 27         3     1  39.0  \n3 1985-01-07                 48         2     1  39.0  \n4 1985-01-07                 69         3     1  39.0  ",
      "text/html": "<div>\n<style scoped>\n    .dataframe tbody tr th:only-of-type {\n        vertical-align: middle;\n    }\n\n    .dataframe tbody tr th {\n        vertical-align: top;\n    }\n\n    .dataframe thead th {\n        text-align: right;\n    }\n</style>\n<table border=\"1\" class=\"dataframe\">\n  <thead>\n    <tr style=\"text-align: right;\">\n      <th></th>\n      <th>resultId</th>\n      <th>racerId</th>\n      <th>driverId</th>\n      <th>constructorId</th>\n      <th>number</th>\n      <th>grid</th>\n      <th>positionOrder</th>\n      <th>points</th>\n      <th>laps</th>\n      <th>timetaken_in_millisec</th>\n      <th>fastestLap</th>\n      <th>rank</th>\n      <th>max_speed</th>\n      <th>statusId</th>\n      <th>dob</th>\n      <th>driverStandingsId</th>\n      <th>position</th>\n      <th>wins</th>\n      <th>age</th>\n    </tr>\n  </thead>\n  <tbody>\n    <tr>\n      <th>0</th>\n      <td>1</td>\n      <td>18</td>\n      <td>1</td>\n      <td>1</td>\n      <td>22.0</td>\n      <td>1</td>\n      <td>1</td>\n      <td>10.0</td>\n      <td>58</td>\n      <td>5690616.0</td>\n      <td>39.0</td>\n      <td>2.0</td>\n      <td>218.3</td>\n      <td>1</td>\n      <td>1985-01-07</td>\n      <td>1</td>\n      <td>1</td>\n      <td>1</td>\n      <td>39.0</td>\n    </tr>\n    <tr>\n      <th>1</th>\n      <td>1</td>\n      <td>18</td>\n      <td>1</td>\n      <td>1</td>\n      <td>22.0</td>\n      <td>1</td>\n      <td>1</td>\n      <td>10.0</td>\n      <td>58</td>\n      <td>5690616.0</td>\n      <td>39.0</td>\n      <td>2.0</td>\n      <td>218.3</td>\n      <td>1</td>\n      <td>1985-01-07</td>\n      <td>9</td>\n      <td>1</td>\n      <td>1</td>\n      <td>39.0</td>\n    </tr>\n    <tr>\n      <th>2</th>\n      <td>1</td>\n      <td>18</td>\n      <td>1</td>\n      <td>1</td>\n      <td>22.0</td>\n      <td>1</td>\n      <td>1</td>\n      <td>10.0</td>\n      <td>58</td>\n      <td>5690616.0</td>\n      <td>39.0</td>\n      <td>2.0</td>\n      <td>218.3</td>\n      <td>1</td>\n      <td>1985-01-07</td>\n      <td>27</td>\n      <td>3</td>\n      <td>1</td>\n      <td>39.0</td>\n    </tr>\n    <tr>\n      <th>3</th>\n      <td>1</td>\n      <td>18</td>\n      <td>1</td>\n      <td>1</td>\n      <td>22.0</td>\n      <td>1</td>\n      <td>1</td>\n      <td>10.0</td>\n      <td>58</td>\n      <td>5690616.0</td>\n      <td>39.0</td>\n      <td>2.0</td>\n      <td>218.3</td>\n      <td>1</td>\n      <td>1985-01-07</td>\n      <td>48</td>\n      <td>2</td>\n      <td>1</td>\n      <td>39.0</td>\n    </tr>\n    <tr>\n      <th>4</th>\n      <td>1</td>\n      <td>18</td>\n      <td>1</td>\n      <td>1</td>\n      <td>22.0</td>\n      <td>1</td>\n      <td>1</td>\n      <td>10.0</td>\n      <td>58</td>\n      <td>5690616.0</td>\n      <td>39.0</td>\n      <td>2.0</td>\n      <td>218.3</td>\n      <td>1</td>\n      <td>1985-01-07</td>\n      <td>69</td>\n      <td>3</td>\n      <td>1</td>\n      <td>39.0</td>\n    </tr>\n  </tbody>\n</table>\n</div>"
     },
     "execution_count": 25,
     "metadata": {},
     "output_type": "execute_result"
    }
   ],
   "source": [
    "df[num].head()"
   ],
   "metadata": {
    "collapsed": false,
    "ExecuteTime": {
     "end_time": "2024-03-25T21:49:16.746206Z",
     "start_time": "2024-03-25T21:49:16.225704Z"
    }
   },
   "id": "2a0e60c8385742b7",
   "execution_count": 25
  },
  {
   "cell_type": "code",
   "outputs": [
    {
     "data": {
      "text/plain": "resultId                  0.000000\nracerId                   0.000000\ndriverId                  0.000000\nconstructorId             0.000000\nnumber                    0.004523\ngrid                      0.000000\npositionOrder             0.000000\npoints                    0.000000\nlaps                      0.000000\ntimetaken_in_millisec    61.421936\nfastestLap               60.511100\nrank                     59.513764\nmax_speed                60.511100\nstatusId                  0.000000\ndriver_code               0.000000\ndob                       0.000000\nnationality               0.000000\ndriverStandingsId         0.000000\nposition                  0.000000\nwins                      0.000000\nname                      0.000000\nstatus                    0.000000\ndriver_name               0.000000\nage                       0.000000\ndtype: float64"
     },
     "execution_count": 26,
     "metadata": {},
     "output_type": "execute_result"
    }
   ],
   "source": [
    "df.isnull().sum() / len(df) * 100\n"
   ],
   "metadata": {
    "collapsed": false,
    "ExecuteTime": {
     "end_time": "2024-03-25T21:50:37.336146Z",
     "start_time": "2024-03-25T21:50:36.642889Z"
    }
   },
   "id": "6585d79160113cca",
   "execution_count": 26
  },
  {
   "cell_type": "code",
   "outputs": [],
   "source": [
    "df[['rank','fastestLap']] = df[['rank','fastestLap']].fillna(0)\n",
    "df['timetaken_in_millisec'] = df['timetaken_in_millisec'].fillna(df['timetaken_in_millisec'].mean())\n",
    "df['max_speed']= df['max_speed'].fillna(df['max_speed'].mean())\n",
    "df['number'] = df['number'].fillna(0)"
   ],
   "metadata": {
    "collapsed": false,
    "ExecuteTime": {
     "end_time": "2024-03-25T21:51:34.821306Z",
     "start_time": "2024-03-25T21:51:34.614651Z"
    }
   },
   "id": "5acfdcc50f0d7c94",
   "execution_count": 27
  },
  {
   "cell_type": "code",
   "outputs": [
    {
     "data": {
      "text/plain": "resultId                 0.0\nracerId                  0.0\ndriverId                 0.0\nconstructorId            0.0\nnumber                   0.0\ngrid                     0.0\npositionOrder            0.0\npoints                   0.0\nlaps                     0.0\ntimetaken_in_millisec    0.0\nfastestLap               0.0\nrank                     0.0\nmax_speed                0.0\nstatusId                 0.0\ndriver_code              0.0\ndob                      0.0\nnationality              0.0\ndriverStandingsId        0.0\nposition                 0.0\nwins                     0.0\nname                     0.0\nstatus                   0.0\ndriver_name              0.0\nage                      0.0\ndtype: float64"
     },
     "execution_count": 28,
     "metadata": {},
     "output_type": "execute_result"
    }
   ],
   "source": [
    "df.isnull().sum() / len(df) * 100"
   ],
   "metadata": {
    "collapsed": false,
    "ExecuteTime": {
     "end_time": "2024-03-25T21:51:46.012211Z",
     "start_time": "2024-03-25T21:51:45.424268Z"
    }
   },
   "id": "55535f219bc99639",
   "execution_count": 28
  },
  {
   "cell_type": "code",
   "outputs": [
    {
     "data": {
      "text/plain": "         resultId  racerId  driverId  constructorId  number  grid  \\\n1363657     23346      967       839            209    31.0    22   \n1363658     23346      967       839            209    31.0    22   \n1363659     23346      967       839            209    31.0    22   \n1363660     23346      967       839            209    31.0    22   \n1363661     23346      967       839            209    31.0    22   \n\n         positionOrder  points  laps  timetaken_in_millisec  fastestLap  rank  \\\n1363657             12     0.0    71             10907144.0        47.0  16.0   \n1363658             12     0.0    71             10907144.0        47.0  16.0   \n1363659             12     0.0    71             10907144.0        47.0  16.0   \n1363660             12     0.0    71             10907144.0        47.0  16.0   \n1363661             12     0.0    71             10907144.0        47.0  16.0   \n\n         max_speed  statusId driver_code        dob nationality  \\\n1363657    176.686         1         OCO 1996-09-17      French   \n1363658    176.686         1         OCO 1996-09-17      French   \n1363659    176.686         1         OCO 1996-09-17      French   \n1363660    176.686         1         OCO 1996-09-17      French   \n1363661    176.686         1         OCO 1996-09-17      French   \n\n         driverStandingsId  position  wins            name    status  \\\n1363657              72083         9     0  Manor Marussia  Finished   \n1363658              72123         9     0  Manor Marussia  Finished   \n1363659              72143        10     0  Manor Marussia  Finished   \n1363660              72163        10     0  Manor Marussia  Finished   \n1363661              72184        10     0  Manor Marussia  Finished   \n\n          driver_name   age  \n1363657  Esteban Ocon  28.0  \n1363658  Esteban Ocon  28.0  \n1363659  Esteban Ocon  28.0  \n1363660  Esteban Ocon  28.0  \n1363661  Esteban Ocon  28.0  ",
      "text/html": "<div>\n<style scoped>\n    .dataframe tbody tr th:only-of-type {\n        vertical-align: middle;\n    }\n\n    .dataframe tbody tr th {\n        vertical-align: top;\n    }\n\n    .dataframe thead th {\n        text-align: right;\n    }\n</style>\n<table border=\"1\" class=\"dataframe\">\n  <thead>\n    <tr style=\"text-align: right;\">\n      <th></th>\n      <th>resultId</th>\n      <th>racerId</th>\n      <th>driverId</th>\n      <th>constructorId</th>\n      <th>number</th>\n      <th>grid</th>\n      <th>positionOrder</th>\n      <th>points</th>\n      <th>laps</th>\n      <th>timetaken_in_millisec</th>\n      <th>fastestLap</th>\n      <th>rank</th>\n      <th>max_speed</th>\n      <th>statusId</th>\n      <th>driver_code</th>\n      <th>dob</th>\n      <th>nationality</th>\n      <th>driverStandingsId</th>\n      <th>position</th>\n      <th>wins</th>\n      <th>name</th>\n      <th>status</th>\n      <th>driver_name</th>\n      <th>age</th>\n    </tr>\n  </thead>\n  <tbody>\n    <tr>\n      <th>1363657</th>\n      <td>23346</td>\n      <td>967</td>\n      <td>839</td>\n      <td>209</td>\n      <td>31.0</td>\n      <td>22</td>\n      <td>12</td>\n      <td>0.0</td>\n      <td>71</td>\n      <td>10907144.0</td>\n      <td>47.0</td>\n      <td>16.0</td>\n      <td>176.686</td>\n      <td>1</td>\n      <td>OCO</td>\n      <td>1996-09-17</td>\n      <td>French</td>\n      <td>72083</td>\n      <td>9</td>\n      <td>0</td>\n      <td>Manor Marussia</td>\n      <td>Finished</td>\n      <td>Esteban Ocon</td>\n      <td>28.0</td>\n    </tr>\n    <tr>\n      <th>1363658</th>\n      <td>23346</td>\n      <td>967</td>\n      <td>839</td>\n      <td>209</td>\n      <td>31.0</td>\n      <td>22</td>\n      <td>12</td>\n      <td>0.0</td>\n      <td>71</td>\n      <td>10907144.0</td>\n      <td>47.0</td>\n      <td>16.0</td>\n      <td>176.686</td>\n      <td>1</td>\n      <td>OCO</td>\n      <td>1996-09-17</td>\n      <td>French</td>\n      <td>72123</td>\n      <td>9</td>\n      <td>0</td>\n      <td>Manor Marussia</td>\n      <td>Finished</td>\n      <td>Esteban Ocon</td>\n      <td>28.0</td>\n    </tr>\n    <tr>\n      <th>1363659</th>\n      <td>23346</td>\n      <td>967</td>\n      <td>839</td>\n      <td>209</td>\n      <td>31.0</td>\n      <td>22</td>\n      <td>12</td>\n      <td>0.0</td>\n      <td>71</td>\n      <td>10907144.0</td>\n      <td>47.0</td>\n      <td>16.0</td>\n      <td>176.686</td>\n      <td>1</td>\n      <td>OCO</td>\n      <td>1996-09-17</td>\n      <td>French</td>\n      <td>72143</td>\n      <td>10</td>\n      <td>0</td>\n      <td>Manor Marussia</td>\n      <td>Finished</td>\n      <td>Esteban Ocon</td>\n      <td>28.0</td>\n    </tr>\n    <tr>\n      <th>1363660</th>\n      <td>23346</td>\n      <td>967</td>\n      <td>839</td>\n      <td>209</td>\n      <td>31.0</td>\n      <td>22</td>\n      <td>12</td>\n      <td>0.0</td>\n      <td>71</td>\n      <td>10907144.0</td>\n      <td>47.0</td>\n      <td>16.0</td>\n      <td>176.686</td>\n      <td>1</td>\n      <td>OCO</td>\n      <td>1996-09-17</td>\n      <td>French</td>\n      <td>72163</td>\n      <td>10</td>\n      <td>0</td>\n      <td>Manor Marussia</td>\n      <td>Finished</td>\n      <td>Esteban Ocon</td>\n      <td>28.0</td>\n    </tr>\n    <tr>\n      <th>1363661</th>\n      <td>23346</td>\n      <td>967</td>\n      <td>839</td>\n      <td>209</td>\n      <td>31.0</td>\n      <td>22</td>\n      <td>12</td>\n      <td>0.0</td>\n      <td>71</td>\n      <td>10907144.0</td>\n      <td>47.0</td>\n      <td>16.0</td>\n      <td>176.686</td>\n      <td>1</td>\n      <td>OCO</td>\n      <td>1996-09-17</td>\n      <td>French</td>\n      <td>72184</td>\n      <td>10</td>\n      <td>0</td>\n      <td>Manor Marussia</td>\n      <td>Finished</td>\n      <td>Esteban Ocon</td>\n      <td>28.0</td>\n    </tr>\n  </tbody>\n</table>\n</div>"
     },
     "execution_count": 30,
     "metadata": {},
     "output_type": "execute_result"
    }
   ],
   "source": [
    "df_filtered = df[df['status'] == \"Finished\"]\n",
    "df_filtered.tail()"
   ],
   "metadata": {
    "collapsed": false,
    "ExecuteTime": {
     "end_time": "2024-03-25T22:17:51.388792Z",
     "start_time": "2024-03-25T22:17:50.932279Z"
    }
   },
   "id": "15e0904ed3ff5211",
   "execution_count": 30
  },
  {
   "cell_type": "code",
   "outputs": [
    {
     "data": {
      "text/plain": "   resultId  racerId  driverId  constructorId  number  grid  positionOrder  \\\n0         1       18         1              1    22.0     1              1   \n1         1       18         1              1    22.0     1              1   \n2         1       18         1              1    22.0     1              1   \n3         1       18         1              1    22.0     1              1   \n4         1       18         1              1    22.0     1              1   \n\n   points  laps  timetaken_in_millisec  fastestLap  rank  max_speed  statusId  \\\n0    10.0    58              5690616.0        39.0   2.0      218.3         1   \n1    10.0    58              5690616.0        39.0   2.0      218.3         1   \n2    10.0    58              5690616.0        39.0   2.0      218.3         1   \n3    10.0    58              5690616.0        39.0   2.0      218.3         1   \n4    10.0    58              5690616.0        39.0   2.0      218.3         1   \n\n  driver_code        dob nationality  driverStandingsId  position  wins  \\\n0         HAM 1985-01-07     British                  1         1     1   \n1         HAM 1985-01-07     British                  9         1     1   \n2         HAM 1985-01-07     British                 27         3     1   \n3         HAM 1985-01-07     British                 48         2     1   \n4         HAM 1985-01-07     British                 69         3     1   \n\n      name    status     driver_name   age  \n0  McLaren  Finished  Lewis Hamilton  39.0  \n1  McLaren  Finished  Lewis Hamilton  39.0  \n2  McLaren  Finished  Lewis Hamilton  39.0  \n3  McLaren  Finished  Lewis Hamilton  39.0  \n4  McLaren  Finished  Lewis Hamilton  39.0  ",
      "text/html": "<div>\n<style scoped>\n    .dataframe tbody tr th:only-of-type {\n        vertical-align: middle;\n    }\n\n    .dataframe tbody tr th {\n        vertical-align: top;\n    }\n\n    .dataframe thead th {\n        text-align: right;\n    }\n</style>\n<table border=\"1\" class=\"dataframe\">\n  <thead>\n    <tr style=\"text-align: right;\">\n      <th></th>\n      <th>resultId</th>\n      <th>racerId</th>\n      <th>driverId</th>\n      <th>constructorId</th>\n      <th>number</th>\n      <th>grid</th>\n      <th>positionOrder</th>\n      <th>points</th>\n      <th>laps</th>\n      <th>timetaken_in_millisec</th>\n      <th>fastestLap</th>\n      <th>rank</th>\n      <th>max_speed</th>\n      <th>statusId</th>\n      <th>driver_code</th>\n      <th>dob</th>\n      <th>nationality</th>\n      <th>driverStandingsId</th>\n      <th>position</th>\n      <th>wins</th>\n      <th>name</th>\n      <th>status</th>\n      <th>driver_name</th>\n      <th>age</th>\n    </tr>\n  </thead>\n  <tbody>\n    <tr>\n      <th>0</th>\n      <td>1</td>\n      <td>18</td>\n      <td>1</td>\n      <td>1</td>\n      <td>22.0</td>\n      <td>1</td>\n      <td>1</td>\n      <td>10.0</td>\n      <td>58</td>\n      <td>5690616.0</td>\n      <td>39.0</td>\n      <td>2.0</td>\n      <td>218.3</td>\n      <td>1</td>\n      <td>HAM</td>\n      <td>1985-01-07</td>\n      <td>British</td>\n      <td>1</td>\n      <td>1</td>\n      <td>1</td>\n      <td>McLaren</td>\n      <td>Finished</td>\n      <td>Lewis Hamilton</td>\n      <td>39.0</td>\n    </tr>\n    <tr>\n      <th>1</th>\n      <td>1</td>\n      <td>18</td>\n      <td>1</td>\n      <td>1</td>\n      <td>22.0</td>\n      <td>1</td>\n      <td>1</td>\n      <td>10.0</td>\n      <td>58</td>\n      <td>5690616.0</td>\n      <td>39.0</td>\n      <td>2.0</td>\n      <td>218.3</td>\n      <td>1</td>\n      <td>HAM</td>\n      <td>1985-01-07</td>\n      <td>British</td>\n      <td>9</td>\n      <td>1</td>\n      <td>1</td>\n      <td>McLaren</td>\n      <td>Finished</td>\n      <td>Lewis Hamilton</td>\n      <td>39.0</td>\n    </tr>\n    <tr>\n      <th>2</th>\n      <td>1</td>\n      <td>18</td>\n      <td>1</td>\n      <td>1</td>\n      <td>22.0</td>\n      <td>1</td>\n      <td>1</td>\n      <td>10.0</td>\n      <td>58</td>\n      <td>5690616.0</td>\n      <td>39.0</td>\n      <td>2.0</td>\n      <td>218.3</td>\n      <td>1</td>\n      <td>HAM</td>\n      <td>1985-01-07</td>\n      <td>British</td>\n      <td>27</td>\n      <td>3</td>\n      <td>1</td>\n      <td>McLaren</td>\n      <td>Finished</td>\n      <td>Lewis Hamilton</td>\n      <td>39.0</td>\n    </tr>\n    <tr>\n      <th>3</th>\n      <td>1</td>\n      <td>18</td>\n      <td>1</td>\n      <td>1</td>\n      <td>22.0</td>\n      <td>1</td>\n      <td>1</td>\n      <td>10.0</td>\n      <td>58</td>\n      <td>5690616.0</td>\n      <td>39.0</td>\n      <td>2.0</td>\n      <td>218.3</td>\n      <td>1</td>\n      <td>HAM</td>\n      <td>1985-01-07</td>\n      <td>British</td>\n      <td>48</td>\n      <td>2</td>\n      <td>1</td>\n      <td>McLaren</td>\n      <td>Finished</td>\n      <td>Lewis Hamilton</td>\n      <td>39.0</td>\n    </tr>\n    <tr>\n      <th>4</th>\n      <td>1</td>\n      <td>18</td>\n      <td>1</td>\n      <td>1</td>\n      <td>22.0</td>\n      <td>1</td>\n      <td>1</td>\n      <td>10.0</td>\n      <td>58</td>\n      <td>5690616.0</td>\n      <td>39.0</td>\n      <td>2.0</td>\n      <td>218.3</td>\n      <td>1</td>\n      <td>HAM</td>\n      <td>1985-01-07</td>\n      <td>British</td>\n      <td>69</td>\n      <td>3</td>\n      <td>1</td>\n      <td>McLaren</td>\n      <td>Finished</td>\n      <td>Lewis Hamilton</td>\n      <td>39.0</td>\n    </tr>\n  </tbody>\n</table>\n</div>"
     },
     "execution_count": 32,
     "metadata": {},
     "output_type": "execute_result"
    }
   ],
   "source": [
    "mean_maxSpeed = df.max_speed.mean()\n",
    "mean_fastestLap = df.fastestLap.mean()\n",
    "df = df_filtered[df_filtered['max_speed']>mean_maxSpeed]\n",
    "df.head()"
   ],
   "metadata": {
    "collapsed": false,
    "ExecuteTime": {
     "end_time": "2024-03-25T22:20:20.347090Z",
     "start_time": "2024-03-25T22:20:20.278223Z"
    }
   },
   "id": "bfd747b14390c714",
   "execution_count": 32
  },
  {
   "cell_type": "code",
   "outputs": [
    {
     "data": {
      "text/plain": "         resultId  racerId  driverId  constructorId  number  grid  \\\n0               1       18         1              1    22.0     1   \n1               1       18         1              1    22.0     1   \n2               1       18         1              1    22.0     1   \n3               1       18         1              1    22.0     1   \n4               1       18         1              1    22.0     1   \n...           ...      ...       ...            ...     ...   ...   \n1363488     26042     1108       856            213    21.0    18   \n1363489     26042     1108       856            213    21.0    18   \n1363490     26042     1108       856            213    21.0    18   \n1363491     26042     1108       856            213    21.0    18   \n1363492     26042     1108       856            213    21.0    18   \n\n         positionOrder  points  laps  timetaken_in_millisec  fastestLap  rank  \\\n0                    1    10.0    58              5690616.0        39.0   2.0   \n1                    1    10.0    58              5690616.0        39.0   2.0   \n2                    1    10.0    58              5690616.0        39.0   2.0   \n3                    1    10.0    58              5690616.0        39.0   2.0   \n4                    1    10.0    58              5690616.0        39.0   2.0   \n...                ...     ...   ...                    ...         ...   ...   \n1363488             17     0.0    52              5150066.0        48.0  18.0   \n1363489             17     0.0    52              5150066.0        48.0  18.0   \n1363490             17     0.0    52              5150066.0        48.0  18.0   \n1363491             17     0.0    52              5150066.0        48.0  18.0   \n1363492             17     0.0    52              5150066.0        48.0  18.0   \n\n         max_speed  statusId driver_code        dob nationality  \\\n0          218.300         1         HAM 1985-01-07     British   \n1          218.300         1         HAM 1985-01-07     British   \n2          218.300         1         HAM 1985-01-07     British   \n3          218.300         1         HAM 1985-01-07     British   \n4          218.300         1         HAM 1985-01-07     British   \n...            ...       ...         ...        ...         ...   \n1363488    229.636         1         DEV 1995-02-06       Dutch   \n1363489    229.636         1         DEV 1995-02-06       Dutch   \n1363490    229.636         1         DEV 1995-02-06       Dutch   \n1363491    229.636         1         DEV 1995-02-06       Dutch   \n1363492    229.636         1         DEV 1995-02-06       Dutch   \n\n         driverStandingsId  position  wins        name    status  \\\n0                        1         1     1     McLaren  Finished   \n1                        9         1     1     McLaren  Finished   \n2                       27         3     1     McLaren  Finished   \n3                       48         2     1     McLaren  Finished   \n4                       69         3     1     McLaren  Finished   \n...                    ...       ...   ...         ...       ...   \n1363488              72079        19     0  AlphaTauri  Finished   \n1363489              72119        20     0  AlphaTauri  Finished   \n1363490              72139        20     0  AlphaTauri  Finished   \n1363491              72159        20     0  AlphaTauri  Finished   \n1363492              72180        20     0  AlphaTauri  Finished   \n\n            driver_name   age  \n0        Lewis Hamilton  39.0  \n1        Lewis Hamilton  39.0  \n2        Lewis Hamilton  39.0  \n3        Lewis Hamilton  39.0  \n4        Lewis Hamilton  39.0  \n...                 ...   ...  \n1363488   Nyck de Vries  29.0  \n1363489   Nyck de Vries  29.0  \n1363490   Nyck de Vries  29.0  \n1363491   Nyck de Vries  29.0  \n1363492   Nyck de Vries  29.0  \n\n[300099 rows x 24 columns]",
      "text/html": "<div>\n<style scoped>\n    .dataframe tbody tr th:only-of-type {\n        vertical-align: middle;\n    }\n\n    .dataframe tbody tr th {\n        vertical-align: top;\n    }\n\n    .dataframe thead th {\n        text-align: right;\n    }\n</style>\n<table border=\"1\" class=\"dataframe\">\n  <thead>\n    <tr style=\"text-align: right;\">\n      <th></th>\n      <th>resultId</th>\n      <th>racerId</th>\n      <th>driverId</th>\n      <th>constructorId</th>\n      <th>number</th>\n      <th>grid</th>\n      <th>positionOrder</th>\n      <th>points</th>\n      <th>laps</th>\n      <th>timetaken_in_millisec</th>\n      <th>fastestLap</th>\n      <th>rank</th>\n      <th>max_speed</th>\n      <th>statusId</th>\n      <th>driver_code</th>\n      <th>dob</th>\n      <th>nationality</th>\n      <th>driverStandingsId</th>\n      <th>position</th>\n      <th>wins</th>\n      <th>name</th>\n      <th>status</th>\n      <th>driver_name</th>\n      <th>age</th>\n    </tr>\n  </thead>\n  <tbody>\n    <tr>\n      <th>0</th>\n      <td>1</td>\n      <td>18</td>\n      <td>1</td>\n      <td>1</td>\n      <td>22.0</td>\n      <td>1</td>\n      <td>1</td>\n      <td>10.0</td>\n      <td>58</td>\n      <td>5690616.0</td>\n      <td>39.0</td>\n      <td>2.0</td>\n      <td>218.300</td>\n      <td>1</td>\n      <td>HAM</td>\n      <td>1985-01-07</td>\n      <td>British</td>\n      <td>1</td>\n      <td>1</td>\n      <td>1</td>\n      <td>McLaren</td>\n      <td>Finished</td>\n      <td>Lewis Hamilton</td>\n      <td>39.0</td>\n    </tr>\n    <tr>\n      <th>1</th>\n      <td>1</td>\n      <td>18</td>\n      <td>1</td>\n      <td>1</td>\n      <td>22.0</td>\n      <td>1</td>\n      <td>1</td>\n      <td>10.0</td>\n      <td>58</td>\n      <td>5690616.0</td>\n      <td>39.0</td>\n      <td>2.0</td>\n      <td>218.300</td>\n      <td>1</td>\n      <td>HAM</td>\n      <td>1985-01-07</td>\n      <td>British</td>\n      <td>9</td>\n      <td>1</td>\n      <td>1</td>\n      <td>McLaren</td>\n      <td>Finished</td>\n      <td>Lewis Hamilton</td>\n      <td>39.0</td>\n    </tr>\n    <tr>\n      <th>2</th>\n      <td>1</td>\n      <td>18</td>\n      <td>1</td>\n      <td>1</td>\n      <td>22.0</td>\n      <td>1</td>\n      <td>1</td>\n      <td>10.0</td>\n      <td>58</td>\n      <td>5690616.0</td>\n      <td>39.0</td>\n      <td>2.0</td>\n      <td>218.300</td>\n      <td>1</td>\n      <td>HAM</td>\n      <td>1985-01-07</td>\n      <td>British</td>\n      <td>27</td>\n      <td>3</td>\n      <td>1</td>\n      <td>McLaren</td>\n      <td>Finished</td>\n      <td>Lewis Hamilton</td>\n      <td>39.0</td>\n    </tr>\n    <tr>\n      <th>3</th>\n      <td>1</td>\n      <td>18</td>\n      <td>1</td>\n      <td>1</td>\n      <td>22.0</td>\n      <td>1</td>\n      <td>1</td>\n      <td>10.0</td>\n      <td>58</td>\n      <td>5690616.0</td>\n      <td>39.0</td>\n      <td>2.0</td>\n      <td>218.300</td>\n      <td>1</td>\n      <td>HAM</td>\n      <td>1985-01-07</td>\n      <td>British</td>\n      <td>48</td>\n      <td>2</td>\n      <td>1</td>\n      <td>McLaren</td>\n      <td>Finished</td>\n      <td>Lewis Hamilton</td>\n      <td>39.0</td>\n    </tr>\n    <tr>\n      <th>4</th>\n      <td>1</td>\n      <td>18</td>\n      <td>1</td>\n      <td>1</td>\n      <td>22.0</td>\n      <td>1</td>\n      <td>1</td>\n      <td>10.0</td>\n      <td>58</td>\n      <td>5690616.0</td>\n      <td>39.0</td>\n      <td>2.0</td>\n      <td>218.300</td>\n      <td>1</td>\n      <td>HAM</td>\n      <td>1985-01-07</td>\n      <td>British</td>\n      <td>69</td>\n      <td>3</td>\n      <td>1</td>\n      <td>McLaren</td>\n      <td>Finished</td>\n      <td>Lewis Hamilton</td>\n      <td>39.0</td>\n    </tr>\n    <tr>\n      <th>...</th>\n      <td>...</td>\n      <td>...</td>\n      <td>...</td>\n      <td>...</td>\n      <td>...</td>\n      <td>...</td>\n      <td>...</td>\n      <td>...</td>\n      <td>...</td>\n      <td>...</td>\n      <td>...</td>\n      <td>...</td>\n      <td>...</td>\n      <td>...</td>\n      <td>...</td>\n      <td>...</td>\n      <td>...</td>\n      <td>...</td>\n      <td>...</td>\n      <td>...</td>\n      <td>...</td>\n      <td>...</td>\n      <td>...</td>\n      <td>...</td>\n    </tr>\n    <tr>\n      <th>1363488</th>\n      <td>26042</td>\n      <td>1108</td>\n      <td>856</td>\n      <td>213</td>\n      <td>21.0</td>\n      <td>18</td>\n      <td>17</td>\n      <td>0.0</td>\n      <td>52</td>\n      <td>5150066.0</td>\n      <td>48.0</td>\n      <td>18.0</td>\n      <td>229.636</td>\n      <td>1</td>\n      <td>DEV</td>\n      <td>1995-02-06</td>\n      <td>Dutch</td>\n      <td>72079</td>\n      <td>19</td>\n      <td>0</td>\n      <td>AlphaTauri</td>\n      <td>Finished</td>\n      <td>Nyck de Vries</td>\n      <td>29.0</td>\n    </tr>\n    <tr>\n      <th>1363489</th>\n      <td>26042</td>\n      <td>1108</td>\n      <td>856</td>\n      <td>213</td>\n      <td>21.0</td>\n      <td>18</td>\n      <td>17</td>\n      <td>0.0</td>\n      <td>52</td>\n      <td>5150066.0</td>\n      <td>48.0</td>\n      <td>18.0</td>\n      <td>229.636</td>\n      <td>1</td>\n      <td>DEV</td>\n      <td>1995-02-06</td>\n      <td>Dutch</td>\n      <td>72119</td>\n      <td>20</td>\n      <td>0</td>\n      <td>AlphaTauri</td>\n      <td>Finished</td>\n      <td>Nyck de Vries</td>\n      <td>29.0</td>\n    </tr>\n    <tr>\n      <th>1363490</th>\n      <td>26042</td>\n      <td>1108</td>\n      <td>856</td>\n      <td>213</td>\n      <td>21.0</td>\n      <td>18</td>\n      <td>17</td>\n      <td>0.0</td>\n      <td>52</td>\n      <td>5150066.0</td>\n      <td>48.0</td>\n      <td>18.0</td>\n      <td>229.636</td>\n      <td>1</td>\n      <td>DEV</td>\n      <td>1995-02-06</td>\n      <td>Dutch</td>\n      <td>72139</td>\n      <td>20</td>\n      <td>0</td>\n      <td>AlphaTauri</td>\n      <td>Finished</td>\n      <td>Nyck de Vries</td>\n      <td>29.0</td>\n    </tr>\n    <tr>\n      <th>1363491</th>\n      <td>26042</td>\n      <td>1108</td>\n      <td>856</td>\n      <td>213</td>\n      <td>21.0</td>\n      <td>18</td>\n      <td>17</td>\n      <td>0.0</td>\n      <td>52</td>\n      <td>5150066.0</td>\n      <td>48.0</td>\n      <td>18.0</td>\n      <td>229.636</td>\n      <td>1</td>\n      <td>DEV</td>\n      <td>1995-02-06</td>\n      <td>Dutch</td>\n      <td>72159</td>\n      <td>20</td>\n      <td>0</td>\n      <td>AlphaTauri</td>\n      <td>Finished</td>\n      <td>Nyck de Vries</td>\n      <td>29.0</td>\n    </tr>\n    <tr>\n      <th>1363492</th>\n      <td>26042</td>\n      <td>1108</td>\n      <td>856</td>\n      <td>213</td>\n      <td>21.0</td>\n      <td>18</td>\n      <td>17</td>\n      <td>0.0</td>\n      <td>52</td>\n      <td>5150066.0</td>\n      <td>48.0</td>\n      <td>18.0</td>\n      <td>229.636</td>\n      <td>1</td>\n      <td>DEV</td>\n      <td>1995-02-06</td>\n      <td>Dutch</td>\n      <td>72180</td>\n      <td>20</td>\n      <td>0</td>\n      <td>AlphaTauri</td>\n      <td>Finished</td>\n      <td>Nyck de Vries</td>\n      <td>29.0</td>\n    </tr>\n  </tbody>\n</table>\n<p>300099 rows × 24 columns</p>\n</div>"
     },
     "execution_count": 33,
     "metadata": {},
     "output_type": "execute_result"
    }
   ],
   "source": [
    "df[df['fastestLap']>mean_fastestLap]"
   ],
   "metadata": {
    "collapsed": false,
    "ExecuteTime": {
     "end_time": "2024-03-25T22:20:24.160545Z",
     "start_time": "2024-03-25T22:20:24.096591Z"
    }
   },
   "id": "4ec3c0cd6255ad18",
   "execution_count": 33
  },
  {
   "cell_type": "code",
   "outputs": [
    {
     "data": {
      "text/plain": "   resultId  racerId  driverId  constructorId  number  grid  positionOrder  \\\n0         1       18         1              1    22.0     1              1   \n1         1       18         1              1    22.0     1              1   \n2         1       18         1              1    22.0     1              1   \n3         1       18         1              1    22.0     1              1   \n4         1       18         1              1    22.0     1              1   \n\n   points  laps  timetaken_in_millisec  fastestLap  rank  max_speed  statusId  \\\n0    10.0    58              5690616.0        39.0   2.0      218.3         1   \n1    10.0    58              5690616.0        39.0   2.0      218.3         1   \n2    10.0    58              5690616.0        39.0   2.0      218.3         1   \n3    10.0    58              5690616.0        39.0   2.0      218.3         1   \n4    10.0    58              5690616.0        39.0   2.0      218.3         1   \n\n  driver_code        dob nationality  driverStandingsId  position  wins  \\\n0         HAM 1985-01-07     British                  1         1     1   \n1         HAM 1985-01-07     British                  9         1     1   \n2         HAM 1985-01-07     British                 27         3     1   \n3         HAM 1985-01-07     British                 48         2     1   \n4         HAM 1985-01-07     British                 69         3     1   \n\n      name    status     driver_name   age  \n0  McLaren  Finished  Lewis Hamilton  39.0  \n1  McLaren  Finished  Lewis Hamilton  39.0  \n2  McLaren  Finished  Lewis Hamilton  39.0  \n3  McLaren  Finished  Lewis Hamilton  39.0  \n4  McLaren  Finished  Lewis Hamilton  39.0  ",
      "text/html": "<div>\n<style scoped>\n    .dataframe tbody tr th:only-of-type {\n        vertical-align: middle;\n    }\n\n    .dataframe tbody tr th {\n        vertical-align: top;\n    }\n\n    .dataframe thead th {\n        text-align: right;\n    }\n</style>\n<table border=\"1\" class=\"dataframe\">\n  <thead>\n    <tr style=\"text-align: right;\">\n      <th></th>\n      <th>resultId</th>\n      <th>racerId</th>\n      <th>driverId</th>\n      <th>constructorId</th>\n      <th>number</th>\n      <th>grid</th>\n      <th>positionOrder</th>\n      <th>points</th>\n      <th>laps</th>\n      <th>timetaken_in_millisec</th>\n      <th>fastestLap</th>\n      <th>rank</th>\n      <th>max_speed</th>\n      <th>statusId</th>\n      <th>driver_code</th>\n      <th>dob</th>\n      <th>nationality</th>\n      <th>driverStandingsId</th>\n      <th>position</th>\n      <th>wins</th>\n      <th>name</th>\n      <th>status</th>\n      <th>driver_name</th>\n      <th>age</th>\n    </tr>\n  </thead>\n  <tbody>\n    <tr>\n      <th>0</th>\n      <td>1</td>\n      <td>18</td>\n      <td>1</td>\n      <td>1</td>\n      <td>22.0</td>\n      <td>1</td>\n      <td>1</td>\n      <td>10.0</td>\n      <td>58</td>\n      <td>5690616.0</td>\n      <td>39.0</td>\n      <td>2.0</td>\n      <td>218.3</td>\n      <td>1</td>\n      <td>HAM</td>\n      <td>1985-01-07</td>\n      <td>British</td>\n      <td>1</td>\n      <td>1</td>\n      <td>1</td>\n      <td>McLaren</td>\n      <td>Finished</td>\n      <td>Lewis Hamilton</td>\n      <td>39.0</td>\n    </tr>\n    <tr>\n      <th>1</th>\n      <td>1</td>\n      <td>18</td>\n      <td>1</td>\n      <td>1</td>\n      <td>22.0</td>\n      <td>1</td>\n      <td>1</td>\n      <td>10.0</td>\n      <td>58</td>\n      <td>5690616.0</td>\n      <td>39.0</td>\n      <td>2.0</td>\n      <td>218.3</td>\n      <td>1</td>\n      <td>HAM</td>\n      <td>1985-01-07</td>\n      <td>British</td>\n      <td>9</td>\n      <td>1</td>\n      <td>1</td>\n      <td>McLaren</td>\n      <td>Finished</td>\n      <td>Lewis Hamilton</td>\n      <td>39.0</td>\n    </tr>\n    <tr>\n      <th>2</th>\n      <td>1</td>\n      <td>18</td>\n      <td>1</td>\n      <td>1</td>\n      <td>22.0</td>\n      <td>1</td>\n      <td>1</td>\n      <td>10.0</td>\n      <td>58</td>\n      <td>5690616.0</td>\n      <td>39.0</td>\n      <td>2.0</td>\n      <td>218.3</td>\n      <td>1</td>\n      <td>HAM</td>\n      <td>1985-01-07</td>\n      <td>British</td>\n      <td>27</td>\n      <td>3</td>\n      <td>1</td>\n      <td>McLaren</td>\n      <td>Finished</td>\n      <td>Lewis Hamilton</td>\n      <td>39.0</td>\n    </tr>\n    <tr>\n      <th>3</th>\n      <td>1</td>\n      <td>18</td>\n      <td>1</td>\n      <td>1</td>\n      <td>22.0</td>\n      <td>1</td>\n      <td>1</td>\n      <td>10.0</td>\n      <td>58</td>\n      <td>5690616.0</td>\n      <td>39.0</td>\n      <td>2.0</td>\n      <td>218.3</td>\n      <td>1</td>\n      <td>HAM</td>\n      <td>1985-01-07</td>\n      <td>British</td>\n      <td>48</td>\n      <td>2</td>\n      <td>1</td>\n      <td>McLaren</td>\n      <td>Finished</td>\n      <td>Lewis Hamilton</td>\n      <td>39.0</td>\n    </tr>\n    <tr>\n      <th>4</th>\n      <td>1</td>\n      <td>18</td>\n      <td>1</td>\n      <td>1</td>\n      <td>22.0</td>\n      <td>1</td>\n      <td>1</td>\n      <td>10.0</td>\n      <td>58</td>\n      <td>5690616.0</td>\n      <td>39.0</td>\n      <td>2.0</td>\n      <td>218.3</td>\n      <td>1</td>\n      <td>HAM</td>\n      <td>1985-01-07</td>\n      <td>British</td>\n      <td>69</td>\n      <td>3</td>\n      <td>1</td>\n      <td>McLaren</td>\n      <td>Finished</td>\n      <td>Lewis Hamilton</td>\n      <td>39.0</td>\n    </tr>\n  </tbody>\n</table>\n</div>"
     },
     "execution_count": 34,
     "metadata": {},
     "output_type": "execute_result"
    }
   ],
   "source": [
    "df = df[df['age']<df['age'].mean()]\n",
    "df.head()"
   ],
   "metadata": {
    "collapsed": false,
    "ExecuteTime": {
     "end_time": "2024-03-25T22:21:07.598735Z",
     "start_time": "2024-03-25T22:21:07.552036Z"
    }
   },
   "id": "63037e1c3fcec9ab",
   "execution_count": 34
  },
  {
   "cell_type": "code",
   "outputs": [
    {
     "ename": "KeyError",
     "evalue": "\"['dob'] not found in axis\"",
     "output_type": "error",
     "traceback": [
      "\u001B[1;31m---------------------------------------------------------------------------\u001B[0m",
      "\u001B[1;31mKeyError\u001B[0m                                  Traceback (most recent call last)",
      "Cell \u001B[1;32mIn[37], line 1\u001B[0m\n\u001B[1;32m----> 1\u001B[0m \u001B[43mdf\u001B[49m\u001B[38;5;241;43m.\u001B[39;49m\u001B[43mdrop\u001B[49m\u001B[43m(\u001B[49m\u001B[38;5;124;43m'\u001B[39;49m\u001B[38;5;124;43mdob\u001B[39;49m\u001B[38;5;124;43m'\u001B[39;49m\u001B[43m,\u001B[49m\u001B[43maxis\u001B[49m\u001B[38;5;241;43m=\u001B[39;49m\u001B[38;5;241;43m1\u001B[39;49m\u001B[43m,\u001B[49m\u001B[43minplace\u001B[49m\u001B[38;5;241;43m=\u001B[39;49m\u001B[38;5;28;43;01mTrue\u001B[39;49;00m\u001B[43m)\u001B[49m\n\u001B[0;32m      2\u001B[0m df\u001B[38;5;241m.\u001B[39mdrop(\u001B[38;5;124m'\u001B[39m\u001B[38;5;124mstatusId\u001B[39m\u001B[38;5;124m'\u001B[39m,axis\u001B[38;5;241m=\u001B[39m\u001B[38;5;241m1\u001B[39m,inplace\u001B[38;5;241m=\u001B[39m\u001B[38;5;28;01mTrue\u001B[39;00m)\n\u001B[0;32m      3\u001B[0m df\u001B[38;5;241m.\u001B[39mhead()\n",
      "File \u001B[1;32m~\\AppData\\Local\\Programs\\Python\\Python312\\Lib\\site-packages\\pandas\\core\\frame.py:5344\u001B[0m, in \u001B[0;36mDataFrame.drop\u001B[1;34m(self, labels, axis, index, columns, level, inplace, errors)\u001B[0m\n\u001B[0;32m   5196\u001B[0m \u001B[38;5;28;01mdef\u001B[39;00m \u001B[38;5;21mdrop\u001B[39m(\n\u001B[0;32m   5197\u001B[0m     \u001B[38;5;28mself\u001B[39m,\n\u001B[0;32m   5198\u001B[0m     labels: IndexLabel \u001B[38;5;241m|\u001B[39m \u001B[38;5;28;01mNone\u001B[39;00m \u001B[38;5;241m=\u001B[39m \u001B[38;5;28;01mNone\u001B[39;00m,\n\u001B[1;32m   (...)\u001B[0m\n\u001B[0;32m   5205\u001B[0m     errors: IgnoreRaise \u001B[38;5;241m=\u001B[39m \u001B[38;5;124m\"\u001B[39m\u001B[38;5;124mraise\u001B[39m\u001B[38;5;124m\"\u001B[39m,\n\u001B[0;32m   5206\u001B[0m ) \u001B[38;5;241m-\u001B[39m\u001B[38;5;241m>\u001B[39m DataFrame \u001B[38;5;241m|\u001B[39m \u001B[38;5;28;01mNone\u001B[39;00m:\n\u001B[0;32m   5207\u001B[0m \u001B[38;5;250m    \u001B[39m\u001B[38;5;124;03m\"\"\"\u001B[39;00m\n\u001B[0;32m   5208\u001B[0m \u001B[38;5;124;03m    Drop specified labels from rows or columns.\u001B[39;00m\n\u001B[0;32m   5209\u001B[0m \n\u001B[1;32m   (...)\u001B[0m\n\u001B[0;32m   5342\u001B[0m \u001B[38;5;124;03m            weight  1.0     0.8\u001B[39;00m\n\u001B[0;32m   5343\u001B[0m \u001B[38;5;124;03m    \"\"\"\u001B[39;00m\n\u001B[1;32m-> 5344\u001B[0m     \u001B[38;5;28;01mreturn\u001B[39;00m \u001B[38;5;28;43msuper\u001B[39;49m\u001B[43m(\u001B[49m\u001B[43m)\u001B[49m\u001B[38;5;241;43m.\u001B[39;49m\u001B[43mdrop\u001B[49m\u001B[43m(\u001B[49m\n\u001B[0;32m   5345\u001B[0m \u001B[43m        \u001B[49m\u001B[43mlabels\u001B[49m\u001B[38;5;241;43m=\u001B[39;49m\u001B[43mlabels\u001B[49m\u001B[43m,\u001B[49m\n\u001B[0;32m   5346\u001B[0m \u001B[43m        \u001B[49m\u001B[43maxis\u001B[49m\u001B[38;5;241;43m=\u001B[39;49m\u001B[43maxis\u001B[49m\u001B[43m,\u001B[49m\n\u001B[0;32m   5347\u001B[0m \u001B[43m        \u001B[49m\u001B[43mindex\u001B[49m\u001B[38;5;241;43m=\u001B[39;49m\u001B[43mindex\u001B[49m\u001B[43m,\u001B[49m\n\u001B[0;32m   5348\u001B[0m \u001B[43m        \u001B[49m\u001B[43mcolumns\u001B[49m\u001B[38;5;241;43m=\u001B[39;49m\u001B[43mcolumns\u001B[49m\u001B[43m,\u001B[49m\n\u001B[0;32m   5349\u001B[0m \u001B[43m        \u001B[49m\u001B[43mlevel\u001B[49m\u001B[38;5;241;43m=\u001B[39;49m\u001B[43mlevel\u001B[49m\u001B[43m,\u001B[49m\n\u001B[0;32m   5350\u001B[0m \u001B[43m        \u001B[49m\u001B[43minplace\u001B[49m\u001B[38;5;241;43m=\u001B[39;49m\u001B[43minplace\u001B[49m\u001B[43m,\u001B[49m\n\u001B[0;32m   5351\u001B[0m \u001B[43m        \u001B[49m\u001B[43merrors\u001B[49m\u001B[38;5;241;43m=\u001B[39;49m\u001B[43merrors\u001B[49m\u001B[43m,\u001B[49m\n\u001B[0;32m   5352\u001B[0m \u001B[43m    \u001B[49m\u001B[43m)\u001B[49m\n",
      "File \u001B[1;32m~\\AppData\\Local\\Programs\\Python\\Python312\\Lib\\site-packages\\pandas\\core\\generic.py:4711\u001B[0m, in \u001B[0;36mNDFrame.drop\u001B[1;34m(self, labels, axis, index, columns, level, inplace, errors)\u001B[0m\n\u001B[0;32m   4709\u001B[0m \u001B[38;5;28;01mfor\u001B[39;00m axis, labels \u001B[38;5;129;01min\u001B[39;00m axes\u001B[38;5;241m.\u001B[39mitems():\n\u001B[0;32m   4710\u001B[0m     \u001B[38;5;28;01mif\u001B[39;00m labels \u001B[38;5;129;01mis\u001B[39;00m \u001B[38;5;129;01mnot\u001B[39;00m \u001B[38;5;28;01mNone\u001B[39;00m:\n\u001B[1;32m-> 4711\u001B[0m         obj \u001B[38;5;241m=\u001B[39m \u001B[43mobj\u001B[49m\u001B[38;5;241;43m.\u001B[39;49m\u001B[43m_drop_axis\u001B[49m\u001B[43m(\u001B[49m\u001B[43mlabels\u001B[49m\u001B[43m,\u001B[49m\u001B[43m \u001B[49m\u001B[43maxis\u001B[49m\u001B[43m,\u001B[49m\u001B[43m \u001B[49m\u001B[43mlevel\u001B[49m\u001B[38;5;241;43m=\u001B[39;49m\u001B[43mlevel\u001B[49m\u001B[43m,\u001B[49m\u001B[43m \u001B[49m\u001B[43merrors\u001B[49m\u001B[38;5;241;43m=\u001B[39;49m\u001B[43merrors\u001B[49m\u001B[43m)\u001B[49m\n\u001B[0;32m   4713\u001B[0m \u001B[38;5;28;01mif\u001B[39;00m inplace:\n\u001B[0;32m   4714\u001B[0m     \u001B[38;5;28mself\u001B[39m\u001B[38;5;241m.\u001B[39m_update_inplace(obj)\n",
      "File \u001B[1;32m~\\AppData\\Local\\Programs\\Python\\Python312\\Lib\\site-packages\\pandas\\core\\generic.py:4753\u001B[0m, in \u001B[0;36mNDFrame._drop_axis\u001B[1;34m(self, labels, axis, level, errors, only_slice)\u001B[0m\n\u001B[0;32m   4751\u001B[0m         new_axis \u001B[38;5;241m=\u001B[39m axis\u001B[38;5;241m.\u001B[39mdrop(labels, level\u001B[38;5;241m=\u001B[39mlevel, errors\u001B[38;5;241m=\u001B[39merrors)\n\u001B[0;32m   4752\u001B[0m     \u001B[38;5;28;01melse\u001B[39;00m:\n\u001B[1;32m-> 4753\u001B[0m         new_axis \u001B[38;5;241m=\u001B[39m \u001B[43maxis\u001B[49m\u001B[38;5;241;43m.\u001B[39;49m\u001B[43mdrop\u001B[49m\u001B[43m(\u001B[49m\u001B[43mlabels\u001B[49m\u001B[43m,\u001B[49m\u001B[43m \u001B[49m\u001B[43merrors\u001B[49m\u001B[38;5;241;43m=\u001B[39;49m\u001B[43merrors\u001B[49m\u001B[43m)\u001B[49m\n\u001B[0;32m   4754\u001B[0m     indexer \u001B[38;5;241m=\u001B[39m axis\u001B[38;5;241m.\u001B[39mget_indexer(new_axis)\n\u001B[0;32m   4756\u001B[0m \u001B[38;5;66;03m# Case for non-unique axis\u001B[39;00m\n\u001B[0;32m   4757\u001B[0m \u001B[38;5;28;01melse\u001B[39;00m:\n",
      "File \u001B[1;32m~\\AppData\\Local\\Programs\\Python\\Python312\\Lib\\site-packages\\pandas\\core\\indexes\\base.py:6992\u001B[0m, in \u001B[0;36mIndex.drop\u001B[1;34m(self, labels, errors)\u001B[0m\n\u001B[0;32m   6990\u001B[0m \u001B[38;5;28;01mif\u001B[39;00m mask\u001B[38;5;241m.\u001B[39many():\n\u001B[0;32m   6991\u001B[0m     \u001B[38;5;28;01mif\u001B[39;00m errors \u001B[38;5;241m!=\u001B[39m \u001B[38;5;124m\"\u001B[39m\u001B[38;5;124mignore\u001B[39m\u001B[38;5;124m\"\u001B[39m:\n\u001B[1;32m-> 6992\u001B[0m         \u001B[38;5;28;01mraise\u001B[39;00m \u001B[38;5;167;01mKeyError\u001B[39;00m(\u001B[38;5;124mf\u001B[39m\u001B[38;5;124m\"\u001B[39m\u001B[38;5;132;01m{\u001B[39;00mlabels[mask]\u001B[38;5;241m.\u001B[39mtolist()\u001B[38;5;132;01m}\u001B[39;00m\u001B[38;5;124m not found in axis\u001B[39m\u001B[38;5;124m\"\u001B[39m)\n\u001B[0;32m   6993\u001B[0m     indexer \u001B[38;5;241m=\u001B[39m indexer[\u001B[38;5;241m~\u001B[39mmask]\n\u001B[0;32m   6994\u001B[0m \u001B[38;5;28;01mreturn\u001B[39;00m \u001B[38;5;28mself\u001B[39m\u001B[38;5;241m.\u001B[39mdelete(indexer)\n",
      "\u001B[1;31mKeyError\u001B[0m: \"['dob'] not found in axis\""
     ]
    }
   ],
   "source": [
    "df.drop('dob',axis=1,inplace=True)\n",
    "df.drop('statusId',axis=1,inplace=True)"
   ],
   "metadata": {
    "collapsed": false,
    "ExecuteTime": {
     "end_time": "2024-03-25T22:21:48.163014Z",
     "start_time": "2024-03-25T22:21:45.138362Z"
    }
   },
   "id": "1cc0cd0a06febbf0",
   "execution_count": 37
  },
  {
   "cell_type": "code",
   "outputs": [
    {
     "data": {
      "text/plain": "   resultId  racerId  driverId  constructorId  number  grid  positionOrder  \\\n0         1       18         1              1    22.0     1              1   \n1         1       18         1              1    22.0     1              1   \n2         1       18         1              1    22.0     1              1   \n3         1       18         1              1    22.0     1              1   \n4         1       18         1              1    22.0     1              1   \n\n   points  laps  timetaken_in_millisec  fastestLap  rank  max_speed  \\\n0    10.0    58              5690616.0        39.0   2.0      218.3   \n1    10.0    58              5690616.0        39.0   2.0      218.3   \n2    10.0    58              5690616.0        39.0   2.0      218.3   \n3    10.0    58              5690616.0        39.0   2.0      218.3   \n4    10.0    58              5690616.0        39.0   2.0      218.3   \n\n  driver_code nationality  driverStandingsId  position  wins     name  \\\n0         HAM     British                  1         1     1  McLaren   \n1         HAM     British                  9         1     1  McLaren   \n2         HAM     British                 27         3     1  McLaren   \n3         HAM     British                 48         2     1  McLaren   \n4         HAM     British                 69         3     1  McLaren   \n\n     status     driver_name   age  \n0  Finished  Lewis Hamilton  39.0  \n1  Finished  Lewis Hamilton  39.0  \n2  Finished  Lewis Hamilton  39.0  \n3  Finished  Lewis Hamilton  39.0  \n4  Finished  Lewis Hamilton  39.0  ",
      "text/html": "<div>\n<style scoped>\n    .dataframe tbody tr th:only-of-type {\n        vertical-align: middle;\n    }\n\n    .dataframe tbody tr th {\n        vertical-align: top;\n    }\n\n    .dataframe thead th {\n        text-align: right;\n    }\n</style>\n<table border=\"1\" class=\"dataframe\">\n  <thead>\n    <tr style=\"text-align: right;\">\n      <th></th>\n      <th>resultId</th>\n      <th>racerId</th>\n      <th>driverId</th>\n      <th>constructorId</th>\n      <th>number</th>\n      <th>grid</th>\n      <th>positionOrder</th>\n      <th>points</th>\n      <th>laps</th>\n      <th>timetaken_in_millisec</th>\n      <th>fastestLap</th>\n      <th>rank</th>\n      <th>max_speed</th>\n      <th>driver_code</th>\n      <th>nationality</th>\n      <th>driverStandingsId</th>\n      <th>position</th>\n      <th>wins</th>\n      <th>name</th>\n      <th>status</th>\n      <th>driver_name</th>\n      <th>age</th>\n    </tr>\n  </thead>\n  <tbody>\n    <tr>\n      <th>0</th>\n      <td>1</td>\n      <td>18</td>\n      <td>1</td>\n      <td>1</td>\n      <td>22.0</td>\n      <td>1</td>\n      <td>1</td>\n      <td>10.0</td>\n      <td>58</td>\n      <td>5690616.0</td>\n      <td>39.0</td>\n      <td>2.0</td>\n      <td>218.3</td>\n      <td>HAM</td>\n      <td>British</td>\n      <td>1</td>\n      <td>1</td>\n      <td>1</td>\n      <td>McLaren</td>\n      <td>Finished</td>\n      <td>Lewis Hamilton</td>\n      <td>39.0</td>\n    </tr>\n    <tr>\n      <th>1</th>\n      <td>1</td>\n      <td>18</td>\n      <td>1</td>\n      <td>1</td>\n      <td>22.0</td>\n      <td>1</td>\n      <td>1</td>\n      <td>10.0</td>\n      <td>58</td>\n      <td>5690616.0</td>\n      <td>39.0</td>\n      <td>2.0</td>\n      <td>218.3</td>\n      <td>HAM</td>\n      <td>British</td>\n      <td>9</td>\n      <td>1</td>\n      <td>1</td>\n      <td>McLaren</td>\n      <td>Finished</td>\n      <td>Lewis Hamilton</td>\n      <td>39.0</td>\n    </tr>\n    <tr>\n      <th>2</th>\n      <td>1</td>\n      <td>18</td>\n      <td>1</td>\n      <td>1</td>\n      <td>22.0</td>\n      <td>1</td>\n      <td>1</td>\n      <td>10.0</td>\n      <td>58</td>\n      <td>5690616.0</td>\n      <td>39.0</td>\n      <td>2.0</td>\n      <td>218.3</td>\n      <td>HAM</td>\n      <td>British</td>\n      <td>27</td>\n      <td>3</td>\n      <td>1</td>\n      <td>McLaren</td>\n      <td>Finished</td>\n      <td>Lewis Hamilton</td>\n      <td>39.0</td>\n    </tr>\n    <tr>\n      <th>3</th>\n      <td>1</td>\n      <td>18</td>\n      <td>1</td>\n      <td>1</td>\n      <td>22.0</td>\n      <td>1</td>\n      <td>1</td>\n      <td>10.0</td>\n      <td>58</td>\n      <td>5690616.0</td>\n      <td>39.0</td>\n      <td>2.0</td>\n      <td>218.3</td>\n      <td>HAM</td>\n      <td>British</td>\n      <td>48</td>\n      <td>2</td>\n      <td>1</td>\n      <td>McLaren</td>\n      <td>Finished</td>\n      <td>Lewis Hamilton</td>\n      <td>39.0</td>\n    </tr>\n    <tr>\n      <th>4</th>\n      <td>1</td>\n      <td>18</td>\n      <td>1</td>\n      <td>1</td>\n      <td>22.0</td>\n      <td>1</td>\n      <td>1</td>\n      <td>10.0</td>\n      <td>58</td>\n      <td>5690616.0</td>\n      <td>39.0</td>\n      <td>2.0</td>\n      <td>218.3</td>\n      <td>HAM</td>\n      <td>British</td>\n      <td>69</td>\n      <td>3</td>\n      <td>1</td>\n      <td>McLaren</td>\n      <td>Finished</td>\n      <td>Lewis Hamilton</td>\n      <td>39.0</td>\n    </tr>\n  </tbody>\n</table>\n</div>"
     },
     "execution_count": 38,
     "metadata": {},
     "output_type": "execute_result"
    }
   ],
   "source": [
    "df.head()"
   ],
   "metadata": {
    "collapsed": false,
    "ExecuteTime": {
     "end_time": "2024-03-25T22:21:55.476337Z",
     "start_time": "2024-03-25T22:21:55.461020Z"
    }
   },
   "id": "bd5fc1af958af973",
   "execution_count": 38
  },
  {
   "cell_type": "code",
   "outputs": [
    {
     "ename": "TypeError",
     "evalue": "could not convert string to float: 'HAM'",
     "output_type": "error",
     "traceback": [
      "\u001B[1;31m---------------------------------------------------------------------------\u001B[0m",
      "\u001B[1;31mValueError\u001B[0m                                Traceback (most recent call last)",
      "File \u001B[1;32m~\\AppData\\Local\\Programs\\Python\\Python312\\Lib\\site-packages\\pandas\\core\\nanops.py:85\u001B[0m, in \u001B[0;36mdisallow.__call__.<locals>._f\u001B[1;34m(*args, **kwargs)\u001B[0m\n\u001B[0;32m     84\u001B[0m \u001B[38;5;28;01mtry\u001B[39;00m:\n\u001B[1;32m---> 85\u001B[0m     \u001B[38;5;28;01mreturn\u001B[39;00m \u001B[43mf\u001B[49m\u001B[43m(\u001B[49m\u001B[38;5;241;43m*\u001B[39;49m\u001B[43margs\u001B[49m\u001B[43m,\u001B[49m\u001B[43m \u001B[49m\u001B[38;5;241;43m*\u001B[39;49m\u001B[38;5;241;43m*\u001B[39;49m\u001B[43mkwargs\u001B[49m\u001B[43m)\u001B[49m\n\u001B[0;32m     86\u001B[0m \u001B[38;5;28;01mexcept\u001B[39;00m \u001B[38;5;167;01mValueError\u001B[39;00m \u001B[38;5;28;01mas\u001B[39;00m e:\n\u001B[0;32m     87\u001B[0m     \u001B[38;5;66;03m# we want to transform an object array\u001B[39;00m\n\u001B[0;32m     88\u001B[0m     \u001B[38;5;66;03m# ValueError message to the more typical TypeError\u001B[39;00m\n\u001B[0;32m     89\u001B[0m     \u001B[38;5;66;03m# e.g. this is normally a disallowed function on\u001B[39;00m\n\u001B[0;32m     90\u001B[0m     \u001B[38;5;66;03m# object arrays that contain strings\u001B[39;00m\n",
      "File \u001B[1;32m~\\AppData\\Local\\Programs\\Python\\Python312\\Lib\\site-packages\\pandas\\core\\nanops.py:477\u001B[0m, in \u001B[0;36mmaybe_operate_rowwise.<locals>.newfunc\u001B[1;34m(values, axis, **kwargs)\u001B[0m\n\u001B[0;32m    475\u001B[0m     \u001B[38;5;28;01mreturn\u001B[39;00m np\u001B[38;5;241m.\u001B[39marray(results)\n\u001B[1;32m--> 477\u001B[0m \u001B[38;5;28;01mreturn\u001B[39;00m \u001B[43mfunc\u001B[49m\u001B[43m(\u001B[49m\u001B[43mvalues\u001B[49m\u001B[43m,\u001B[49m\u001B[43m \u001B[49m\u001B[43maxis\u001B[49m\u001B[38;5;241;43m=\u001B[39;49m\u001B[43maxis\u001B[49m\u001B[43m,\u001B[49m\u001B[43m \u001B[49m\u001B[38;5;241;43m*\u001B[39;49m\u001B[38;5;241;43m*\u001B[39;49m\u001B[43mkwargs\u001B[49m\u001B[43m)\u001B[49m\n",
      "File \u001B[1;32m~\\AppData\\Local\\Programs\\Python\\Python312\\Lib\\site-packages\\pandas\\core\\nanops.py:1232\u001B[0m, in \u001B[0;36mnanskew\u001B[1;34m(values, axis, skipna, mask)\u001B[0m\n\u001B[0;32m   1231\u001B[0m \u001B[38;5;28;01mif\u001B[39;00m values\u001B[38;5;241m.\u001B[39mdtype\u001B[38;5;241m.\u001B[39mkind \u001B[38;5;241m!=\u001B[39m \u001B[38;5;124m\"\u001B[39m\u001B[38;5;124mf\u001B[39m\u001B[38;5;124m\"\u001B[39m:\n\u001B[1;32m-> 1232\u001B[0m     values \u001B[38;5;241m=\u001B[39m \u001B[43mvalues\u001B[49m\u001B[38;5;241;43m.\u001B[39;49m\u001B[43mastype\u001B[49m\u001B[43m(\u001B[49m\u001B[38;5;124;43m\"\u001B[39;49m\u001B[38;5;124;43mf8\u001B[39;49m\u001B[38;5;124;43m\"\u001B[39;49m\u001B[43m)\u001B[49m\n\u001B[0;32m   1233\u001B[0m     count \u001B[38;5;241m=\u001B[39m _get_counts(values\u001B[38;5;241m.\u001B[39mshape, mask, axis)\n",
      "\u001B[1;31mValueError\u001B[0m: could not convert string to float: 'HAM'",
      "\nThe above exception was the direct cause of the following exception:\n",
      "\u001B[1;31mTypeError\u001B[0m                                 Traceback (most recent call last)",
      "Cell \u001B[1;32mIn[39], line 1\u001B[0m\n\u001B[1;32m----> 1\u001B[0m \u001B[43mdf\u001B[49m\u001B[38;5;241;43m.\u001B[39;49m\u001B[43mskew\u001B[49m\u001B[43m(\u001B[49m\u001B[43m)\u001B[49m\n",
      "File \u001B[1;32m~\\AppData\\Local\\Programs\\Python\\Python312\\Lib\\site-packages\\pandas\\core\\frame.py:11403\u001B[0m, in \u001B[0;36mDataFrame.skew\u001B[1;34m(self, axis, skipna, numeric_only, **kwargs)\u001B[0m\n\u001B[0;32m  11395\u001B[0m \u001B[38;5;129m@doc\u001B[39m(make_doc(\u001B[38;5;124m\"\u001B[39m\u001B[38;5;124mskew\u001B[39m\u001B[38;5;124m\"\u001B[39m, ndim\u001B[38;5;241m=\u001B[39m\u001B[38;5;241m2\u001B[39m))\n\u001B[0;32m  11396\u001B[0m \u001B[38;5;28;01mdef\u001B[39;00m \u001B[38;5;21mskew\u001B[39m(\n\u001B[0;32m  11397\u001B[0m     \u001B[38;5;28mself\u001B[39m,\n\u001B[1;32m   (...)\u001B[0m\n\u001B[0;32m  11401\u001B[0m     \u001B[38;5;241m*\u001B[39m\u001B[38;5;241m*\u001B[39mkwargs,\n\u001B[0;32m  11402\u001B[0m ):\n\u001B[1;32m> 11403\u001B[0m     result \u001B[38;5;241m=\u001B[39m \u001B[38;5;28;43msuper\u001B[39;49m\u001B[43m(\u001B[49m\u001B[43m)\u001B[49m\u001B[38;5;241;43m.\u001B[39;49m\u001B[43mskew\u001B[49m\u001B[43m(\u001B[49m\u001B[43maxis\u001B[49m\u001B[43m,\u001B[49m\u001B[43m \u001B[49m\u001B[43mskipna\u001B[49m\u001B[43m,\u001B[49m\u001B[43m \u001B[49m\u001B[43mnumeric_only\u001B[49m\u001B[43m,\u001B[49m\u001B[43m \u001B[49m\u001B[38;5;241;43m*\u001B[39;49m\u001B[38;5;241;43m*\u001B[39;49m\u001B[43mkwargs\u001B[49m\u001B[43m)\u001B[49m\n\u001B[0;32m  11404\u001B[0m     \u001B[38;5;28;01mif\u001B[39;00m \u001B[38;5;28misinstance\u001B[39m(result, Series):\n\u001B[0;32m  11405\u001B[0m         result \u001B[38;5;241m=\u001B[39m result\u001B[38;5;241m.\u001B[39m__finalize__(\u001B[38;5;28mself\u001B[39m, method\u001B[38;5;241m=\u001B[39m\u001B[38;5;124m\"\u001B[39m\u001B[38;5;124mskew\u001B[39m\u001B[38;5;124m\"\u001B[39m)\n",
      "File \u001B[1;32m~\\AppData\\Local\\Programs\\Python\\Python312\\Lib\\site-packages\\pandas\\core\\generic.py:12006\u001B[0m, in \u001B[0;36mNDFrame.skew\u001B[1;34m(self, axis, skipna, numeric_only, **kwargs)\u001B[0m\n\u001B[0;32m  11999\u001B[0m \u001B[38;5;28;01mdef\u001B[39;00m \u001B[38;5;21mskew\u001B[39m(\n\u001B[0;32m  12000\u001B[0m     \u001B[38;5;28mself\u001B[39m,\n\u001B[0;32m  12001\u001B[0m     axis: Axis \u001B[38;5;241m|\u001B[39m \u001B[38;5;28;01mNone\u001B[39;00m \u001B[38;5;241m=\u001B[39m \u001B[38;5;241m0\u001B[39m,\n\u001B[1;32m   (...)\u001B[0m\n\u001B[0;32m  12004\u001B[0m     \u001B[38;5;241m*\u001B[39m\u001B[38;5;241m*\u001B[39mkwargs,\n\u001B[0;32m  12005\u001B[0m ) \u001B[38;5;241m-\u001B[39m\u001B[38;5;241m>\u001B[39m Series \u001B[38;5;241m|\u001B[39m \u001B[38;5;28mfloat\u001B[39m:\n\u001B[1;32m> 12006\u001B[0m     \u001B[38;5;28;01mreturn\u001B[39;00m \u001B[38;5;28;43mself\u001B[39;49m\u001B[38;5;241;43m.\u001B[39;49m\u001B[43m_stat_function\u001B[49m\u001B[43m(\u001B[49m\n\u001B[0;32m  12007\u001B[0m \u001B[43m        \u001B[49m\u001B[38;5;124;43m\"\u001B[39;49m\u001B[38;5;124;43mskew\u001B[39;49m\u001B[38;5;124;43m\"\u001B[39;49m\u001B[43m,\u001B[49m\u001B[43m \u001B[49m\u001B[43mnanops\u001B[49m\u001B[38;5;241;43m.\u001B[39;49m\u001B[43mnanskew\u001B[49m\u001B[43m,\u001B[49m\u001B[43m \u001B[49m\u001B[43maxis\u001B[49m\u001B[43m,\u001B[49m\u001B[43m \u001B[49m\u001B[43mskipna\u001B[49m\u001B[43m,\u001B[49m\u001B[43m \u001B[49m\u001B[43mnumeric_only\u001B[49m\u001B[43m,\u001B[49m\u001B[43m \u001B[49m\u001B[38;5;241;43m*\u001B[39;49m\u001B[38;5;241;43m*\u001B[39;49m\u001B[43mkwargs\u001B[49m\n\u001B[0;32m  12008\u001B[0m \u001B[43m    \u001B[49m\u001B[43m)\u001B[49m\n",
      "File \u001B[1;32m~\\AppData\\Local\\Programs\\Python\\Python312\\Lib\\site-packages\\pandas\\core\\generic.py:11941\u001B[0m, in \u001B[0;36mNDFrame._stat_function\u001B[1;34m(self, name, func, axis, skipna, numeric_only, **kwargs)\u001B[0m\n\u001B[0;32m  11937\u001B[0m nv\u001B[38;5;241m.\u001B[39mvalidate_func(name, (), kwargs)\n\u001B[0;32m  11939\u001B[0m validate_bool_kwarg(skipna, \u001B[38;5;124m\"\u001B[39m\u001B[38;5;124mskipna\u001B[39m\u001B[38;5;124m\"\u001B[39m, none_allowed\u001B[38;5;241m=\u001B[39m\u001B[38;5;28;01mFalse\u001B[39;00m)\n\u001B[1;32m> 11941\u001B[0m \u001B[38;5;28;01mreturn\u001B[39;00m \u001B[38;5;28;43mself\u001B[39;49m\u001B[38;5;241;43m.\u001B[39;49m\u001B[43m_reduce\u001B[49m\u001B[43m(\u001B[49m\n\u001B[0;32m  11942\u001B[0m \u001B[43m    \u001B[49m\u001B[43mfunc\u001B[49m\u001B[43m,\u001B[49m\u001B[43m \u001B[49m\u001B[43mname\u001B[49m\u001B[38;5;241;43m=\u001B[39;49m\u001B[43mname\u001B[49m\u001B[43m,\u001B[49m\u001B[43m \u001B[49m\u001B[43maxis\u001B[49m\u001B[38;5;241;43m=\u001B[39;49m\u001B[43maxis\u001B[49m\u001B[43m,\u001B[49m\u001B[43m \u001B[49m\u001B[43mskipna\u001B[49m\u001B[38;5;241;43m=\u001B[39;49m\u001B[43mskipna\u001B[49m\u001B[43m,\u001B[49m\u001B[43m \u001B[49m\u001B[43mnumeric_only\u001B[49m\u001B[38;5;241;43m=\u001B[39;49m\u001B[43mnumeric_only\u001B[49m\n\u001B[0;32m  11943\u001B[0m \u001B[43m\u001B[49m\u001B[43m)\u001B[49m\n",
      "File \u001B[1;32m~\\AppData\\Local\\Programs\\Python\\Python312\\Lib\\site-packages\\pandas\\core\\frame.py:11204\u001B[0m, in \u001B[0;36mDataFrame._reduce\u001B[1;34m(self, op, name, axis, skipna, numeric_only, filter_type, **kwds)\u001B[0m\n\u001B[0;32m  11200\u001B[0m     df \u001B[38;5;241m=\u001B[39m df\u001B[38;5;241m.\u001B[39mT\n\u001B[0;32m  11202\u001B[0m \u001B[38;5;66;03m# After possibly _get_data and transposing, we are now in the\u001B[39;00m\n\u001B[0;32m  11203\u001B[0m \u001B[38;5;66;03m#  simple case where we can use BlockManager.reduce\u001B[39;00m\n\u001B[1;32m> 11204\u001B[0m res \u001B[38;5;241m=\u001B[39m \u001B[43mdf\u001B[49m\u001B[38;5;241;43m.\u001B[39;49m\u001B[43m_mgr\u001B[49m\u001B[38;5;241;43m.\u001B[39;49m\u001B[43mreduce\u001B[49m\u001B[43m(\u001B[49m\u001B[43mblk_func\u001B[49m\u001B[43m)\u001B[49m\n\u001B[0;32m  11205\u001B[0m out \u001B[38;5;241m=\u001B[39m df\u001B[38;5;241m.\u001B[39m_constructor_from_mgr(res, axes\u001B[38;5;241m=\u001B[39mres\u001B[38;5;241m.\u001B[39maxes)\u001B[38;5;241m.\u001B[39miloc[\u001B[38;5;241m0\u001B[39m]\n\u001B[0;32m  11206\u001B[0m \u001B[38;5;28;01mif\u001B[39;00m out_dtype \u001B[38;5;129;01mis\u001B[39;00m \u001B[38;5;129;01mnot\u001B[39;00m \u001B[38;5;28;01mNone\u001B[39;00m \u001B[38;5;129;01mand\u001B[39;00m out\u001B[38;5;241m.\u001B[39mdtype \u001B[38;5;241m!=\u001B[39m \u001B[38;5;124m\"\u001B[39m\u001B[38;5;124mboolean\u001B[39m\u001B[38;5;124m\"\u001B[39m:\n",
      "File \u001B[1;32m~\\AppData\\Local\\Programs\\Python\\Python312\\Lib\\site-packages\\pandas\\core\\internals\\managers.py:1459\u001B[0m, in \u001B[0;36mBlockManager.reduce\u001B[1;34m(self, func)\u001B[0m\n\u001B[0;32m   1457\u001B[0m res_blocks: \u001B[38;5;28mlist\u001B[39m[Block] \u001B[38;5;241m=\u001B[39m []\n\u001B[0;32m   1458\u001B[0m \u001B[38;5;28;01mfor\u001B[39;00m blk \u001B[38;5;129;01min\u001B[39;00m \u001B[38;5;28mself\u001B[39m\u001B[38;5;241m.\u001B[39mblocks:\n\u001B[1;32m-> 1459\u001B[0m     nbs \u001B[38;5;241m=\u001B[39m \u001B[43mblk\u001B[49m\u001B[38;5;241;43m.\u001B[39;49m\u001B[43mreduce\u001B[49m\u001B[43m(\u001B[49m\u001B[43mfunc\u001B[49m\u001B[43m)\u001B[49m\n\u001B[0;32m   1460\u001B[0m     res_blocks\u001B[38;5;241m.\u001B[39mextend(nbs)\n\u001B[0;32m   1462\u001B[0m index \u001B[38;5;241m=\u001B[39m Index([\u001B[38;5;28;01mNone\u001B[39;00m])  \u001B[38;5;66;03m# placeholder\u001B[39;00m\n",
      "File \u001B[1;32m~\\AppData\\Local\\Programs\\Python\\Python312\\Lib\\site-packages\\pandas\\core\\internals\\blocks.py:377\u001B[0m, in \u001B[0;36mBlock.reduce\u001B[1;34m(self, func)\u001B[0m\n\u001B[0;32m    371\u001B[0m \u001B[38;5;129m@final\u001B[39m\n\u001B[0;32m    372\u001B[0m \u001B[38;5;28;01mdef\u001B[39;00m \u001B[38;5;21mreduce\u001B[39m(\u001B[38;5;28mself\u001B[39m, func) \u001B[38;5;241m-\u001B[39m\u001B[38;5;241m>\u001B[39m \u001B[38;5;28mlist\u001B[39m[Block]:\n\u001B[0;32m    373\u001B[0m     \u001B[38;5;66;03m# We will apply the function and reshape the result into a single-row\u001B[39;00m\n\u001B[0;32m    374\u001B[0m     \u001B[38;5;66;03m#  Block with the same mgr_locs; squeezing will be done at a higher level\u001B[39;00m\n\u001B[0;32m    375\u001B[0m     \u001B[38;5;28;01massert\u001B[39;00m \u001B[38;5;28mself\u001B[39m\u001B[38;5;241m.\u001B[39mndim \u001B[38;5;241m==\u001B[39m \u001B[38;5;241m2\u001B[39m\n\u001B[1;32m--> 377\u001B[0m     result \u001B[38;5;241m=\u001B[39m \u001B[43mfunc\u001B[49m\u001B[43m(\u001B[49m\u001B[38;5;28;43mself\u001B[39;49m\u001B[38;5;241;43m.\u001B[39;49m\u001B[43mvalues\u001B[49m\u001B[43m)\u001B[49m\n\u001B[0;32m    379\u001B[0m     \u001B[38;5;28;01mif\u001B[39;00m \u001B[38;5;28mself\u001B[39m\u001B[38;5;241m.\u001B[39mvalues\u001B[38;5;241m.\u001B[39mndim \u001B[38;5;241m==\u001B[39m \u001B[38;5;241m1\u001B[39m:\n\u001B[0;32m    380\u001B[0m         res_values \u001B[38;5;241m=\u001B[39m result\n",
      "File \u001B[1;32m~\\AppData\\Local\\Programs\\Python\\Python312\\Lib\\site-packages\\pandas\\core\\frame.py:11136\u001B[0m, in \u001B[0;36mDataFrame._reduce.<locals>.blk_func\u001B[1;34m(values, axis)\u001B[0m\n\u001B[0;32m  11134\u001B[0m         \u001B[38;5;28;01mreturn\u001B[39;00m np\u001B[38;5;241m.\u001B[39marray([result])\n\u001B[0;32m  11135\u001B[0m \u001B[38;5;28;01melse\u001B[39;00m:\n\u001B[1;32m> 11136\u001B[0m     \u001B[38;5;28;01mreturn\u001B[39;00m \u001B[43mop\u001B[49m\u001B[43m(\u001B[49m\u001B[43mvalues\u001B[49m\u001B[43m,\u001B[49m\u001B[43m \u001B[49m\u001B[43maxis\u001B[49m\u001B[38;5;241;43m=\u001B[39;49m\u001B[43maxis\u001B[49m\u001B[43m,\u001B[49m\u001B[43m \u001B[49m\u001B[43mskipna\u001B[49m\u001B[38;5;241;43m=\u001B[39;49m\u001B[43mskipna\u001B[49m\u001B[43m,\u001B[49m\u001B[43m \u001B[49m\u001B[38;5;241;43m*\u001B[39;49m\u001B[38;5;241;43m*\u001B[39;49m\u001B[43mkwds\u001B[49m\u001B[43m)\u001B[49m\n",
      "File \u001B[1;32m~\\AppData\\Local\\Programs\\Python\\Python312\\Lib\\site-packages\\pandas\\core\\nanops.py:92\u001B[0m, in \u001B[0;36mdisallow.__call__.<locals>._f\u001B[1;34m(*args, **kwargs)\u001B[0m\n\u001B[0;32m     86\u001B[0m \u001B[38;5;28;01mexcept\u001B[39;00m \u001B[38;5;167;01mValueError\u001B[39;00m \u001B[38;5;28;01mas\u001B[39;00m e:\n\u001B[0;32m     87\u001B[0m     \u001B[38;5;66;03m# we want to transform an object array\u001B[39;00m\n\u001B[0;32m     88\u001B[0m     \u001B[38;5;66;03m# ValueError message to the more typical TypeError\u001B[39;00m\n\u001B[0;32m     89\u001B[0m     \u001B[38;5;66;03m# e.g. this is normally a disallowed function on\u001B[39;00m\n\u001B[0;32m     90\u001B[0m     \u001B[38;5;66;03m# object arrays that contain strings\u001B[39;00m\n\u001B[0;32m     91\u001B[0m     \u001B[38;5;28;01mif\u001B[39;00m is_object_dtype(args[\u001B[38;5;241m0\u001B[39m]):\n\u001B[1;32m---> 92\u001B[0m         \u001B[38;5;28;01mraise\u001B[39;00m \u001B[38;5;167;01mTypeError\u001B[39;00m(e) \u001B[38;5;28;01mfrom\u001B[39;00m \u001B[38;5;21;01me\u001B[39;00m\n\u001B[0;32m     93\u001B[0m     \u001B[38;5;28;01mraise\u001B[39;00m\n",
      "\u001B[1;31mTypeError\u001B[0m: could not convert string to float: 'HAM'"
     ]
    }
   ],
   "source": [
    "df.skew()"
   ],
   "metadata": {
    "collapsed": false,
    "ExecuteTime": {
     "end_time": "2024-03-25T22:22:10.199152Z",
     "start_time": "2024-03-25T22:22:09.352878Z"
    }
   },
   "id": "673b73fc2c7ad83d",
   "execution_count": 39
  },
  {
   "cell_type": "code",
   "outputs": [
    {
     "data": {
      "text/plain": "         resultId  racerId  driverId  constructorId  number  grid  \\\n0               1       18         1              1    22.0     1   \n1               1       18         1              1    22.0     1   \n2               1       18         1              1    22.0     1   \n3               1       18         1              1    22.0     1   \n4               1       18         1              1    22.0     1   \n...           ...      ...       ...            ...     ...   ...   \n1363488     26042     1108       856            213    21.0    18   \n1363489     26042     1108       856            213    21.0    18   \n1363490     26042     1108       856            213    21.0    18   \n1363491     26042     1108       856            213    21.0    18   \n1363492     26042     1108       856            213    21.0    18   \n\n         positionOrder  points  laps  timetaken_in_millisec  fastestLap  rank  \\\n0                    1    10.0    58              5690616.0        39.0   2.0   \n1                    1    10.0    58              5690616.0        39.0   2.0   \n2                    1    10.0    58              5690616.0        39.0   2.0   \n3                    1    10.0    58              5690616.0        39.0   2.0   \n4                    1    10.0    58              5690616.0        39.0   2.0   \n...                ...     ...   ...                    ...         ...   ...   \n1363488             17     0.0    52              5150066.0        48.0  18.0   \n1363489             17     0.0    52              5150066.0        48.0  18.0   \n1363490             17     0.0    52              5150066.0        48.0  18.0   \n1363491             17     0.0    52              5150066.0        48.0  18.0   \n1363492             17     0.0    52              5150066.0        48.0  18.0   \n\n         max_speed driver_code nationality  driverStandingsId  position  wins  \\\n0          218.300         HAM     British                  1         1     1   \n1          218.300         HAM     British                  9         1     1   \n2          218.300         HAM     British                 27         3     1   \n3          218.300         HAM     British                 48         2     1   \n4          218.300         HAM     British                 69         3     1   \n...            ...         ...         ...                ...       ...   ...   \n1363488    229.636         DEV       Dutch              72079        19     0   \n1363489    229.636         DEV       Dutch              72119        20     0   \n1363490    229.636         DEV       Dutch              72139        20     0   \n1363491    229.636         DEV       Dutch              72159        20     0   \n1363492    229.636         DEV       Dutch              72180        20     0   \n\n               name    status     driver_name   age  \n0           McLaren  Finished  Lewis Hamilton  39.0  \n1           McLaren  Finished  Lewis Hamilton  39.0  \n2           McLaren  Finished  Lewis Hamilton  39.0  \n3           McLaren  Finished  Lewis Hamilton  39.0  \n4           McLaren  Finished  Lewis Hamilton  39.0  \n...             ...       ...             ...   ...  \n1363488  AlphaTauri  Finished   Nyck de Vries  29.0  \n1363489  AlphaTauri  Finished   Nyck de Vries  29.0  \n1363490  AlphaTauri  Finished   Nyck de Vries  29.0  \n1363491  AlphaTauri  Finished   Nyck de Vries  29.0  \n1363492  AlphaTauri  Finished   Nyck de Vries  29.0  \n\n[178036 rows x 22 columns]",
      "text/html": "<div>\n<style scoped>\n    .dataframe tbody tr th:only-of-type {\n        vertical-align: middle;\n    }\n\n    .dataframe tbody tr th {\n        vertical-align: top;\n    }\n\n    .dataframe thead th {\n        text-align: right;\n    }\n</style>\n<table border=\"1\" class=\"dataframe\">\n  <thead>\n    <tr style=\"text-align: right;\">\n      <th></th>\n      <th>resultId</th>\n      <th>racerId</th>\n      <th>driverId</th>\n      <th>constructorId</th>\n      <th>number</th>\n      <th>grid</th>\n      <th>positionOrder</th>\n      <th>points</th>\n      <th>laps</th>\n      <th>timetaken_in_millisec</th>\n      <th>fastestLap</th>\n      <th>rank</th>\n      <th>max_speed</th>\n      <th>driver_code</th>\n      <th>nationality</th>\n      <th>driverStandingsId</th>\n      <th>position</th>\n      <th>wins</th>\n      <th>name</th>\n      <th>status</th>\n      <th>driver_name</th>\n      <th>age</th>\n    </tr>\n  </thead>\n  <tbody>\n    <tr>\n      <th>0</th>\n      <td>1</td>\n      <td>18</td>\n      <td>1</td>\n      <td>1</td>\n      <td>22.0</td>\n      <td>1</td>\n      <td>1</td>\n      <td>10.0</td>\n      <td>58</td>\n      <td>5690616.0</td>\n      <td>39.0</td>\n      <td>2.0</td>\n      <td>218.300</td>\n      <td>HAM</td>\n      <td>British</td>\n      <td>1</td>\n      <td>1</td>\n      <td>1</td>\n      <td>McLaren</td>\n      <td>Finished</td>\n      <td>Lewis Hamilton</td>\n      <td>39.0</td>\n    </tr>\n    <tr>\n      <th>1</th>\n      <td>1</td>\n      <td>18</td>\n      <td>1</td>\n      <td>1</td>\n      <td>22.0</td>\n      <td>1</td>\n      <td>1</td>\n      <td>10.0</td>\n      <td>58</td>\n      <td>5690616.0</td>\n      <td>39.0</td>\n      <td>2.0</td>\n      <td>218.300</td>\n      <td>HAM</td>\n      <td>British</td>\n      <td>9</td>\n      <td>1</td>\n      <td>1</td>\n      <td>McLaren</td>\n      <td>Finished</td>\n      <td>Lewis Hamilton</td>\n      <td>39.0</td>\n    </tr>\n    <tr>\n      <th>2</th>\n      <td>1</td>\n      <td>18</td>\n      <td>1</td>\n      <td>1</td>\n      <td>22.0</td>\n      <td>1</td>\n      <td>1</td>\n      <td>10.0</td>\n      <td>58</td>\n      <td>5690616.0</td>\n      <td>39.0</td>\n      <td>2.0</td>\n      <td>218.300</td>\n      <td>HAM</td>\n      <td>British</td>\n      <td>27</td>\n      <td>3</td>\n      <td>1</td>\n      <td>McLaren</td>\n      <td>Finished</td>\n      <td>Lewis Hamilton</td>\n      <td>39.0</td>\n    </tr>\n    <tr>\n      <th>3</th>\n      <td>1</td>\n      <td>18</td>\n      <td>1</td>\n      <td>1</td>\n      <td>22.0</td>\n      <td>1</td>\n      <td>1</td>\n      <td>10.0</td>\n      <td>58</td>\n      <td>5690616.0</td>\n      <td>39.0</td>\n      <td>2.0</td>\n      <td>218.300</td>\n      <td>HAM</td>\n      <td>British</td>\n      <td>48</td>\n      <td>2</td>\n      <td>1</td>\n      <td>McLaren</td>\n      <td>Finished</td>\n      <td>Lewis Hamilton</td>\n      <td>39.0</td>\n    </tr>\n    <tr>\n      <th>4</th>\n      <td>1</td>\n      <td>18</td>\n      <td>1</td>\n      <td>1</td>\n      <td>22.0</td>\n      <td>1</td>\n      <td>1</td>\n      <td>10.0</td>\n      <td>58</td>\n      <td>5690616.0</td>\n      <td>39.0</td>\n      <td>2.0</td>\n      <td>218.300</td>\n      <td>HAM</td>\n      <td>British</td>\n      <td>69</td>\n      <td>3</td>\n      <td>1</td>\n      <td>McLaren</td>\n      <td>Finished</td>\n      <td>Lewis Hamilton</td>\n      <td>39.0</td>\n    </tr>\n    <tr>\n      <th>...</th>\n      <td>...</td>\n      <td>...</td>\n      <td>...</td>\n      <td>...</td>\n      <td>...</td>\n      <td>...</td>\n      <td>...</td>\n      <td>...</td>\n      <td>...</td>\n      <td>...</td>\n      <td>...</td>\n      <td>...</td>\n      <td>...</td>\n      <td>...</td>\n      <td>...</td>\n      <td>...</td>\n      <td>...</td>\n      <td>...</td>\n      <td>...</td>\n      <td>...</td>\n      <td>...</td>\n      <td>...</td>\n    </tr>\n    <tr>\n      <th>1363488</th>\n      <td>26042</td>\n      <td>1108</td>\n      <td>856</td>\n      <td>213</td>\n      <td>21.0</td>\n      <td>18</td>\n      <td>17</td>\n      <td>0.0</td>\n      <td>52</td>\n      <td>5150066.0</td>\n      <td>48.0</td>\n      <td>18.0</td>\n      <td>229.636</td>\n      <td>DEV</td>\n      <td>Dutch</td>\n      <td>72079</td>\n      <td>19</td>\n      <td>0</td>\n      <td>AlphaTauri</td>\n      <td>Finished</td>\n      <td>Nyck de Vries</td>\n      <td>29.0</td>\n    </tr>\n    <tr>\n      <th>1363489</th>\n      <td>26042</td>\n      <td>1108</td>\n      <td>856</td>\n      <td>213</td>\n      <td>21.0</td>\n      <td>18</td>\n      <td>17</td>\n      <td>0.0</td>\n      <td>52</td>\n      <td>5150066.0</td>\n      <td>48.0</td>\n      <td>18.0</td>\n      <td>229.636</td>\n      <td>DEV</td>\n      <td>Dutch</td>\n      <td>72119</td>\n      <td>20</td>\n      <td>0</td>\n      <td>AlphaTauri</td>\n      <td>Finished</td>\n      <td>Nyck de Vries</td>\n      <td>29.0</td>\n    </tr>\n    <tr>\n      <th>1363490</th>\n      <td>26042</td>\n      <td>1108</td>\n      <td>856</td>\n      <td>213</td>\n      <td>21.0</td>\n      <td>18</td>\n      <td>17</td>\n      <td>0.0</td>\n      <td>52</td>\n      <td>5150066.0</td>\n      <td>48.0</td>\n      <td>18.0</td>\n      <td>229.636</td>\n      <td>DEV</td>\n      <td>Dutch</td>\n      <td>72139</td>\n      <td>20</td>\n      <td>0</td>\n      <td>AlphaTauri</td>\n      <td>Finished</td>\n      <td>Nyck de Vries</td>\n      <td>29.0</td>\n    </tr>\n    <tr>\n      <th>1363491</th>\n      <td>26042</td>\n      <td>1108</td>\n      <td>856</td>\n      <td>213</td>\n      <td>21.0</td>\n      <td>18</td>\n      <td>17</td>\n      <td>0.0</td>\n      <td>52</td>\n      <td>5150066.0</td>\n      <td>48.0</td>\n      <td>18.0</td>\n      <td>229.636</td>\n      <td>DEV</td>\n      <td>Dutch</td>\n      <td>72159</td>\n      <td>20</td>\n      <td>0</td>\n      <td>AlphaTauri</td>\n      <td>Finished</td>\n      <td>Nyck de Vries</td>\n      <td>29.0</td>\n    </tr>\n    <tr>\n      <th>1363492</th>\n      <td>26042</td>\n      <td>1108</td>\n      <td>856</td>\n      <td>213</td>\n      <td>21.0</td>\n      <td>18</td>\n      <td>17</td>\n      <td>0.0</td>\n      <td>52</td>\n      <td>5150066.0</td>\n      <td>48.0</td>\n      <td>18.0</td>\n      <td>229.636</td>\n      <td>DEV</td>\n      <td>Dutch</td>\n      <td>72180</td>\n      <td>20</td>\n      <td>0</td>\n      <td>AlphaTauri</td>\n      <td>Finished</td>\n      <td>Nyck de Vries</td>\n      <td>29.0</td>\n    </tr>\n  </tbody>\n</table>\n<p>178036 rows × 22 columns</p>\n</div>"
     },
     "execution_count": 40,
     "metadata": {},
     "output_type": "execute_result"
    }
   ],
   "source": [],
   "metadata": {
    "collapsed": false,
    "ExecuteTime": {
     "end_time": "2024-03-25T22:22:49.216828Z",
     "start_time": "2024-03-25T22:22:49.198415Z"
    }
   },
   "id": "de0077823e154883",
   "execution_count": 40
  },
  {
   "cell_type": "code",
   "outputs": [],
   "source": [],
   "metadata": {
    "collapsed": false
   },
   "id": "c51822faee077598"
  }
 ],
 "metadata": {
  "kernelspec": {
   "display_name": "Python 3",
   "language": "python",
   "name": "python3"
  },
  "language_info": {
   "codemirror_mode": {
    "name": "ipython",
    "version": 2
   },
   "file_extension": ".py",
   "mimetype": "text/x-python",
   "name": "python",
   "nbconvert_exporter": "python",
   "pygments_lexer": "ipython2",
   "version": "2.7.6"
  }
 },
 "nbformat": 4,
 "nbformat_minor": 5
}
