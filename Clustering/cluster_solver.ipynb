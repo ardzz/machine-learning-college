{
 "cells": [
  {
   "cell_type": "code",
   "execution_count": 11,
   "id": "initial_id",
   "metadata": {
    "collapsed": true,
    "ExecuteTime": {
     "end_time": "2024-03-25T11:48:53.347155Z",
     "start_time": "2024-03-25T11:48:50.507447Z"
    }
   },
   "outputs": [
    {
     "name": "stdout",
     "output_type": "stream",
     "text": [
      "(558837, 16)\n",
      "<class 'pandas.core.frame.DataFrame'>\n",
      "RangeIndex: 558837 entries, 0 to 558836\n",
      "Data columns (total 16 columns):\n",
      " #   Column        Non-Null Count   Dtype  \n",
      "---  ------        --------------   -----  \n",
      " 0   year          558837 non-null  int64  \n",
      " 1   make          548536 non-null  object \n",
      " 2   model         548438 non-null  object \n",
      " 3   trim          548186 non-null  object \n",
      " 4   body          545642 non-null  object \n",
      " 5   transmission  493485 non-null  object \n",
      " 6   vin           558833 non-null  object \n",
      " 7   state         558837 non-null  object \n",
      " 8   condition     547017 non-null  float64\n",
      " 9   odometer      558743 non-null  float64\n",
      " 10  color         558088 non-null  object \n",
      " 11  interior      558088 non-null  object \n",
      " 12  seller        558837 non-null  object \n",
      " 13  mmr           558799 non-null  float64\n",
      " 14  sellingprice  558825 non-null  float64\n",
      " 15  saledate      558825 non-null  object \n",
      "dtypes: float64(4), int64(1), object(11)\n",
      "memory usage: 68.2+ MB\n",
      "None\n",
      "year                0\n",
      "make            10301\n",
      "model           10399\n",
      "trim            10651\n",
      "body            13195\n",
      "transmission    65352\n",
      "vin                 4\n",
      "state               0\n",
      "condition       11820\n",
      "odometer           94\n",
      "color             749\n",
      "interior          749\n",
      "seller              0\n",
      "mmr                38\n",
      "sellingprice       12\n",
      "saledate           12\n",
      "dtype: int64\n"
     ]
    }
   ],
   "source": [
    "import pandas as pd\n",
    "import numpy as np\n",
    "import matplotlib.pyplot as plt\n",
    "\n",
    "df = pd.read_csv('car_prices.csv')\n",
    "print(df.shape)\n",
    "print(df.info())\n",
    "print(df.isnull().sum())\n",
    "# df.head()"
   ]
  },
  {
   "cell_type": "code",
   "outputs": [
    {
     "name": "stdout",
     "output_type": "stream",
     "text": [
      "[['LX' 'SUV']\n",
      " ['LX' 'SUV']\n",
      " ['328i SULEV' 'Sedan']\n",
      " ...\n",
      " ['xDrive35d' 'SUV']\n",
      " ['2.5 S' 'sedan']\n",
      " ['XLT' 'SuperCrew']]\n"
     ]
    }
   ],
   "source": [
    "print(df.iloc[:, [3, 4]].values)"
   ],
   "metadata": {
    "collapsed": false,
    "ExecuteTime": {
     "end_time": "2024-03-25T11:40:08.063838Z",
     "start_time": "2024-03-25T11:40:08.038063Z"
    }
   },
   "id": "fecbe675861504e5",
   "execution_count": 6
  },
  {
   "cell_type": "code",
   "outputs": [],
   "source": [],
   "metadata": {
    "collapsed": false
   },
   "id": "974dc94b9d2418ba"
  }
 ],
 "metadata": {
  "kernelspec": {
   "display_name": "Python 3",
   "language": "python",
   "name": "python3"
  },
  "language_info": {
   "codemirror_mode": {
    "name": "ipython",
    "version": 2
   },
   "file_extension": ".py",
   "mimetype": "text/x-python",
   "name": "python",
   "nbconvert_exporter": "python",
   "pygments_lexer": "ipython2",
   "version": "2.7.6"
  }
 },
 "nbformat": 4,
 "nbformat_minor": 5
}
