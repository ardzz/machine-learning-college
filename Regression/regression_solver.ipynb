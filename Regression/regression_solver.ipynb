{
 "cells": [
  {
   "cell_type": "markdown",
   "id": "8ad300a754e87204",
   "metadata": {
    "collapsed": false
   },
   "source": [
    "# Pokemon\n",
    "\n",
    "Pokemon is a media franchise managed by The Pokemon Company, a Japanese consortium between Nintendo, Game Freak, and Creatures. The franchise was created by Satoshi Tajiri in 1995, and is centered on fictional creatures called \"Pokemon\", which humans, known as Pokemon Trainers, catch and train to battle each other for sport. Works within the franchise are set in the Pokemon universe.\n",
    "\n",
    "# Data\n",
    "\n",
    "The data contains information for the first 721 Pokemon. The information contained in this dataset include Base Stats, Performance against Other Types, Height, Weight, Classification, Egg Steps, Experience Points, Abilities, etc. The data was scraped from http://serebii.net/.\n",
    "\n",
    "# Task\n",
    "- Exploratory Data Analysis (EDA)\n",
    "- Scaling and Normalization\n",
    "- Feature Selection\n",
    "- Proces Training\n",
    "- Split Training and Testing\n",
    "- Cross Validation\n",
    "- Performance Evaluation\n",
    "- Refined composite multiscale entropy (RCME)\n",
    "- R2 Score"
   ]
  },
  {
   "cell_type": "markdown",
   "source": [
    "## Exploratory Data Analysis (EDA)"
   ],
   "metadata": {
    "collapsed": false
   },
   "id": "597e27b8926d3668"
  },
  {
   "cell_type": "code",
   "execution_count": 108,
   "id": "25a65dd92ec8e7d4",
   "metadata": {
    "collapsed": false,
    "ExecuteTime": {
     "end_time": "2023-12-21T12:13:21.603041100Z",
     "start_time": "2023-12-21T12:13:21.529152Z"
    }
   },
   "outputs": [],
   "source": [
    "import pandas as pd\n",
    "import matplotlib.pyplot as plt\n",
    "import seaborn as sns\n",
    "from matplotlib import cm\n",
    "import numpy as np\n",
    "\n",
    "%matplotlib inline"
   ]
  },
  {
   "cell_type": "code",
   "execution_count": 109,
   "id": "e924e726679e06c6",
   "metadata": {
    "collapsed": false,
    "ExecuteTime": {
     "end_time": "2023-12-21T12:13:21.708937800Z",
     "start_time": "2023-12-21T12:13:21.534691900Z"
    }
   },
   "outputs": [
    {
     "data": {
      "text/plain": "                     abilities  against_bug  against_dark  against_dragon  \\\n0  ['Overgrow', 'Chlorophyll']          1.0           1.0             1.0   \n1  ['Overgrow', 'Chlorophyll']          1.0           1.0             1.0   \n2  ['Overgrow', 'Chlorophyll']          1.0           1.0             1.0   \n3     ['Blaze', 'Solar Power']          0.5           1.0             1.0   \n4     ['Blaze', 'Solar Power']          0.5           1.0             1.0   \n\n   against_electric  against_fairy  against_fight  against_fire  \\\n0               0.5            0.5            0.5           2.0   \n1               0.5            0.5            0.5           2.0   \n2               0.5            0.5            0.5           2.0   \n3               1.0            0.5            1.0           0.5   \n4               1.0            0.5            1.0           0.5   \n\n   against_flying  against_ghost  ...  percentage_male  pokedex_number  \\\n0             2.0            1.0  ...             88.1               1   \n1             2.0            1.0  ...             88.1               2   \n2             2.0            1.0  ...             88.1               3   \n3             1.0            1.0  ...             88.1               4   \n4             1.0            1.0  ...             88.1               5   \n\n   sp_attack  sp_defense  speed  type1   type2  weight_kg  generation  \\\n0         65          65     45  grass  poison        6.9           1   \n1         80          80     60  grass  poison       13.0           1   \n2        122         120     80  grass  poison      100.0           1   \n3         60          50     65   fire     NaN        8.5           1   \n4         80          65     80   fire     NaN       19.0           1   \n\n   is_legendary  \n0             0  \n1             0  \n2             0  \n3             0  \n4             0  \n\n[5 rows x 41 columns]",
      "text/html": "<div>\n<style scoped>\n    .dataframe tbody tr th:only-of-type {\n        vertical-align: middle;\n    }\n\n    .dataframe tbody tr th {\n        vertical-align: top;\n    }\n\n    .dataframe thead th {\n        text-align: right;\n    }\n</style>\n<table border=\"1\" class=\"dataframe\">\n  <thead>\n    <tr style=\"text-align: right;\">\n      <th></th>\n      <th>abilities</th>\n      <th>against_bug</th>\n      <th>against_dark</th>\n      <th>against_dragon</th>\n      <th>against_electric</th>\n      <th>against_fairy</th>\n      <th>against_fight</th>\n      <th>against_fire</th>\n      <th>against_flying</th>\n      <th>against_ghost</th>\n      <th>...</th>\n      <th>percentage_male</th>\n      <th>pokedex_number</th>\n      <th>sp_attack</th>\n      <th>sp_defense</th>\n      <th>speed</th>\n      <th>type1</th>\n      <th>type2</th>\n      <th>weight_kg</th>\n      <th>generation</th>\n      <th>is_legendary</th>\n    </tr>\n  </thead>\n  <tbody>\n    <tr>\n      <th>0</th>\n      <td>['Overgrow', 'Chlorophyll']</td>\n      <td>1.0</td>\n      <td>1.0</td>\n      <td>1.0</td>\n      <td>0.5</td>\n      <td>0.5</td>\n      <td>0.5</td>\n      <td>2.0</td>\n      <td>2.0</td>\n      <td>1.0</td>\n      <td>...</td>\n      <td>88.1</td>\n      <td>1</td>\n      <td>65</td>\n      <td>65</td>\n      <td>45</td>\n      <td>grass</td>\n      <td>poison</td>\n      <td>6.9</td>\n      <td>1</td>\n      <td>0</td>\n    </tr>\n    <tr>\n      <th>1</th>\n      <td>['Overgrow', 'Chlorophyll']</td>\n      <td>1.0</td>\n      <td>1.0</td>\n      <td>1.0</td>\n      <td>0.5</td>\n      <td>0.5</td>\n      <td>0.5</td>\n      <td>2.0</td>\n      <td>2.0</td>\n      <td>1.0</td>\n      <td>...</td>\n      <td>88.1</td>\n      <td>2</td>\n      <td>80</td>\n      <td>80</td>\n      <td>60</td>\n      <td>grass</td>\n      <td>poison</td>\n      <td>13.0</td>\n      <td>1</td>\n      <td>0</td>\n    </tr>\n    <tr>\n      <th>2</th>\n      <td>['Overgrow', 'Chlorophyll']</td>\n      <td>1.0</td>\n      <td>1.0</td>\n      <td>1.0</td>\n      <td>0.5</td>\n      <td>0.5</td>\n      <td>0.5</td>\n      <td>2.0</td>\n      <td>2.0</td>\n      <td>1.0</td>\n      <td>...</td>\n      <td>88.1</td>\n      <td>3</td>\n      <td>122</td>\n      <td>120</td>\n      <td>80</td>\n      <td>grass</td>\n      <td>poison</td>\n      <td>100.0</td>\n      <td>1</td>\n      <td>0</td>\n    </tr>\n    <tr>\n      <th>3</th>\n      <td>['Blaze', 'Solar Power']</td>\n      <td>0.5</td>\n      <td>1.0</td>\n      <td>1.0</td>\n      <td>1.0</td>\n      <td>0.5</td>\n      <td>1.0</td>\n      <td>0.5</td>\n      <td>1.0</td>\n      <td>1.0</td>\n      <td>...</td>\n      <td>88.1</td>\n      <td>4</td>\n      <td>60</td>\n      <td>50</td>\n      <td>65</td>\n      <td>fire</td>\n      <td>NaN</td>\n      <td>8.5</td>\n      <td>1</td>\n      <td>0</td>\n    </tr>\n    <tr>\n      <th>4</th>\n      <td>['Blaze', 'Solar Power']</td>\n      <td>0.5</td>\n      <td>1.0</td>\n      <td>1.0</td>\n      <td>1.0</td>\n      <td>0.5</td>\n      <td>1.0</td>\n      <td>0.5</td>\n      <td>1.0</td>\n      <td>1.0</td>\n      <td>...</td>\n      <td>88.1</td>\n      <td>5</td>\n      <td>80</td>\n      <td>65</td>\n      <td>80</td>\n      <td>fire</td>\n      <td>NaN</td>\n      <td>19.0</td>\n      <td>1</td>\n      <td>0</td>\n    </tr>\n  </tbody>\n</table>\n<p>5 rows × 41 columns</p>\n</div>"
     },
     "execution_count": 109,
     "metadata": {},
     "output_type": "execute_result"
    }
   ],
   "source": [
    "pokemons = pd.read_csv('pokemon.csv')\n",
    "pokemons.head()"
   ]
  },
  {
   "cell_type": "code",
   "execution_count": 110,
   "id": "a5f3d3d54a324560",
   "metadata": {
    "collapsed": false,
    "ExecuteTime": {
     "end_time": "2023-12-21T12:13:21.712022700Z",
     "start_time": "2023-12-21T12:13:21.577256800Z"
    }
   },
   "outputs": [
    {
     "data": {
      "text/plain": "                   count          mean            std        min        25%  \\\nagainst_bug        801.0  9.962547e-01       0.597248       0.25        0.5   \nagainst_dark       801.0  1.057116e+00       0.438142       0.25        1.0   \nagainst_dragon     801.0  9.687890e-01       0.353058       0.00        1.0   \nagainst_electric   801.0  1.073970e+00       0.654962       0.00        0.5   \nagainst_fairy      801.0  1.068976e+00       0.522167       0.25        1.0   \nagainst_fight      801.0  1.065543e+00       0.717251       0.00        0.5   \nagainst_fire       801.0  1.135456e+00       0.691853       0.25        0.5   \nagainst_flying     801.0  1.192884e+00       0.604488       0.25        1.0   \nagainst_ghost      801.0  9.850187e-01       0.558256       0.00        1.0   \nagainst_grass      801.0  1.034020e+00       0.788896       0.25        0.5   \nagainst_ground     801.0  1.098002e+00       0.738818       0.00        1.0   \nagainst_ice        801.0  1.208177e+00       0.735356       0.25        0.5   \nagainst_normal     801.0  8.870162e-01       0.266106       0.00        1.0   \nagainst_poison     801.0  9.753433e-01       0.549375       0.00        0.5   \nagainst_psychic    801.0  1.005306e+00       0.495183       0.00        1.0   \nagainst_rock       801.0  1.250312e+00       0.697148       0.25        1.0   \nagainst_steel      801.0  9.834582e-01       0.500117       0.25        0.5   \nagainst_water      801.0  1.058365e+00       0.606562       0.25        0.5   \nattack             801.0  7.785768e+01      32.158820       5.00       55.0   \nbase_egg_steps     801.0  7.191011e+03    6558.220422    1280.00     5120.0   \nbase_happiness     801.0  6.536205e+01      19.598948       0.00       70.0   \nbase_total         801.0  4.283770e+02     119.203577     180.00      320.0   \ndefense            801.0  7.300874e+01      30.769159       5.00       50.0   \nexperience_growth  801.0  1.054996e+06  160255.835096  600000.00  1000000.0   \nheight_m           781.0  1.163892e+00       1.080326       0.10        0.6   \nhp                 801.0  6.895880e+01      26.576015       1.00       50.0   \npercentage_male    703.0  5.515576e+01      20.261623       0.00       50.0   \npokedex_number     801.0  4.010000e+02     231.373075       1.00      201.0   \nsp_attack          801.0  7.130587e+01      32.353826      10.00       45.0   \nsp_defense         801.0  7.091136e+01      27.942501      20.00       50.0   \nspeed              801.0  6.633458e+01      28.907662       5.00       45.0   \nweight_kg          781.0  6.137810e+01     109.354766       0.10        9.0   \ngeneration         801.0  3.690387e+00       1.930420       1.00        2.0   \nis_legendary       801.0  8.739076e-02       0.282583       0.00        0.0   \n\n                         50%        75%        max  \nagainst_bug              1.0        1.0        4.0  \nagainst_dark             1.0        1.0        4.0  \nagainst_dragon           1.0        1.0        2.0  \nagainst_electric         1.0        1.0        4.0  \nagainst_fairy            1.0        1.0        4.0  \nagainst_fight            1.0        1.0        4.0  \nagainst_fire             1.0        2.0        4.0  \nagainst_flying           1.0        1.0        4.0  \nagainst_ghost            1.0        1.0        4.0  \nagainst_grass            1.0        1.0        4.0  \nagainst_ground           1.0        1.0        4.0  \nagainst_ice              1.0        2.0        4.0  \nagainst_normal           1.0        1.0        1.0  \nagainst_poison           1.0        1.0        4.0  \nagainst_psychic          1.0        1.0        4.0  \nagainst_rock             1.0        2.0        4.0  \nagainst_steel            1.0        1.0        4.0  \nagainst_water            1.0        1.0        4.0  \nattack                  75.0      100.0      185.0  \nbase_egg_steps        5120.0     6400.0    30720.0  \nbase_happiness          70.0       70.0      140.0  \nbase_total             435.0      505.0      780.0  \ndefense                 70.0       90.0      230.0  \nexperience_growth  1000000.0  1059860.0  1640000.0  \nheight_m                 1.0        1.5       14.5  \nhp                      65.0       80.0      255.0  \npercentage_male         50.0       50.0      100.0  \npokedex_number         401.0      601.0      801.0  \nsp_attack               65.0       91.0      194.0  \nsp_defense              66.0       90.0      230.0  \nspeed                   65.0       85.0      180.0  \nweight_kg               27.3       64.8      999.9  \ngeneration               4.0        5.0        7.0  \nis_legendary             0.0        0.0        1.0  ",
      "text/html": "<div>\n<style scoped>\n    .dataframe tbody tr th:only-of-type {\n        vertical-align: middle;\n    }\n\n    .dataframe tbody tr th {\n        vertical-align: top;\n    }\n\n    .dataframe thead th {\n        text-align: right;\n    }\n</style>\n<table border=\"1\" class=\"dataframe\">\n  <thead>\n    <tr style=\"text-align: right;\">\n      <th></th>\n      <th>count</th>\n      <th>mean</th>\n      <th>std</th>\n      <th>min</th>\n      <th>25%</th>\n      <th>50%</th>\n      <th>75%</th>\n      <th>max</th>\n    </tr>\n  </thead>\n  <tbody>\n    <tr>\n      <th>against_bug</th>\n      <td>801.0</td>\n      <td>9.962547e-01</td>\n      <td>0.597248</td>\n      <td>0.25</td>\n      <td>0.5</td>\n      <td>1.0</td>\n      <td>1.0</td>\n      <td>4.0</td>\n    </tr>\n    <tr>\n      <th>against_dark</th>\n      <td>801.0</td>\n      <td>1.057116e+00</td>\n      <td>0.438142</td>\n      <td>0.25</td>\n      <td>1.0</td>\n      <td>1.0</td>\n      <td>1.0</td>\n      <td>4.0</td>\n    </tr>\n    <tr>\n      <th>against_dragon</th>\n      <td>801.0</td>\n      <td>9.687890e-01</td>\n      <td>0.353058</td>\n      <td>0.00</td>\n      <td>1.0</td>\n      <td>1.0</td>\n      <td>1.0</td>\n      <td>2.0</td>\n    </tr>\n    <tr>\n      <th>against_electric</th>\n      <td>801.0</td>\n      <td>1.073970e+00</td>\n      <td>0.654962</td>\n      <td>0.00</td>\n      <td>0.5</td>\n      <td>1.0</td>\n      <td>1.0</td>\n      <td>4.0</td>\n    </tr>\n    <tr>\n      <th>against_fairy</th>\n      <td>801.0</td>\n      <td>1.068976e+00</td>\n      <td>0.522167</td>\n      <td>0.25</td>\n      <td>1.0</td>\n      <td>1.0</td>\n      <td>1.0</td>\n      <td>4.0</td>\n    </tr>\n    <tr>\n      <th>against_fight</th>\n      <td>801.0</td>\n      <td>1.065543e+00</td>\n      <td>0.717251</td>\n      <td>0.00</td>\n      <td>0.5</td>\n      <td>1.0</td>\n      <td>1.0</td>\n      <td>4.0</td>\n    </tr>\n    <tr>\n      <th>against_fire</th>\n      <td>801.0</td>\n      <td>1.135456e+00</td>\n      <td>0.691853</td>\n      <td>0.25</td>\n      <td>0.5</td>\n      <td>1.0</td>\n      <td>2.0</td>\n      <td>4.0</td>\n    </tr>\n    <tr>\n      <th>against_flying</th>\n      <td>801.0</td>\n      <td>1.192884e+00</td>\n      <td>0.604488</td>\n      <td>0.25</td>\n      <td>1.0</td>\n      <td>1.0</td>\n      <td>1.0</td>\n      <td>4.0</td>\n    </tr>\n    <tr>\n      <th>against_ghost</th>\n      <td>801.0</td>\n      <td>9.850187e-01</td>\n      <td>0.558256</td>\n      <td>0.00</td>\n      <td>1.0</td>\n      <td>1.0</td>\n      <td>1.0</td>\n      <td>4.0</td>\n    </tr>\n    <tr>\n      <th>against_grass</th>\n      <td>801.0</td>\n      <td>1.034020e+00</td>\n      <td>0.788896</td>\n      <td>0.25</td>\n      <td>0.5</td>\n      <td>1.0</td>\n      <td>1.0</td>\n      <td>4.0</td>\n    </tr>\n    <tr>\n      <th>against_ground</th>\n      <td>801.0</td>\n      <td>1.098002e+00</td>\n      <td>0.738818</td>\n      <td>0.00</td>\n      <td>1.0</td>\n      <td>1.0</td>\n      <td>1.0</td>\n      <td>4.0</td>\n    </tr>\n    <tr>\n      <th>against_ice</th>\n      <td>801.0</td>\n      <td>1.208177e+00</td>\n      <td>0.735356</td>\n      <td>0.25</td>\n      <td>0.5</td>\n      <td>1.0</td>\n      <td>2.0</td>\n      <td>4.0</td>\n    </tr>\n    <tr>\n      <th>against_normal</th>\n      <td>801.0</td>\n      <td>8.870162e-01</td>\n      <td>0.266106</td>\n      <td>0.00</td>\n      <td>1.0</td>\n      <td>1.0</td>\n      <td>1.0</td>\n      <td>1.0</td>\n    </tr>\n    <tr>\n      <th>against_poison</th>\n      <td>801.0</td>\n      <td>9.753433e-01</td>\n      <td>0.549375</td>\n      <td>0.00</td>\n      <td>0.5</td>\n      <td>1.0</td>\n      <td>1.0</td>\n      <td>4.0</td>\n    </tr>\n    <tr>\n      <th>against_psychic</th>\n      <td>801.0</td>\n      <td>1.005306e+00</td>\n      <td>0.495183</td>\n      <td>0.00</td>\n      <td>1.0</td>\n      <td>1.0</td>\n      <td>1.0</td>\n      <td>4.0</td>\n    </tr>\n    <tr>\n      <th>against_rock</th>\n      <td>801.0</td>\n      <td>1.250312e+00</td>\n      <td>0.697148</td>\n      <td>0.25</td>\n      <td>1.0</td>\n      <td>1.0</td>\n      <td>2.0</td>\n      <td>4.0</td>\n    </tr>\n    <tr>\n      <th>against_steel</th>\n      <td>801.0</td>\n      <td>9.834582e-01</td>\n      <td>0.500117</td>\n      <td>0.25</td>\n      <td>0.5</td>\n      <td>1.0</td>\n      <td>1.0</td>\n      <td>4.0</td>\n    </tr>\n    <tr>\n      <th>against_water</th>\n      <td>801.0</td>\n      <td>1.058365e+00</td>\n      <td>0.606562</td>\n      <td>0.25</td>\n      <td>0.5</td>\n      <td>1.0</td>\n      <td>1.0</td>\n      <td>4.0</td>\n    </tr>\n    <tr>\n      <th>attack</th>\n      <td>801.0</td>\n      <td>7.785768e+01</td>\n      <td>32.158820</td>\n      <td>5.00</td>\n      <td>55.0</td>\n      <td>75.0</td>\n      <td>100.0</td>\n      <td>185.0</td>\n    </tr>\n    <tr>\n      <th>base_egg_steps</th>\n      <td>801.0</td>\n      <td>7.191011e+03</td>\n      <td>6558.220422</td>\n      <td>1280.00</td>\n      <td>5120.0</td>\n      <td>5120.0</td>\n      <td>6400.0</td>\n      <td>30720.0</td>\n    </tr>\n    <tr>\n      <th>base_happiness</th>\n      <td>801.0</td>\n      <td>6.536205e+01</td>\n      <td>19.598948</td>\n      <td>0.00</td>\n      <td>70.0</td>\n      <td>70.0</td>\n      <td>70.0</td>\n      <td>140.0</td>\n    </tr>\n    <tr>\n      <th>base_total</th>\n      <td>801.0</td>\n      <td>4.283770e+02</td>\n      <td>119.203577</td>\n      <td>180.00</td>\n      <td>320.0</td>\n      <td>435.0</td>\n      <td>505.0</td>\n      <td>780.0</td>\n    </tr>\n    <tr>\n      <th>defense</th>\n      <td>801.0</td>\n      <td>7.300874e+01</td>\n      <td>30.769159</td>\n      <td>5.00</td>\n      <td>50.0</td>\n      <td>70.0</td>\n      <td>90.0</td>\n      <td>230.0</td>\n    </tr>\n    <tr>\n      <th>experience_growth</th>\n      <td>801.0</td>\n      <td>1.054996e+06</td>\n      <td>160255.835096</td>\n      <td>600000.00</td>\n      <td>1000000.0</td>\n      <td>1000000.0</td>\n      <td>1059860.0</td>\n      <td>1640000.0</td>\n    </tr>\n    <tr>\n      <th>height_m</th>\n      <td>781.0</td>\n      <td>1.163892e+00</td>\n      <td>1.080326</td>\n      <td>0.10</td>\n      <td>0.6</td>\n      <td>1.0</td>\n      <td>1.5</td>\n      <td>14.5</td>\n    </tr>\n    <tr>\n      <th>hp</th>\n      <td>801.0</td>\n      <td>6.895880e+01</td>\n      <td>26.576015</td>\n      <td>1.00</td>\n      <td>50.0</td>\n      <td>65.0</td>\n      <td>80.0</td>\n      <td>255.0</td>\n    </tr>\n    <tr>\n      <th>percentage_male</th>\n      <td>703.0</td>\n      <td>5.515576e+01</td>\n      <td>20.261623</td>\n      <td>0.00</td>\n      <td>50.0</td>\n      <td>50.0</td>\n      <td>50.0</td>\n      <td>100.0</td>\n    </tr>\n    <tr>\n      <th>pokedex_number</th>\n      <td>801.0</td>\n      <td>4.010000e+02</td>\n      <td>231.373075</td>\n      <td>1.00</td>\n      <td>201.0</td>\n      <td>401.0</td>\n      <td>601.0</td>\n      <td>801.0</td>\n    </tr>\n    <tr>\n      <th>sp_attack</th>\n      <td>801.0</td>\n      <td>7.130587e+01</td>\n      <td>32.353826</td>\n      <td>10.00</td>\n      <td>45.0</td>\n      <td>65.0</td>\n      <td>91.0</td>\n      <td>194.0</td>\n    </tr>\n    <tr>\n      <th>sp_defense</th>\n      <td>801.0</td>\n      <td>7.091136e+01</td>\n      <td>27.942501</td>\n      <td>20.00</td>\n      <td>50.0</td>\n      <td>66.0</td>\n      <td>90.0</td>\n      <td>230.0</td>\n    </tr>\n    <tr>\n      <th>speed</th>\n      <td>801.0</td>\n      <td>6.633458e+01</td>\n      <td>28.907662</td>\n      <td>5.00</td>\n      <td>45.0</td>\n      <td>65.0</td>\n      <td>85.0</td>\n      <td>180.0</td>\n    </tr>\n    <tr>\n      <th>weight_kg</th>\n      <td>781.0</td>\n      <td>6.137810e+01</td>\n      <td>109.354766</td>\n      <td>0.10</td>\n      <td>9.0</td>\n      <td>27.3</td>\n      <td>64.8</td>\n      <td>999.9</td>\n    </tr>\n    <tr>\n      <th>generation</th>\n      <td>801.0</td>\n      <td>3.690387e+00</td>\n      <td>1.930420</td>\n      <td>1.00</td>\n      <td>2.0</td>\n      <td>4.0</td>\n      <td>5.0</td>\n      <td>7.0</td>\n    </tr>\n    <tr>\n      <th>is_legendary</th>\n      <td>801.0</td>\n      <td>8.739076e-02</td>\n      <td>0.282583</td>\n      <td>0.00</td>\n      <td>0.0</td>\n      <td>0.0</td>\n      <td>0.0</td>\n      <td>1.0</td>\n    </tr>\n  </tbody>\n</table>\n</div>"
     },
     "execution_count": 110,
     "metadata": {},
     "output_type": "execute_result"
    }
   ],
   "source": [
    "pokemons.describe().T"
   ]
  },
  {
   "cell_type": "code",
   "execution_count": 111,
   "id": "3fe3c6c8068c9067",
   "metadata": {
    "collapsed": false,
    "ExecuteTime": {
     "end_time": "2023-12-21T12:13:21.731566800Z",
     "start_time": "2023-12-21T12:13:21.677789100Z"
    }
   },
   "outputs": [
    {
     "name": "stdout",
     "output_type": "stream",
     "text": [
      "height_m            20\n",
      "percentage_male     98\n",
      "type2              384\n",
      "weight_kg           20\n",
      "dtype: int64\n",
      "Total Missing values :  522\n"
     ]
    }
   ],
   "source": [
    "print(pokemons.isnull().sum()[pokemons.columns[pokemons.isnull().any()]])\n",
    "print(\"Total Missing values : \" , pokemons.isna().sum().sum())"
   ]
  },
  {
   "cell_type": "code",
   "execution_count": 112,
   "id": "fae9990895ff3287",
   "metadata": {
    "collapsed": false,
    "ExecuteTime": {
     "end_time": "2023-12-21T12:13:21.732567500Z",
     "start_time": "2023-12-21T12:13:21.688922200Z"
    }
   },
   "outputs": [
    {
     "name": "stdout",
     "output_type": "stream",
     "text": [
      "<class 'pandas.core.frame.DataFrame'>\n",
      "RangeIndex: 801 entries, 0 to 800\n",
      "Data columns (total 41 columns):\n",
      " #   Column             Non-Null Count  Dtype  \n",
      "---  ------             --------------  -----  \n",
      " 0   abilities          801 non-null    object \n",
      " 1   against_bug        801 non-null    float64\n",
      " 2   against_dark       801 non-null    float64\n",
      " 3   against_dragon     801 non-null    float64\n",
      " 4   against_electric   801 non-null    float64\n",
      " 5   against_fairy      801 non-null    float64\n",
      " 6   against_fight      801 non-null    float64\n",
      " 7   against_fire       801 non-null    float64\n",
      " 8   against_flying     801 non-null    float64\n",
      " 9   against_ghost      801 non-null    float64\n",
      " 10  against_grass      801 non-null    float64\n",
      " 11  against_ground     801 non-null    float64\n",
      " 12  against_ice        801 non-null    float64\n",
      " 13  against_normal     801 non-null    float64\n",
      " 14  against_poison     801 non-null    float64\n",
      " 15  against_psychic    801 non-null    float64\n",
      " 16  against_rock       801 non-null    float64\n",
      " 17  against_steel      801 non-null    float64\n",
      " 18  against_water      801 non-null    float64\n",
      " 19  attack             801 non-null    int64  \n",
      " 20  base_egg_steps     801 non-null    int64  \n",
      " 21  base_happiness     801 non-null    int64  \n",
      " 22  base_total         801 non-null    int64  \n",
      " 23  capture_rate       801 non-null    object \n",
      " 24  classfication      801 non-null    object \n",
      " 25  defense            801 non-null    int64  \n",
      " 26  experience_growth  801 non-null    int64  \n",
      " 27  height_m           781 non-null    float64\n",
      " 28  hp                 801 non-null    int64  \n",
      " 29  japanese_name      801 non-null    object \n",
      " 30  name               801 non-null    object \n",
      " 31  percentage_male    703 non-null    float64\n",
      " 32  pokedex_number     801 non-null    int64  \n",
      " 33  sp_attack          801 non-null    int64  \n",
      " 34  sp_defense         801 non-null    int64  \n",
      " 35  speed              801 non-null    int64  \n",
      " 36  type1              801 non-null    object \n",
      " 37  type2              417 non-null    object \n",
      " 38  weight_kg          781 non-null    float64\n",
      " 39  generation         801 non-null    int64  \n",
      " 40  is_legendary       801 non-null    int64  \n",
      "dtypes: float64(21), int64(13), object(7)\n",
      "memory usage: 256.7+ KB\n"
     ]
    }
   ],
   "source": [
    "pokemons.info()"
   ]
  },
  {
   "cell_type": "code",
   "execution_count": 113,
   "id": "22e32893f45d5f60",
   "metadata": {
    "collapsed": false,
    "ExecuteTime": {
     "end_time": "2023-12-21T12:13:21.749343400Z",
     "start_time": "2023-12-21T12:13:21.706937700Z"
    }
   },
   "outputs": [
    {
     "name": "stdout",
     "output_type": "stream",
     "text": [
      "Number of numeric columns: 34\n",
      "Number of object columns: 7\n",
      "Number of null columns: 4\n"
     ]
    }
   ],
   "source": [
    "num_cols = list(pokemons.select_dtypes(exclude=['object']).columns)\n",
    "obj_cols = list(pokemons.select_dtypes(include=['object']).columns)\n",
    "null_cols = pokemons.columns[pokemons.isnull().any()]\n",
    "\n",
    "print(\"Number of numeric columns:\", len(num_cols))\n",
    "print(\"Number of object columns:\", len(obj_cols))\n",
    "print(\"Number of null columns:\", len(null_cols))"
   ]
  },
  {
   "cell_type": "code",
   "execution_count": 114,
   "id": "10b2ee87c7086618",
   "metadata": {
    "collapsed": false,
    "ExecuteTime": {
     "end_time": "2023-12-21T12:13:21.843090100Z",
     "start_time": "2023-12-21T12:13:21.719042400Z"
    }
   },
   "outputs": [
    {
     "data": {
      "text/plain": "   height_m  percentage_male   type2  weight_kg\n0       0.7             88.1  poison        6.9\n1       1.0             88.1  poison       13.0\n2       2.0             88.1  poison      100.0\n3       0.6             88.1     NaN        8.5\n4       1.1             88.1     NaN       19.0",
      "text/html": "<div>\n<style scoped>\n    .dataframe tbody tr th:only-of-type {\n        vertical-align: middle;\n    }\n\n    .dataframe tbody tr th {\n        vertical-align: top;\n    }\n\n    .dataframe thead th {\n        text-align: right;\n    }\n</style>\n<table border=\"1\" class=\"dataframe\">\n  <thead>\n    <tr style=\"text-align: right;\">\n      <th></th>\n      <th>height_m</th>\n      <th>percentage_male</th>\n      <th>type2</th>\n      <th>weight_kg</th>\n    </tr>\n  </thead>\n  <tbody>\n    <tr>\n      <th>0</th>\n      <td>0.7</td>\n      <td>88.1</td>\n      <td>poison</td>\n      <td>6.9</td>\n    </tr>\n    <tr>\n      <th>1</th>\n      <td>1.0</td>\n      <td>88.1</td>\n      <td>poison</td>\n      <td>13.0</td>\n    </tr>\n    <tr>\n      <th>2</th>\n      <td>2.0</td>\n      <td>88.1</td>\n      <td>poison</td>\n      <td>100.0</td>\n    </tr>\n    <tr>\n      <th>3</th>\n      <td>0.6</td>\n      <td>88.1</td>\n      <td>NaN</td>\n      <td>8.5</td>\n    </tr>\n    <tr>\n      <th>4</th>\n      <td>1.1</td>\n      <td>88.1</td>\n      <td>NaN</td>\n      <td>19.0</td>\n    </tr>\n  </tbody>\n</table>\n</div>"
     },
     "execution_count": 114,
     "metadata": {},
     "output_type": "execute_result"
    }
   ],
   "source": [
    "pokemons[null_cols].head()"
   ]
  },
  {
   "cell_type": "code",
   "execution_count": 115,
   "id": "9d7a90595f2da6ff",
   "metadata": {
    "collapsed": false,
    "ExecuteTime": {
     "end_time": "2023-12-21T12:13:21.954644Z",
     "start_time": "2023-12-21T12:13:21.743058900Z"
    }
   },
   "outputs": [
    {
     "data": {
      "application/vnd.plotly.v1+json": {
       "data": [
        {
         "marker": {
          "color": [
           "#d1e0e0",
           "#ffccee",
           "#00ffff",
           "#999966",
           "#1a001a",
           "#0033cc",
           "#ff4000",
           "#1a001a",
           "#cc9900",
           "#990099",
           "#ffff00",
           "#ffd24d",
           "#ff0000",
           "#ff33cc",
           "#669900",
           "#47d147",
           "#e0e0d1",
           "rgb(51, 153, 255)"
          ]
         },
         "name": "Type 1",
         "orientation": "h",
         "text": [
          3.0,
          18.0,
          23.0,
          24.0,
          27.0,
          27.0,
          28.0,
          29.0,
          32.0,
          32.0,
          39.0,
          45.0,
          52.0,
          53.0,
          72.0,
          78.0,
          105.0,
          114.0
         ],
         "textposition": "outside",
         "x": [
          3,
          18,
          23,
          24,
          27,
          27,
          28,
          29,
          32,
          32,
          39,
          45,
          52,
          53,
          72,
          78,
          105,
          114
         ],
         "y": [
          "Flying",
          "Fairy",
          "Ice",
          "Steel",
          "Ghost",
          "Dragon",
          "Fighting",
          "Dark",
          "Ground",
          "Poison",
          "Electric",
          "Rock",
          "Fire",
          "Psychic",
          "Bug",
          "Grass",
          "Normal",
          "Water"
         ],
         "type": "bar",
         "xaxis": "x",
         "yaxis": "y"
        },
        {
         "marker": {
          "color": [
           "#e0e0d1",
           "#669900",
           "#ffff00",
           "#ff0000",
           "#ffd24d",
           "#1a001a",
           "#00ffff",
           "#0033cc",
           "rgb(51, 153, 255)",
           "#47d147",
           "#1a001a",
           "#999966",
           "#ff4000",
           "#ffccee",
           "#ff33cc",
           "#cc9900",
           "#990099",
           "#d1e0e0"
          ]
         },
         "name": "Type 2",
         "orientation": "h",
         "text": [
          4.0,
          5.0,
          9.0,
          13.0,
          14.0,
          14.0,
          15.0,
          17.0,
          17.0,
          20.0,
          21.0,
          22.0,
          25.0,
          29.0,
          29.0,
          34.0,
          34.0,
          95.0
         ],
         "textposition": "outside",
         "x": [
          4,
          5,
          9,
          13,
          14,
          14,
          15,
          17,
          17,
          20,
          21,
          22,
          25,
          29,
          29,
          34,
          34,
          95
         ],
         "y": [
          "Normal",
          "Bug",
          "Electric",
          "Fire",
          "Rock",
          "Ghost",
          "Ice",
          "Dragon",
          "Water",
          "Grass",
          "Dark",
          "Steel",
          "Fighting",
          "Fairy",
          "Psychic",
          "Ground",
          "Poison",
          "Flying"
         ],
         "type": "bar",
         "xaxis": "x2",
         "yaxis": "y2"
        }
       ],
       "layout": {
        "template": {
         "data": {
          "barpolar": [
           {
            "marker": {
             "line": {
              "color": "white",
              "width": 0.5
             },
             "pattern": {
              "fillmode": "overlay",
              "size": 10,
              "solidity": 0.2
             }
            },
            "type": "barpolar"
           }
          ],
          "bar": [
           {
            "error_x": {
             "color": "#2a3f5f"
            },
            "error_y": {
             "color": "#2a3f5f"
            },
            "marker": {
             "line": {
              "color": "white",
              "width": 0.5
             },
             "pattern": {
              "fillmode": "overlay",
              "size": 10,
              "solidity": 0.2
             }
            },
            "type": "bar"
           }
          ],
          "carpet": [
           {
            "aaxis": {
             "endlinecolor": "#2a3f5f",
             "gridcolor": "#C8D4E3",
             "linecolor": "#C8D4E3",
             "minorgridcolor": "#C8D4E3",
             "startlinecolor": "#2a3f5f"
            },
            "baxis": {
             "endlinecolor": "#2a3f5f",
             "gridcolor": "#C8D4E3",
             "linecolor": "#C8D4E3",
             "minorgridcolor": "#C8D4E3",
             "startlinecolor": "#2a3f5f"
            },
            "type": "carpet"
           }
          ],
          "choropleth": [
           {
            "colorbar": {
             "outlinewidth": 0,
             "ticks": ""
            },
            "type": "choropleth"
           }
          ],
          "contourcarpet": [
           {
            "colorbar": {
             "outlinewidth": 0,
             "ticks": ""
            },
            "type": "contourcarpet"
           }
          ],
          "contour": [
           {
            "colorbar": {
             "outlinewidth": 0,
             "ticks": ""
            },
            "colorscale": [
             [
              0.0,
              "#0d0887"
             ],
             [
              0.1111111111111111,
              "#46039f"
             ],
             [
              0.2222222222222222,
              "#7201a8"
             ],
             [
              0.3333333333333333,
              "#9c179e"
             ],
             [
              0.4444444444444444,
              "#bd3786"
             ],
             [
              0.5555555555555556,
              "#d8576b"
             ],
             [
              0.6666666666666666,
              "#ed7953"
             ],
             [
              0.7777777777777778,
              "#fb9f3a"
             ],
             [
              0.8888888888888888,
              "#fdca26"
             ],
             [
              1.0,
              "#f0f921"
             ]
            ],
            "type": "contour"
           }
          ],
          "heatmapgl": [
           {
            "colorbar": {
             "outlinewidth": 0,
             "ticks": ""
            },
            "colorscale": [
             [
              0.0,
              "#0d0887"
             ],
             [
              0.1111111111111111,
              "#46039f"
             ],
             [
              0.2222222222222222,
              "#7201a8"
             ],
             [
              0.3333333333333333,
              "#9c179e"
             ],
             [
              0.4444444444444444,
              "#bd3786"
             ],
             [
              0.5555555555555556,
              "#d8576b"
             ],
             [
              0.6666666666666666,
              "#ed7953"
             ],
             [
              0.7777777777777778,
              "#fb9f3a"
             ],
             [
              0.8888888888888888,
              "#fdca26"
             ],
             [
              1.0,
              "#f0f921"
             ]
            ],
            "type": "heatmapgl"
           }
          ],
          "heatmap": [
           {
            "colorbar": {
             "outlinewidth": 0,
             "ticks": ""
            },
            "colorscale": [
             [
              0.0,
              "#0d0887"
             ],
             [
              0.1111111111111111,
              "#46039f"
             ],
             [
              0.2222222222222222,
              "#7201a8"
             ],
             [
              0.3333333333333333,
              "#9c179e"
             ],
             [
              0.4444444444444444,
              "#bd3786"
             ],
             [
              0.5555555555555556,
              "#d8576b"
             ],
             [
              0.6666666666666666,
              "#ed7953"
             ],
             [
              0.7777777777777778,
              "#fb9f3a"
             ],
             [
              0.8888888888888888,
              "#fdca26"
             ],
             [
              1.0,
              "#f0f921"
             ]
            ],
            "type": "heatmap"
           }
          ],
          "histogram2dcontour": [
           {
            "colorbar": {
             "outlinewidth": 0,
             "ticks": ""
            },
            "colorscale": [
             [
              0.0,
              "#0d0887"
             ],
             [
              0.1111111111111111,
              "#46039f"
             ],
             [
              0.2222222222222222,
              "#7201a8"
             ],
             [
              0.3333333333333333,
              "#9c179e"
             ],
             [
              0.4444444444444444,
              "#bd3786"
             ],
             [
              0.5555555555555556,
              "#d8576b"
             ],
             [
              0.6666666666666666,
              "#ed7953"
             ],
             [
              0.7777777777777778,
              "#fb9f3a"
             ],
             [
              0.8888888888888888,
              "#fdca26"
             ],
             [
              1.0,
              "#f0f921"
             ]
            ],
            "type": "histogram2dcontour"
           }
          ],
          "histogram2d": [
           {
            "colorbar": {
             "outlinewidth": 0,
             "ticks": ""
            },
            "colorscale": [
             [
              0.0,
              "#0d0887"
             ],
             [
              0.1111111111111111,
              "#46039f"
             ],
             [
              0.2222222222222222,
              "#7201a8"
             ],
             [
              0.3333333333333333,
              "#9c179e"
             ],
             [
              0.4444444444444444,
              "#bd3786"
             ],
             [
              0.5555555555555556,
              "#d8576b"
             ],
             [
              0.6666666666666666,
              "#ed7953"
             ],
             [
              0.7777777777777778,
              "#fb9f3a"
             ],
             [
              0.8888888888888888,
              "#fdca26"
             ],
             [
              1.0,
              "#f0f921"
             ]
            ],
            "type": "histogram2d"
           }
          ],
          "histogram": [
           {
            "marker": {
             "pattern": {
              "fillmode": "overlay",
              "size": 10,
              "solidity": 0.2
             }
            },
            "type": "histogram"
           }
          ],
          "mesh3d": [
           {
            "colorbar": {
             "outlinewidth": 0,
             "ticks": ""
            },
            "type": "mesh3d"
           }
          ],
          "parcoords": [
           {
            "line": {
             "colorbar": {
              "outlinewidth": 0,
              "ticks": ""
             }
            },
            "type": "parcoords"
           }
          ],
          "pie": [
           {
            "automargin": true,
            "type": "pie"
           }
          ],
          "scatter3d": [
           {
            "line": {
             "colorbar": {
              "outlinewidth": 0,
              "ticks": ""
             }
            },
            "marker": {
             "colorbar": {
              "outlinewidth": 0,
              "ticks": ""
             }
            },
            "type": "scatter3d"
           }
          ],
          "scattercarpet": [
           {
            "marker": {
             "colorbar": {
              "outlinewidth": 0,
              "ticks": ""
             }
            },
            "type": "scattercarpet"
           }
          ],
          "scattergeo": [
           {
            "marker": {
             "colorbar": {
              "outlinewidth": 0,
              "ticks": ""
             }
            },
            "type": "scattergeo"
           }
          ],
          "scattergl": [
           {
            "marker": {
             "colorbar": {
              "outlinewidth": 0,
              "ticks": ""
             }
            },
            "type": "scattergl"
           }
          ],
          "scattermapbox": [
           {
            "marker": {
             "colorbar": {
              "outlinewidth": 0,
              "ticks": ""
             }
            },
            "type": "scattermapbox"
           }
          ],
          "scatterpolargl": [
           {
            "marker": {
             "colorbar": {
              "outlinewidth": 0,
              "ticks": ""
             }
            },
            "type": "scatterpolargl"
           }
          ],
          "scatterpolar": [
           {
            "marker": {
             "colorbar": {
              "outlinewidth": 0,
              "ticks": ""
             }
            },
            "type": "scatterpolar"
           }
          ],
          "scatter": [
           {
            "fillpattern": {
             "fillmode": "overlay",
             "size": 10,
             "solidity": 0.2
            },
            "type": "scatter"
           }
          ],
          "scatterternary": [
           {
            "marker": {
             "colorbar": {
              "outlinewidth": 0,
              "ticks": ""
             }
            },
            "type": "scatterternary"
           }
          ],
          "surface": [
           {
            "colorbar": {
             "outlinewidth": 0,
             "ticks": ""
            },
            "colorscale": [
             [
              0.0,
              "#0d0887"
             ],
             [
              0.1111111111111111,
              "#46039f"
             ],
             [
              0.2222222222222222,
              "#7201a8"
             ],
             [
              0.3333333333333333,
              "#9c179e"
             ],
             [
              0.4444444444444444,
              "#bd3786"
             ],
             [
              0.5555555555555556,
              "#d8576b"
             ],
             [
              0.6666666666666666,
              "#ed7953"
             ],
             [
              0.7777777777777778,
              "#fb9f3a"
             ],
             [
              0.8888888888888888,
              "#fdca26"
             ],
             [
              1.0,
              "#f0f921"
             ]
            ],
            "type": "surface"
           }
          ],
          "table": [
           {
            "cells": {
             "fill": {
              "color": "#EBF0F8"
             },
             "line": {
              "color": "white"
             }
            },
            "header": {
             "fill": {
              "color": "#C8D4E3"
             },
             "line": {
              "color": "white"
             }
            },
            "type": "table"
           }
          ]
         },
         "layout": {
          "annotationdefaults": {
           "arrowcolor": "#2a3f5f",
           "arrowhead": 0,
           "arrowwidth": 1
          },
          "autotypenumbers": "strict",
          "coloraxis": {
           "colorbar": {
            "outlinewidth": 0,
            "ticks": ""
           }
          },
          "colorscale": {
           "diverging": [
            [
             0,
             "#8e0152"
            ],
            [
             0.1,
             "#c51b7d"
            ],
            [
             0.2,
             "#de77ae"
            ],
            [
             0.3,
             "#f1b6da"
            ],
            [
             0.4,
             "#fde0ef"
            ],
            [
             0.5,
             "#f7f7f7"
            ],
            [
             0.6,
             "#e6f5d0"
            ],
            [
             0.7,
             "#b8e186"
            ],
            [
             0.8,
             "#7fbc41"
            ],
            [
             0.9,
             "#4d9221"
            ],
            [
             1,
             "#276419"
            ]
           ],
           "sequential": [
            [
             0.0,
             "#0d0887"
            ],
            [
             0.1111111111111111,
             "#46039f"
            ],
            [
             0.2222222222222222,
             "#7201a8"
            ],
            [
             0.3333333333333333,
             "#9c179e"
            ],
            [
             0.4444444444444444,
             "#bd3786"
            ],
            [
             0.5555555555555556,
             "#d8576b"
            ],
            [
             0.6666666666666666,
             "#ed7953"
            ],
            [
             0.7777777777777778,
             "#fb9f3a"
            ],
            [
             0.8888888888888888,
             "#fdca26"
            ],
            [
             1.0,
             "#f0f921"
            ]
           ],
           "sequentialminus": [
            [
             0.0,
             "#0d0887"
            ],
            [
             0.1111111111111111,
             "#46039f"
            ],
            [
             0.2222222222222222,
             "#7201a8"
            ],
            [
             0.3333333333333333,
             "#9c179e"
            ],
            [
             0.4444444444444444,
             "#bd3786"
            ],
            [
             0.5555555555555556,
             "#d8576b"
            ],
            [
             0.6666666666666666,
             "#ed7953"
            ],
            [
             0.7777777777777778,
             "#fb9f3a"
            ],
            [
             0.8888888888888888,
             "#fdca26"
            ],
            [
             1.0,
             "#f0f921"
            ]
           ]
          },
          "colorway": [
           "#636efa",
           "#EF553B",
           "#00cc96",
           "#ab63fa",
           "#FFA15A",
           "#19d3f3",
           "#FF6692",
           "#B6E880",
           "#FF97FF",
           "#FECB52"
          ],
          "font": {
           "color": "#2a3f5f"
          },
          "geo": {
           "bgcolor": "white",
           "lakecolor": "white",
           "landcolor": "white",
           "showlakes": true,
           "showland": true,
           "subunitcolor": "#C8D4E3"
          },
          "hoverlabel": {
           "align": "left"
          },
          "hovermode": "closest",
          "mapbox": {
           "style": "light"
          },
          "paper_bgcolor": "white",
          "plot_bgcolor": "white",
          "polar": {
           "angularaxis": {
            "gridcolor": "#EBF0F8",
            "linecolor": "#EBF0F8",
            "ticks": ""
           },
           "bgcolor": "white",
           "radialaxis": {
            "gridcolor": "#EBF0F8",
            "linecolor": "#EBF0F8",
            "ticks": ""
           }
          },
          "scene": {
           "xaxis": {
            "backgroundcolor": "white",
            "gridcolor": "#DFE8F3",
            "gridwidth": 2,
            "linecolor": "#EBF0F8",
            "showbackground": true,
            "ticks": "",
            "zerolinecolor": "#EBF0F8"
           },
           "yaxis": {
            "backgroundcolor": "white",
            "gridcolor": "#DFE8F3",
            "gridwidth": 2,
            "linecolor": "#EBF0F8",
            "showbackground": true,
            "ticks": "",
            "zerolinecolor": "#EBF0F8"
           },
           "zaxis": {
            "backgroundcolor": "white",
            "gridcolor": "#DFE8F3",
            "gridwidth": 2,
            "linecolor": "#EBF0F8",
            "showbackground": true,
            "ticks": "",
            "zerolinecolor": "#EBF0F8"
           }
          },
          "shapedefaults": {
           "line": {
            "color": "#2a3f5f"
           }
          },
          "ternary": {
           "aaxis": {
            "gridcolor": "#DFE8F3",
            "linecolor": "#A2B1C6",
            "ticks": ""
           },
           "baxis": {
            "gridcolor": "#DFE8F3",
            "linecolor": "#A2B1C6",
            "ticks": ""
           },
           "bgcolor": "white",
           "caxis": {
            "gridcolor": "#DFE8F3",
            "linecolor": "#A2B1C6",
            "ticks": ""
           }
          },
          "title": {
           "x": 0.05
          },
          "xaxis": {
           "automargin": true,
           "gridcolor": "#EBF0F8",
           "linecolor": "#EBF0F8",
           "ticks": "",
           "title": {
            "standoff": 15
           },
           "zerolinecolor": "#EBF0F8",
           "zerolinewidth": 2
          },
          "yaxis": {
           "automargin": true,
           "gridcolor": "#EBF0F8",
           "linecolor": "#EBF0F8",
           "ticks": "",
           "title": {
            "standoff": 15
           },
           "zerolinecolor": "#EBF0F8",
           "zerolinewidth": 2
          }
         }
        },
        "xaxis": {
         "anchor": "y",
         "domain": [
          0.0,
          0.45
         ],
         "visible": false,
         "range": [
          0,
          130
         ]
        },
        "yaxis": {
         "anchor": "x",
         "domain": [
          0.0,
          1.0
         ],
         "title": {
          "text": "Type"
         }
        },
        "xaxis2": {
         "anchor": "y2",
         "domain": [
          0.55,
          1.0
         ],
         "visible": false,
         "range": [
          0,
          500
         ]
        },
        "yaxis2": {
         "anchor": "x2",
         "domain": [
          0.0,
          1.0
         ]
        },
        "annotations": [
         {
          "font": {
           "size": 16
          },
          "showarrow": false,
          "text": "Type 1",
          "x": 0.225,
          "xanchor": "center",
          "xref": "paper",
          "y": 1.0,
          "yanchor": "bottom",
          "yref": "paper"
         },
         {
          "font": {
           "size": 16
          },
          "showarrow": false,
          "text": "Type 2",
          "x": 0.775,
          "xanchor": "center",
          "xref": "paper",
          "y": 1.0,
          "yanchor": "bottom",
          "yref": "paper"
         }
        ],
        "margin": {
         "l": 40,
         "r": 10,
         "t": 100,
         "b": 20
        },
        "title": {
         "text": "Nº of Pokemon Types"
        },
        "width": 1000,
        "height": 600,
        "showlegend": false
       },
       "config": {
        "plotlyServerURL": "https://plot.ly"
       }
      },
      "text/html": "<div>                            <div id=\"f2623010-bf98-409b-b491-58017716bbe8\" class=\"plotly-graph-div\" style=\"height:600px; width:1000px;\"></div>            <script type=\"text/javascript\">                require([\"plotly\"], function(Plotly) {                    window.PLOTLYENV=window.PLOTLYENV || {};                                    if (document.getElementById(\"f2623010-bf98-409b-b491-58017716bbe8\")) {                    Plotly.newPlot(                        \"f2623010-bf98-409b-b491-58017716bbe8\",                        [{\"marker\":{\"color\":[\"#d1e0e0\",\"#ffccee\",\"#00ffff\",\"#999966\",\"#1a001a\",\"#0033cc\",\"#ff4000\",\"#1a001a\",\"#cc9900\",\"#990099\",\"#ffff00\",\"#ffd24d\",\"#ff0000\",\"#ff33cc\",\"#669900\",\"#47d147\",\"#e0e0d1\",\"rgb(51, 153, 255)\"]},\"name\":\"Type 1\",\"orientation\":\"h\",\"text\":[3.0,18.0,23.0,24.0,27.0,27.0,28.0,29.0,32.0,32.0,39.0,45.0,52.0,53.0,72.0,78.0,105.0,114.0],\"textposition\":\"outside\",\"x\":[3,18,23,24,27,27,28,29,32,32,39,45,52,53,72,78,105,114],\"y\":[\"Flying\",\"Fairy\",\"Ice\",\"Steel\",\"Ghost\",\"Dragon\",\"Fighting\",\"Dark\",\"Ground\",\"Poison\",\"Electric\",\"Rock\",\"Fire\",\"Psychic\",\"Bug\",\"Grass\",\"Normal\",\"Water\"],\"type\":\"bar\",\"xaxis\":\"x\",\"yaxis\":\"y\"},{\"marker\":{\"color\":[\"#e0e0d1\",\"#669900\",\"#ffff00\",\"#ff0000\",\"#ffd24d\",\"#1a001a\",\"#00ffff\",\"#0033cc\",\"rgb(51, 153, 255)\",\"#47d147\",\"#1a001a\",\"#999966\",\"#ff4000\",\"#ffccee\",\"#ff33cc\",\"#cc9900\",\"#990099\",\"#d1e0e0\"]},\"name\":\"Type 2\",\"orientation\":\"h\",\"text\":[4.0,5.0,9.0,13.0,14.0,14.0,15.0,17.0,17.0,20.0,21.0,22.0,25.0,29.0,29.0,34.0,34.0,95.0],\"textposition\":\"outside\",\"x\":[4,5,9,13,14,14,15,17,17,20,21,22,25,29,29,34,34,95],\"y\":[\"Normal\",\"Bug\",\"Electric\",\"Fire\",\"Rock\",\"Ghost\",\"Ice\",\"Dragon\",\"Water\",\"Grass\",\"Dark\",\"Steel\",\"Fighting\",\"Fairy\",\"Psychic\",\"Ground\",\"Poison\",\"Flying\"],\"type\":\"bar\",\"xaxis\":\"x2\",\"yaxis\":\"y2\"}],                        {\"template\":{\"data\":{\"barpolar\":[{\"marker\":{\"line\":{\"color\":\"white\",\"width\":0.5},\"pattern\":{\"fillmode\":\"overlay\",\"size\":10,\"solidity\":0.2}},\"type\":\"barpolar\"}],\"bar\":[{\"error_x\":{\"color\":\"#2a3f5f\"},\"error_y\":{\"color\":\"#2a3f5f\"},\"marker\":{\"line\":{\"color\":\"white\",\"width\":0.5},\"pattern\":{\"fillmode\":\"overlay\",\"size\":10,\"solidity\":0.2}},\"type\":\"bar\"}],\"carpet\":[{\"aaxis\":{\"endlinecolor\":\"#2a3f5f\",\"gridcolor\":\"#C8D4E3\",\"linecolor\":\"#C8D4E3\",\"minorgridcolor\":\"#C8D4E3\",\"startlinecolor\":\"#2a3f5f\"},\"baxis\":{\"endlinecolor\":\"#2a3f5f\",\"gridcolor\":\"#C8D4E3\",\"linecolor\":\"#C8D4E3\",\"minorgridcolor\":\"#C8D4E3\",\"startlinecolor\":\"#2a3f5f\"},\"type\":\"carpet\"}],\"choropleth\":[{\"colorbar\":{\"outlinewidth\":0,\"ticks\":\"\"},\"type\":\"choropleth\"}],\"contourcarpet\":[{\"colorbar\":{\"outlinewidth\":0,\"ticks\":\"\"},\"type\":\"contourcarpet\"}],\"contour\":[{\"colorbar\":{\"outlinewidth\":0,\"ticks\":\"\"},\"colorscale\":[[0.0,\"#0d0887\"],[0.1111111111111111,\"#46039f\"],[0.2222222222222222,\"#7201a8\"],[0.3333333333333333,\"#9c179e\"],[0.4444444444444444,\"#bd3786\"],[0.5555555555555556,\"#d8576b\"],[0.6666666666666666,\"#ed7953\"],[0.7777777777777778,\"#fb9f3a\"],[0.8888888888888888,\"#fdca26\"],[1.0,\"#f0f921\"]],\"type\":\"contour\"}],\"heatmapgl\":[{\"colorbar\":{\"outlinewidth\":0,\"ticks\":\"\"},\"colorscale\":[[0.0,\"#0d0887\"],[0.1111111111111111,\"#46039f\"],[0.2222222222222222,\"#7201a8\"],[0.3333333333333333,\"#9c179e\"],[0.4444444444444444,\"#bd3786\"],[0.5555555555555556,\"#d8576b\"],[0.6666666666666666,\"#ed7953\"],[0.7777777777777778,\"#fb9f3a\"],[0.8888888888888888,\"#fdca26\"],[1.0,\"#f0f921\"]],\"type\":\"heatmapgl\"}],\"heatmap\":[{\"colorbar\":{\"outlinewidth\":0,\"ticks\":\"\"},\"colorscale\":[[0.0,\"#0d0887\"],[0.1111111111111111,\"#46039f\"],[0.2222222222222222,\"#7201a8\"],[0.3333333333333333,\"#9c179e\"],[0.4444444444444444,\"#bd3786\"],[0.5555555555555556,\"#d8576b\"],[0.6666666666666666,\"#ed7953\"],[0.7777777777777778,\"#fb9f3a\"],[0.8888888888888888,\"#fdca26\"],[1.0,\"#f0f921\"]],\"type\":\"heatmap\"}],\"histogram2dcontour\":[{\"colorbar\":{\"outlinewidth\":0,\"ticks\":\"\"},\"colorscale\":[[0.0,\"#0d0887\"],[0.1111111111111111,\"#46039f\"],[0.2222222222222222,\"#7201a8\"],[0.3333333333333333,\"#9c179e\"],[0.4444444444444444,\"#bd3786\"],[0.5555555555555556,\"#d8576b\"],[0.6666666666666666,\"#ed7953\"],[0.7777777777777778,\"#fb9f3a\"],[0.8888888888888888,\"#fdca26\"],[1.0,\"#f0f921\"]],\"type\":\"histogram2dcontour\"}],\"histogram2d\":[{\"colorbar\":{\"outlinewidth\":0,\"ticks\":\"\"},\"colorscale\":[[0.0,\"#0d0887\"],[0.1111111111111111,\"#46039f\"],[0.2222222222222222,\"#7201a8\"],[0.3333333333333333,\"#9c179e\"],[0.4444444444444444,\"#bd3786\"],[0.5555555555555556,\"#d8576b\"],[0.6666666666666666,\"#ed7953\"],[0.7777777777777778,\"#fb9f3a\"],[0.8888888888888888,\"#fdca26\"],[1.0,\"#f0f921\"]],\"type\":\"histogram2d\"}],\"histogram\":[{\"marker\":{\"pattern\":{\"fillmode\":\"overlay\",\"size\":10,\"solidity\":0.2}},\"type\":\"histogram\"}],\"mesh3d\":[{\"colorbar\":{\"outlinewidth\":0,\"ticks\":\"\"},\"type\":\"mesh3d\"}],\"parcoords\":[{\"line\":{\"colorbar\":{\"outlinewidth\":0,\"ticks\":\"\"}},\"type\":\"parcoords\"}],\"pie\":[{\"automargin\":true,\"type\":\"pie\"}],\"scatter3d\":[{\"line\":{\"colorbar\":{\"outlinewidth\":0,\"ticks\":\"\"}},\"marker\":{\"colorbar\":{\"outlinewidth\":0,\"ticks\":\"\"}},\"type\":\"scatter3d\"}],\"scattercarpet\":[{\"marker\":{\"colorbar\":{\"outlinewidth\":0,\"ticks\":\"\"}},\"type\":\"scattercarpet\"}],\"scattergeo\":[{\"marker\":{\"colorbar\":{\"outlinewidth\":0,\"ticks\":\"\"}},\"type\":\"scattergeo\"}],\"scattergl\":[{\"marker\":{\"colorbar\":{\"outlinewidth\":0,\"ticks\":\"\"}},\"type\":\"scattergl\"}],\"scattermapbox\":[{\"marker\":{\"colorbar\":{\"outlinewidth\":0,\"ticks\":\"\"}},\"type\":\"scattermapbox\"}],\"scatterpolargl\":[{\"marker\":{\"colorbar\":{\"outlinewidth\":0,\"ticks\":\"\"}},\"type\":\"scatterpolargl\"}],\"scatterpolar\":[{\"marker\":{\"colorbar\":{\"outlinewidth\":0,\"ticks\":\"\"}},\"type\":\"scatterpolar\"}],\"scatter\":[{\"fillpattern\":{\"fillmode\":\"overlay\",\"size\":10,\"solidity\":0.2},\"type\":\"scatter\"}],\"scatterternary\":[{\"marker\":{\"colorbar\":{\"outlinewidth\":0,\"ticks\":\"\"}},\"type\":\"scatterternary\"}],\"surface\":[{\"colorbar\":{\"outlinewidth\":0,\"ticks\":\"\"},\"colorscale\":[[0.0,\"#0d0887\"],[0.1111111111111111,\"#46039f\"],[0.2222222222222222,\"#7201a8\"],[0.3333333333333333,\"#9c179e\"],[0.4444444444444444,\"#bd3786\"],[0.5555555555555556,\"#d8576b\"],[0.6666666666666666,\"#ed7953\"],[0.7777777777777778,\"#fb9f3a\"],[0.8888888888888888,\"#fdca26\"],[1.0,\"#f0f921\"]],\"type\":\"surface\"}],\"table\":[{\"cells\":{\"fill\":{\"color\":\"#EBF0F8\"},\"line\":{\"color\":\"white\"}},\"header\":{\"fill\":{\"color\":\"#C8D4E3\"},\"line\":{\"color\":\"white\"}},\"type\":\"table\"}]},\"layout\":{\"annotationdefaults\":{\"arrowcolor\":\"#2a3f5f\",\"arrowhead\":0,\"arrowwidth\":1},\"autotypenumbers\":\"strict\",\"coloraxis\":{\"colorbar\":{\"outlinewidth\":0,\"ticks\":\"\"}},\"colorscale\":{\"diverging\":[[0,\"#8e0152\"],[0.1,\"#c51b7d\"],[0.2,\"#de77ae\"],[0.3,\"#f1b6da\"],[0.4,\"#fde0ef\"],[0.5,\"#f7f7f7\"],[0.6,\"#e6f5d0\"],[0.7,\"#b8e186\"],[0.8,\"#7fbc41\"],[0.9,\"#4d9221\"],[1,\"#276419\"]],\"sequential\":[[0.0,\"#0d0887\"],[0.1111111111111111,\"#46039f\"],[0.2222222222222222,\"#7201a8\"],[0.3333333333333333,\"#9c179e\"],[0.4444444444444444,\"#bd3786\"],[0.5555555555555556,\"#d8576b\"],[0.6666666666666666,\"#ed7953\"],[0.7777777777777778,\"#fb9f3a\"],[0.8888888888888888,\"#fdca26\"],[1.0,\"#f0f921\"]],\"sequentialminus\":[[0.0,\"#0d0887\"],[0.1111111111111111,\"#46039f\"],[0.2222222222222222,\"#7201a8\"],[0.3333333333333333,\"#9c179e\"],[0.4444444444444444,\"#bd3786\"],[0.5555555555555556,\"#d8576b\"],[0.6666666666666666,\"#ed7953\"],[0.7777777777777778,\"#fb9f3a\"],[0.8888888888888888,\"#fdca26\"],[1.0,\"#f0f921\"]]},\"colorway\":[\"#636efa\",\"#EF553B\",\"#00cc96\",\"#ab63fa\",\"#FFA15A\",\"#19d3f3\",\"#FF6692\",\"#B6E880\",\"#FF97FF\",\"#FECB52\"],\"font\":{\"color\":\"#2a3f5f\"},\"geo\":{\"bgcolor\":\"white\",\"lakecolor\":\"white\",\"landcolor\":\"white\",\"showlakes\":true,\"showland\":true,\"subunitcolor\":\"#C8D4E3\"},\"hoverlabel\":{\"align\":\"left\"},\"hovermode\":\"closest\",\"mapbox\":{\"style\":\"light\"},\"paper_bgcolor\":\"white\",\"plot_bgcolor\":\"white\",\"polar\":{\"angularaxis\":{\"gridcolor\":\"#EBF0F8\",\"linecolor\":\"#EBF0F8\",\"ticks\":\"\"},\"bgcolor\":\"white\",\"radialaxis\":{\"gridcolor\":\"#EBF0F8\",\"linecolor\":\"#EBF0F8\",\"ticks\":\"\"}},\"scene\":{\"xaxis\":{\"backgroundcolor\":\"white\",\"gridcolor\":\"#DFE8F3\",\"gridwidth\":2,\"linecolor\":\"#EBF0F8\",\"showbackground\":true,\"ticks\":\"\",\"zerolinecolor\":\"#EBF0F8\"},\"yaxis\":{\"backgroundcolor\":\"white\",\"gridcolor\":\"#DFE8F3\",\"gridwidth\":2,\"linecolor\":\"#EBF0F8\",\"showbackground\":true,\"ticks\":\"\",\"zerolinecolor\":\"#EBF0F8\"},\"zaxis\":{\"backgroundcolor\":\"white\",\"gridcolor\":\"#DFE8F3\",\"gridwidth\":2,\"linecolor\":\"#EBF0F8\",\"showbackground\":true,\"ticks\":\"\",\"zerolinecolor\":\"#EBF0F8\"}},\"shapedefaults\":{\"line\":{\"color\":\"#2a3f5f\"}},\"ternary\":{\"aaxis\":{\"gridcolor\":\"#DFE8F3\",\"linecolor\":\"#A2B1C6\",\"ticks\":\"\"},\"baxis\":{\"gridcolor\":\"#DFE8F3\",\"linecolor\":\"#A2B1C6\",\"ticks\":\"\"},\"bgcolor\":\"white\",\"caxis\":{\"gridcolor\":\"#DFE8F3\",\"linecolor\":\"#A2B1C6\",\"ticks\":\"\"}},\"title\":{\"x\":0.05},\"xaxis\":{\"automargin\":true,\"gridcolor\":\"#EBF0F8\",\"linecolor\":\"#EBF0F8\",\"ticks\":\"\",\"title\":{\"standoff\":15},\"zerolinecolor\":\"#EBF0F8\",\"zerolinewidth\":2},\"yaxis\":{\"automargin\":true,\"gridcolor\":\"#EBF0F8\",\"linecolor\":\"#EBF0F8\",\"ticks\":\"\",\"title\":{\"standoff\":15},\"zerolinecolor\":\"#EBF0F8\",\"zerolinewidth\":2}}},\"xaxis\":{\"anchor\":\"y\",\"domain\":[0.0,0.45],\"visible\":false,\"range\":[0,130]},\"yaxis\":{\"anchor\":\"x\",\"domain\":[0.0,1.0],\"title\":{\"text\":\"Type\"}},\"xaxis2\":{\"anchor\":\"y2\",\"domain\":[0.55,1.0],\"visible\":false,\"range\":[0,500]},\"yaxis2\":{\"anchor\":\"x2\",\"domain\":[0.0,1.0]},\"annotations\":[{\"font\":{\"size\":16},\"showarrow\":false,\"text\":\"Type 1\",\"x\":0.225,\"xanchor\":\"center\",\"xref\":\"paper\",\"y\":1.0,\"yanchor\":\"bottom\",\"yref\":\"paper\"},{\"font\":{\"size\":16},\"showarrow\":false,\"text\":\"Type 2\",\"x\":0.775,\"xanchor\":\"center\",\"xref\":\"paper\",\"y\":1.0,\"yanchor\":\"bottom\",\"yref\":\"paper\"}],\"margin\":{\"l\":40,\"r\":10,\"t\":100,\"b\":20},\"title\":{\"text\":\"N\\u00ba of Pokemon Types\"},\"width\":1000,\"height\":600,\"showlegend\":false},                        {\"responsive\": true}                    ).then(function(){\n                            \nvar gd = document.getElementById('f2623010-bf98-409b-b491-58017716bbe8');\nvar x = new MutationObserver(function (mutations, observer) {{\n        var display = window.getComputedStyle(gd).display;\n        if (!display || display === 'none') {{\n            console.log([gd, 'removed!']);\n            Plotly.purge(gd);\n            observer.disconnect();\n        }}\n}});\n\n// Listen for the removal of the full notebook cells\nvar notebookContainer = gd.closest('#notebook-container');\nif (notebookContainer) {{\n    x.observe(notebookContainer, {childList: true});\n}}\n\n// Listen for the clearing of the current output cell\nvar outputEl = gd.closest('.output');\nif (outputEl) {{\n    x.observe(outputEl, {childList: true});\n}}\n\n                        })                };                });            </script>        </div>"
     },
     "metadata": {},
     "output_type": "display_data"
    }
   ],
   "source": [
    "import plotly.graph_objects as go\n",
    "from plotly.subplots import make_subplots\n",
    "\n",
    "count_type1 = pokemons.groupby('type1').size().sort_values(ascending=True)\n",
    "count_type1.index = count_type1.index.map(lambda x: x.capitalize())\n",
    "count_type2 = pokemons.groupby('type2').size().sort_values(ascending=True)\n",
    "count_type2.index = count_type2.index.map(lambda x: x.capitalize())\n",
    "\n",
    "dict_color_types = {\n",
    "    \"Water\": \"rgb(51, 153, 255)\",\n",
    "    \"Normal\": \"#e0e0d1\",\n",
    "    \"Grass\": \"#47d147\",\n",
    "    \"Bug\": \"#669900\",\n",
    "    \"Psychic\": \"#ff33cc\",\n",
    "    \"Fire\": \"#ff0000\",\n",
    "    \"Rock\": \"#ffd24d\",\n",
    "    \"Electric\": \"#ffff00\",\n",
    "    \"Poison\": \"#990099\",\n",
    "    \"Ground\": \"#cc9900\",\n",
    "    \"Dark\": \"#1a001a\",\n",
    "    \"Fighting\": \"#ff4000\",\n",
    "    'Ghost': \"#1a001a\",\n",
    "    'Dragon': \"#0033cc\",\n",
    "    'Steel': \"#999966\",                    \n",
    "    'Ice': \"#00ffff\",                    \n",
    "    'Fairy': \"#ffccee\",                  \n",
    "    'Flying': \"#d1e0e0\",\n",
    "}\n",
    "\n",
    "fig = make_subplots(rows=1, cols=2, subplot_titles=(\"Type 1\", \"Type 2\"),\n",
    "                    )\n",
    "\n",
    "for idx, typ in enumerate([count_type1, count_type2]):\n",
    "    fig.add_trace(go.Bar(y=typ.index, x=typ.values, \n",
    "                       text=typ.values, textposition='outside',\n",
    "                       orientation='h',\n",
    "                       marker_color=typ.index.map(dict_color_types),\n",
    "                       name=\"Type \"+str(idx+1),\n",
    "                       ),\n",
    "                       row=1, col=idx+1)\n",
    "    if idx == 1: # update range to show text on bars\n",
    "        fig.update_xaxes(visible=False, range=[0, 500], row=1, col=idx+1) \n",
    "    else:\n",
    "        fig.update_xaxes(visible=False, range=[0, 130], row=1, col=idx+1)\n",
    "\n",
    "fig.update_layout(title='Nº of Pokemon Types',\n",
    "                 template='plotly_white', width=1000, height=600,\n",
    "                 showlegend=False,\n",
    "                 margin=dict(l=40, r=10, t=100, b=20),\n",
    "                 yaxis_title=\"Type\",\n",
    "                 )\n",
    "\n",
    "fig.show()"
   ]
  },
  {
   "cell_type": "code",
   "execution_count": 116,
   "outputs": [
    {
     "data": {
      "application/vnd.plotly.v1+json": {
       "data": [
        {
         "marker": {
          "color": [
           "#e0e0d1",
           "#669900",
           "#ffff00",
           "#ff0000",
           "#ffd24d",
           "#1a001a",
           "#00ffff",
           "#0033cc",
           "rgb(51, 153, 255)",
           "#47d147",
           "#1a001a",
           "#999966",
           "#ff4000",
           "#ffccee",
           "#ff33cc",
           "#cc9900",
           "#990099",
           "#d1e0e0"
          ]
         },
         "name": "Type 1",
         "orientation": "h",
         "text": [
          4.0,
          5.0,
          9.0,
          13.0,
          14.0,
          14.0,
          15.0,
          17.0,
          17.0,
          20.0,
          21.0,
          22.0,
          25.0,
          29.0,
          29.0,
          34.0,
          34.0,
          95.0
         ],
         "textposition": "outside",
         "x": [
          4,
          5,
          9,
          13,
          14,
          14,
          15,
          17,
          17,
          20,
          21,
          22,
          25,
          29,
          29,
          34,
          34,
          95
         ],
         "y": [
          "Normal",
          "Bug",
          "Electric",
          "Fire",
          "Rock",
          "Ghost",
          "Ice",
          "Dragon",
          "Water",
          "Grass",
          "Dark",
          "Steel",
          "Fighting",
          "Fairy",
          "Psychic",
          "Ground",
          "Poison",
          "Flying"
         ],
         "type": "bar",
         "xaxis": "x",
         "yaxis": "y"
        },
        {
         "marker": {
          "color": [
           "#ffff00",
           "#cc9900",
           "#00ffff",
           "#990099",
           "rgb(51, 153, 255)",
           "#ff0000",
           "#1a001a",
           "#47d147",
           "#0033cc",
           "#ff33cc",
           "#999966",
           "#ffccee",
           "#ff4000",
           "#d1e0e0"
          ]
         },
         "name": "Type 2",
         "orientation": "h",
         "text": [
          1.0,
          1.0,
          1.0,
          1.0,
          1.0,
          2.0,
          2.0,
          2.0,
          4.0,
          4.0,
          4.0,
          6.0,
          6.0,
          10.0
         ],
         "textposition": "outside",
         "x": [
          1,
          1,
          1,
          1,
          1,
          2,
          2,
          2,
          4,
          4,
          4,
          6,
          6,
          10
         ],
         "y": [
          "Electric",
          "Ground",
          "Ice",
          "Poison",
          "Water",
          "Fire",
          "Ghost",
          "Grass",
          "Dragon",
          "Psychic",
          "Steel",
          "Fairy",
          "Fighting",
          "Flying"
         ],
         "type": "bar",
         "xaxis": "x2",
         "yaxis": "y2"
        }
       ],
       "layout": {
        "template": {
         "data": {
          "barpolar": [
           {
            "marker": {
             "line": {
              "color": "white",
              "width": 0.5
             },
             "pattern": {
              "fillmode": "overlay",
              "size": 10,
              "solidity": 0.2
             }
            },
            "type": "barpolar"
           }
          ],
          "bar": [
           {
            "error_x": {
             "color": "#2a3f5f"
            },
            "error_y": {
             "color": "#2a3f5f"
            },
            "marker": {
             "line": {
              "color": "white",
              "width": 0.5
             },
             "pattern": {
              "fillmode": "overlay",
              "size": 10,
              "solidity": 0.2
             }
            },
            "type": "bar"
           }
          ],
          "carpet": [
           {
            "aaxis": {
             "endlinecolor": "#2a3f5f",
             "gridcolor": "#C8D4E3",
             "linecolor": "#C8D4E3",
             "minorgridcolor": "#C8D4E3",
             "startlinecolor": "#2a3f5f"
            },
            "baxis": {
             "endlinecolor": "#2a3f5f",
             "gridcolor": "#C8D4E3",
             "linecolor": "#C8D4E3",
             "minorgridcolor": "#C8D4E3",
             "startlinecolor": "#2a3f5f"
            },
            "type": "carpet"
           }
          ],
          "choropleth": [
           {
            "colorbar": {
             "outlinewidth": 0,
             "ticks": ""
            },
            "type": "choropleth"
           }
          ],
          "contourcarpet": [
           {
            "colorbar": {
             "outlinewidth": 0,
             "ticks": ""
            },
            "type": "contourcarpet"
           }
          ],
          "contour": [
           {
            "colorbar": {
             "outlinewidth": 0,
             "ticks": ""
            },
            "colorscale": [
             [
              0.0,
              "#0d0887"
             ],
             [
              0.1111111111111111,
              "#46039f"
             ],
             [
              0.2222222222222222,
              "#7201a8"
             ],
             [
              0.3333333333333333,
              "#9c179e"
             ],
             [
              0.4444444444444444,
              "#bd3786"
             ],
             [
              0.5555555555555556,
              "#d8576b"
             ],
             [
              0.6666666666666666,
              "#ed7953"
             ],
             [
              0.7777777777777778,
              "#fb9f3a"
             ],
             [
              0.8888888888888888,
              "#fdca26"
             ],
             [
              1.0,
              "#f0f921"
             ]
            ],
            "type": "contour"
           }
          ],
          "heatmapgl": [
           {
            "colorbar": {
             "outlinewidth": 0,
             "ticks": ""
            },
            "colorscale": [
             [
              0.0,
              "#0d0887"
             ],
             [
              0.1111111111111111,
              "#46039f"
             ],
             [
              0.2222222222222222,
              "#7201a8"
             ],
             [
              0.3333333333333333,
              "#9c179e"
             ],
             [
              0.4444444444444444,
              "#bd3786"
             ],
             [
              0.5555555555555556,
              "#d8576b"
             ],
             [
              0.6666666666666666,
              "#ed7953"
             ],
             [
              0.7777777777777778,
              "#fb9f3a"
             ],
             [
              0.8888888888888888,
              "#fdca26"
             ],
             [
              1.0,
              "#f0f921"
             ]
            ],
            "type": "heatmapgl"
           }
          ],
          "heatmap": [
           {
            "colorbar": {
             "outlinewidth": 0,
             "ticks": ""
            },
            "colorscale": [
             [
              0.0,
              "#0d0887"
             ],
             [
              0.1111111111111111,
              "#46039f"
             ],
             [
              0.2222222222222222,
              "#7201a8"
             ],
             [
              0.3333333333333333,
              "#9c179e"
             ],
             [
              0.4444444444444444,
              "#bd3786"
             ],
             [
              0.5555555555555556,
              "#d8576b"
             ],
             [
              0.6666666666666666,
              "#ed7953"
             ],
             [
              0.7777777777777778,
              "#fb9f3a"
             ],
             [
              0.8888888888888888,
              "#fdca26"
             ],
             [
              1.0,
              "#f0f921"
             ]
            ],
            "type": "heatmap"
           }
          ],
          "histogram2dcontour": [
           {
            "colorbar": {
             "outlinewidth": 0,
             "ticks": ""
            },
            "colorscale": [
             [
              0.0,
              "#0d0887"
             ],
             [
              0.1111111111111111,
              "#46039f"
             ],
             [
              0.2222222222222222,
              "#7201a8"
             ],
             [
              0.3333333333333333,
              "#9c179e"
             ],
             [
              0.4444444444444444,
              "#bd3786"
             ],
             [
              0.5555555555555556,
              "#d8576b"
             ],
             [
              0.6666666666666666,
              "#ed7953"
             ],
             [
              0.7777777777777778,
              "#fb9f3a"
             ],
             [
              0.8888888888888888,
              "#fdca26"
             ],
             [
              1.0,
              "#f0f921"
             ]
            ],
            "type": "histogram2dcontour"
           }
          ],
          "histogram2d": [
           {
            "colorbar": {
             "outlinewidth": 0,
             "ticks": ""
            },
            "colorscale": [
             [
              0.0,
              "#0d0887"
             ],
             [
              0.1111111111111111,
              "#46039f"
             ],
             [
              0.2222222222222222,
              "#7201a8"
             ],
             [
              0.3333333333333333,
              "#9c179e"
             ],
             [
              0.4444444444444444,
              "#bd3786"
             ],
             [
              0.5555555555555556,
              "#d8576b"
             ],
             [
              0.6666666666666666,
              "#ed7953"
             ],
             [
              0.7777777777777778,
              "#fb9f3a"
             ],
             [
              0.8888888888888888,
              "#fdca26"
             ],
             [
              1.0,
              "#f0f921"
             ]
            ],
            "type": "histogram2d"
           }
          ],
          "histogram": [
           {
            "marker": {
             "pattern": {
              "fillmode": "overlay",
              "size": 10,
              "solidity": 0.2
             }
            },
            "type": "histogram"
           }
          ],
          "mesh3d": [
           {
            "colorbar": {
             "outlinewidth": 0,
             "ticks": ""
            },
            "type": "mesh3d"
           }
          ],
          "parcoords": [
           {
            "line": {
             "colorbar": {
              "outlinewidth": 0,
              "ticks": ""
             }
            },
            "type": "parcoords"
           }
          ],
          "pie": [
           {
            "automargin": true,
            "type": "pie"
           }
          ],
          "scatter3d": [
           {
            "line": {
             "colorbar": {
              "outlinewidth": 0,
              "ticks": ""
             }
            },
            "marker": {
             "colorbar": {
              "outlinewidth": 0,
              "ticks": ""
             }
            },
            "type": "scatter3d"
           }
          ],
          "scattercarpet": [
           {
            "marker": {
             "colorbar": {
              "outlinewidth": 0,
              "ticks": ""
             }
            },
            "type": "scattercarpet"
           }
          ],
          "scattergeo": [
           {
            "marker": {
             "colorbar": {
              "outlinewidth": 0,
              "ticks": ""
             }
            },
            "type": "scattergeo"
           }
          ],
          "scattergl": [
           {
            "marker": {
             "colorbar": {
              "outlinewidth": 0,
              "ticks": ""
             }
            },
            "type": "scattergl"
           }
          ],
          "scattermapbox": [
           {
            "marker": {
             "colorbar": {
              "outlinewidth": 0,
              "ticks": ""
             }
            },
            "type": "scattermapbox"
           }
          ],
          "scatterpolargl": [
           {
            "marker": {
             "colorbar": {
              "outlinewidth": 0,
              "ticks": ""
             }
            },
            "type": "scatterpolargl"
           }
          ],
          "scatterpolar": [
           {
            "marker": {
             "colorbar": {
              "outlinewidth": 0,
              "ticks": ""
             }
            },
            "type": "scatterpolar"
           }
          ],
          "scatter": [
           {
            "fillpattern": {
             "fillmode": "overlay",
             "size": 10,
             "solidity": 0.2
            },
            "type": "scatter"
           }
          ],
          "scatterternary": [
           {
            "marker": {
             "colorbar": {
              "outlinewidth": 0,
              "ticks": ""
             }
            },
            "type": "scatterternary"
           }
          ],
          "surface": [
           {
            "colorbar": {
             "outlinewidth": 0,
             "ticks": ""
            },
            "colorscale": [
             [
              0.0,
              "#0d0887"
             ],
             [
              0.1111111111111111,
              "#46039f"
             ],
             [
              0.2222222222222222,
              "#7201a8"
             ],
             [
              0.3333333333333333,
              "#9c179e"
             ],
             [
              0.4444444444444444,
              "#bd3786"
             ],
             [
              0.5555555555555556,
              "#d8576b"
             ],
             [
              0.6666666666666666,
              "#ed7953"
             ],
             [
              0.7777777777777778,
              "#fb9f3a"
             ],
             [
              0.8888888888888888,
              "#fdca26"
             ],
             [
              1.0,
              "#f0f921"
             ]
            ],
            "type": "surface"
           }
          ],
          "table": [
           {
            "cells": {
             "fill": {
              "color": "#EBF0F8"
             },
             "line": {
              "color": "white"
             }
            },
            "header": {
             "fill": {
              "color": "#C8D4E3"
             },
             "line": {
              "color": "white"
             }
            },
            "type": "table"
           }
          ]
         },
         "layout": {
          "annotationdefaults": {
           "arrowcolor": "#2a3f5f",
           "arrowhead": 0,
           "arrowwidth": 1
          },
          "autotypenumbers": "strict",
          "coloraxis": {
           "colorbar": {
            "outlinewidth": 0,
            "ticks": ""
           }
          },
          "colorscale": {
           "diverging": [
            [
             0,
             "#8e0152"
            ],
            [
             0.1,
             "#c51b7d"
            ],
            [
             0.2,
             "#de77ae"
            ],
            [
             0.3,
             "#f1b6da"
            ],
            [
             0.4,
             "#fde0ef"
            ],
            [
             0.5,
             "#f7f7f7"
            ],
            [
             0.6,
             "#e6f5d0"
            ],
            [
             0.7,
             "#b8e186"
            ],
            [
             0.8,
             "#7fbc41"
            ],
            [
             0.9,
             "#4d9221"
            ],
            [
             1,
             "#276419"
            ]
           ],
           "sequential": [
            [
             0.0,
             "#0d0887"
            ],
            [
             0.1111111111111111,
             "#46039f"
            ],
            [
             0.2222222222222222,
             "#7201a8"
            ],
            [
             0.3333333333333333,
             "#9c179e"
            ],
            [
             0.4444444444444444,
             "#bd3786"
            ],
            [
             0.5555555555555556,
             "#d8576b"
            ],
            [
             0.6666666666666666,
             "#ed7953"
            ],
            [
             0.7777777777777778,
             "#fb9f3a"
            ],
            [
             0.8888888888888888,
             "#fdca26"
            ],
            [
             1.0,
             "#f0f921"
            ]
           ],
           "sequentialminus": [
            [
             0.0,
             "#0d0887"
            ],
            [
             0.1111111111111111,
             "#46039f"
            ],
            [
             0.2222222222222222,
             "#7201a8"
            ],
            [
             0.3333333333333333,
             "#9c179e"
            ],
            [
             0.4444444444444444,
             "#bd3786"
            ],
            [
             0.5555555555555556,
             "#d8576b"
            ],
            [
             0.6666666666666666,
             "#ed7953"
            ],
            [
             0.7777777777777778,
             "#fb9f3a"
            ],
            [
             0.8888888888888888,
             "#fdca26"
            ],
            [
             1.0,
             "#f0f921"
            ]
           ]
          },
          "colorway": [
           "#636efa",
           "#EF553B",
           "#00cc96",
           "#ab63fa",
           "#FFA15A",
           "#19d3f3",
           "#FF6692",
           "#B6E880",
           "#FF97FF",
           "#FECB52"
          ],
          "font": {
           "color": "#2a3f5f"
          },
          "geo": {
           "bgcolor": "white",
           "lakecolor": "white",
           "landcolor": "white",
           "showlakes": true,
           "showland": true,
           "subunitcolor": "#C8D4E3"
          },
          "hoverlabel": {
           "align": "left"
          },
          "hovermode": "closest",
          "mapbox": {
           "style": "light"
          },
          "paper_bgcolor": "white",
          "plot_bgcolor": "white",
          "polar": {
           "angularaxis": {
            "gridcolor": "#EBF0F8",
            "linecolor": "#EBF0F8",
            "ticks": ""
           },
           "bgcolor": "white",
           "radialaxis": {
            "gridcolor": "#EBF0F8",
            "linecolor": "#EBF0F8",
            "ticks": ""
           }
          },
          "scene": {
           "xaxis": {
            "backgroundcolor": "white",
            "gridcolor": "#DFE8F3",
            "gridwidth": 2,
            "linecolor": "#EBF0F8",
            "showbackground": true,
            "ticks": "",
            "zerolinecolor": "#EBF0F8"
           },
           "yaxis": {
            "backgroundcolor": "white",
            "gridcolor": "#DFE8F3",
            "gridwidth": 2,
            "linecolor": "#EBF0F8",
            "showbackground": true,
            "ticks": "",
            "zerolinecolor": "#EBF0F8"
           },
           "zaxis": {
            "backgroundcolor": "white",
            "gridcolor": "#DFE8F3",
            "gridwidth": 2,
            "linecolor": "#EBF0F8",
            "showbackground": true,
            "ticks": "",
            "zerolinecolor": "#EBF0F8"
           }
          },
          "shapedefaults": {
           "line": {
            "color": "#2a3f5f"
           }
          },
          "ternary": {
           "aaxis": {
            "gridcolor": "#DFE8F3",
            "linecolor": "#A2B1C6",
            "ticks": ""
           },
           "baxis": {
            "gridcolor": "#DFE8F3",
            "linecolor": "#A2B1C6",
            "ticks": ""
           },
           "bgcolor": "white",
           "caxis": {
            "gridcolor": "#DFE8F3",
            "linecolor": "#A2B1C6",
            "ticks": ""
           }
          },
          "title": {
           "x": 0.05
          },
          "xaxis": {
           "automargin": true,
           "gridcolor": "#EBF0F8",
           "linecolor": "#EBF0F8",
           "ticks": "",
           "title": {
            "standoff": 15
           },
           "zerolinecolor": "#EBF0F8",
           "zerolinewidth": 2
          },
          "yaxis": {
           "automargin": true,
           "gridcolor": "#EBF0F8",
           "linecolor": "#EBF0F8",
           "ticks": "",
           "title": {
            "standoff": 15
           },
           "zerolinecolor": "#EBF0F8",
           "zerolinewidth": 2
          }
         }
        },
        "xaxis": {
         "anchor": "y",
         "domain": [
          0.0,
          0.45
         ],
         "visible": false,
         "range": [
          0,
          500
         ]
        },
        "yaxis": {
         "anchor": "x",
         "domain": [
          0.0,
          1.0
         ],
         "title": {
          "text": "Type"
         }
        },
        "xaxis2": {
         "anchor": "y2",
         "domain": [
          0.55,
          1.0
         ],
         "visible": false,
         "range": [
          0,
          500
         ]
        },
        "yaxis2": {
         "anchor": "x2",
         "domain": [
          0.0,
          1.0
         ]
        },
        "annotations": [
         {
          "font": {
           "size": 16
          },
          "showarrow": false,
          "text": "Non-legendary",
          "x": 0.225,
          "xanchor": "center",
          "xref": "paper",
          "y": 1.0,
          "yanchor": "bottom",
          "yref": "paper"
         },
         {
          "font": {
           "size": 16
          },
          "showarrow": false,
          "text": "Legendary",
          "x": 0.775,
          "xanchor": "center",
          "xref": "paper",
          "y": 1.0,
          "yanchor": "bottom",
          "yref": "paper"
         }
        ],
        "margin": {
         "l": 40,
         "r": 10,
         "t": 100,
         "b": 20
        },
        "title": {
         "text": "Nº of Legendary Pokémon's Types"
        },
        "width": 1000,
        "height": 600,
        "showlegend": false
       },
       "config": {
        "plotlyServerURL": "https://plot.ly"
       }
      },
      "text/html": "<div>                            <div id=\"c0a7c08b-fe3d-4b64-a38a-d112b980a6a6\" class=\"plotly-graph-div\" style=\"height:600px; width:1000px;\"></div>            <script type=\"text/javascript\">                require([\"plotly\"], function(Plotly) {                    window.PLOTLYENV=window.PLOTLYENV || {};                                    if (document.getElementById(\"c0a7c08b-fe3d-4b64-a38a-d112b980a6a6\")) {                    Plotly.newPlot(                        \"c0a7c08b-fe3d-4b64-a38a-d112b980a6a6\",                        [{\"marker\":{\"color\":[\"#e0e0d1\",\"#669900\",\"#ffff00\",\"#ff0000\",\"#ffd24d\",\"#1a001a\",\"#00ffff\",\"#0033cc\",\"rgb(51, 153, 255)\",\"#47d147\",\"#1a001a\",\"#999966\",\"#ff4000\",\"#ffccee\",\"#ff33cc\",\"#cc9900\",\"#990099\",\"#d1e0e0\"]},\"name\":\"Type 1\",\"orientation\":\"h\",\"text\":[4.0,5.0,9.0,13.0,14.0,14.0,15.0,17.0,17.0,20.0,21.0,22.0,25.0,29.0,29.0,34.0,34.0,95.0],\"textposition\":\"outside\",\"x\":[4,5,9,13,14,14,15,17,17,20,21,22,25,29,29,34,34,95],\"y\":[\"Normal\",\"Bug\",\"Electric\",\"Fire\",\"Rock\",\"Ghost\",\"Ice\",\"Dragon\",\"Water\",\"Grass\",\"Dark\",\"Steel\",\"Fighting\",\"Fairy\",\"Psychic\",\"Ground\",\"Poison\",\"Flying\"],\"type\":\"bar\",\"xaxis\":\"x\",\"yaxis\":\"y\"},{\"marker\":{\"color\":[\"#ffff00\",\"#cc9900\",\"#00ffff\",\"#990099\",\"rgb(51, 153, 255)\",\"#ff0000\",\"#1a001a\",\"#47d147\",\"#0033cc\",\"#ff33cc\",\"#999966\",\"#ffccee\",\"#ff4000\",\"#d1e0e0\"]},\"name\":\"Type 2\",\"orientation\":\"h\",\"text\":[1.0,1.0,1.0,1.0,1.0,2.0,2.0,2.0,4.0,4.0,4.0,6.0,6.0,10.0],\"textposition\":\"outside\",\"x\":[1,1,1,1,1,2,2,2,4,4,4,6,6,10],\"y\":[\"Electric\",\"Ground\",\"Ice\",\"Poison\",\"Water\",\"Fire\",\"Ghost\",\"Grass\",\"Dragon\",\"Psychic\",\"Steel\",\"Fairy\",\"Fighting\",\"Flying\"],\"type\":\"bar\",\"xaxis\":\"x2\",\"yaxis\":\"y2\"}],                        {\"template\":{\"data\":{\"barpolar\":[{\"marker\":{\"line\":{\"color\":\"white\",\"width\":0.5},\"pattern\":{\"fillmode\":\"overlay\",\"size\":10,\"solidity\":0.2}},\"type\":\"barpolar\"}],\"bar\":[{\"error_x\":{\"color\":\"#2a3f5f\"},\"error_y\":{\"color\":\"#2a3f5f\"},\"marker\":{\"line\":{\"color\":\"white\",\"width\":0.5},\"pattern\":{\"fillmode\":\"overlay\",\"size\":10,\"solidity\":0.2}},\"type\":\"bar\"}],\"carpet\":[{\"aaxis\":{\"endlinecolor\":\"#2a3f5f\",\"gridcolor\":\"#C8D4E3\",\"linecolor\":\"#C8D4E3\",\"minorgridcolor\":\"#C8D4E3\",\"startlinecolor\":\"#2a3f5f\"},\"baxis\":{\"endlinecolor\":\"#2a3f5f\",\"gridcolor\":\"#C8D4E3\",\"linecolor\":\"#C8D4E3\",\"minorgridcolor\":\"#C8D4E3\",\"startlinecolor\":\"#2a3f5f\"},\"type\":\"carpet\"}],\"choropleth\":[{\"colorbar\":{\"outlinewidth\":0,\"ticks\":\"\"},\"type\":\"choropleth\"}],\"contourcarpet\":[{\"colorbar\":{\"outlinewidth\":0,\"ticks\":\"\"},\"type\":\"contourcarpet\"}],\"contour\":[{\"colorbar\":{\"outlinewidth\":0,\"ticks\":\"\"},\"colorscale\":[[0.0,\"#0d0887\"],[0.1111111111111111,\"#46039f\"],[0.2222222222222222,\"#7201a8\"],[0.3333333333333333,\"#9c179e\"],[0.4444444444444444,\"#bd3786\"],[0.5555555555555556,\"#d8576b\"],[0.6666666666666666,\"#ed7953\"],[0.7777777777777778,\"#fb9f3a\"],[0.8888888888888888,\"#fdca26\"],[1.0,\"#f0f921\"]],\"type\":\"contour\"}],\"heatmapgl\":[{\"colorbar\":{\"outlinewidth\":0,\"ticks\":\"\"},\"colorscale\":[[0.0,\"#0d0887\"],[0.1111111111111111,\"#46039f\"],[0.2222222222222222,\"#7201a8\"],[0.3333333333333333,\"#9c179e\"],[0.4444444444444444,\"#bd3786\"],[0.5555555555555556,\"#d8576b\"],[0.6666666666666666,\"#ed7953\"],[0.7777777777777778,\"#fb9f3a\"],[0.8888888888888888,\"#fdca26\"],[1.0,\"#f0f921\"]],\"type\":\"heatmapgl\"}],\"heatmap\":[{\"colorbar\":{\"outlinewidth\":0,\"ticks\":\"\"},\"colorscale\":[[0.0,\"#0d0887\"],[0.1111111111111111,\"#46039f\"],[0.2222222222222222,\"#7201a8\"],[0.3333333333333333,\"#9c179e\"],[0.4444444444444444,\"#bd3786\"],[0.5555555555555556,\"#d8576b\"],[0.6666666666666666,\"#ed7953\"],[0.7777777777777778,\"#fb9f3a\"],[0.8888888888888888,\"#fdca26\"],[1.0,\"#f0f921\"]],\"type\":\"heatmap\"}],\"histogram2dcontour\":[{\"colorbar\":{\"outlinewidth\":0,\"ticks\":\"\"},\"colorscale\":[[0.0,\"#0d0887\"],[0.1111111111111111,\"#46039f\"],[0.2222222222222222,\"#7201a8\"],[0.3333333333333333,\"#9c179e\"],[0.4444444444444444,\"#bd3786\"],[0.5555555555555556,\"#d8576b\"],[0.6666666666666666,\"#ed7953\"],[0.7777777777777778,\"#fb9f3a\"],[0.8888888888888888,\"#fdca26\"],[1.0,\"#f0f921\"]],\"type\":\"histogram2dcontour\"}],\"histogram2d\":[{\"colorbar\":{\"outlinewidth\":0,\"ticks\":\"\"},\"colorscale\":[[0.0,\"#0d0887\"],[0.1111111111111111,\"#46039f\"],[0.2222222222222222,\"#7201a8\"],[0.3333333333333333,\"#9c179e\"],[0.4444444444444444,\"#bd3786\"],[0.5555555555555556,\"#d8576b\"],[0.6666666666666666,\"#ed7953\"],[0.7777777777777778,\"#fb9f3a\"],[0.8888888888888888,\"#fdca26\"],[1.0,\"#f0f921\"]],\"type\":\"histogram2d\"}],\"histogram\":[{\"marker\":{\"pattern\":{\"fillmode\":\"overlay\",\"size\":10,\"solidity\":0.2}},\"type\":\"histogram\"}],\"mesh3d\":[{\"colorbar\":{\"outlinewidth\":0,\"ticks\":\"\"},\"type\":\"mesh3d\"}],\"parcoords\":[{\"line\":{\"colorbar\":{\"outlinewidth\":0,\"ticks\":\"\"}},\"type\":\"parcoords\"}],\"pie\":[{\"automargin\":true,\"type\":\"pie\"}],\"scatter3d\":[{\"line\":{\"colorbar\":{\"outlinewidth\":0,\"ticks\":\"\"}},\"marker\":{\"colorbar\":{\"outlinewidth\":0,\"ticks\":\"\"}},\"type\":\"scatter3d\"}],\"scattercarpet\":[{\"marker\":{\"colorbar\":{\"outlinewidth\":0,\"ticks\":\"\"}},\"type\":\"scattercarpet\"}],\"scattergeo\":[{\"marker\":{\"colorbar\":{\"outlinewidth\":0,\"ticks\":\"\"}},\"type\":\"scattergeo\"}],\"scattergl\":[{\"marker\":{\"colorbar\":{\"outlinewidth\":0,\"ticks\":\"\"}},\"type\":\"scattergl\"}],\"scattermapbox\":[{\"marker\":{\"colorbar\":{\"outlinewidth\":0,\"ticks\":\"\"}},\"type\":\"scattermapbox\"}],\"scatterpolargl\":[{\"marker\":{\"colorbar\":{\"outlinewidth\":0,\"ticks\":\"\"}},\"type\":\"scatterpolargl\"}],\"scatterpolar\":[{\"marker\":{\"colorbar\":{\"outlinewidth\":0,\"ticks\":\"\"}},\"type\":\"scatterpolar\"}],\"scatter\":[{\"fillpattern\":{\"fillmode\":\"overlay\",\"size\":10,\"solidity\":0.2},\"type\":\"scatter\"}],\"scatterternary\":[{\"marker\":{\"colorbar\":{\"outlinewidth\":0,\"ticks\":\"\"}},\"type\":\"scatterternary\"}],\"surface\":[{\"colorbar\":{\"outlinewidth\":0,\"ticks\":\"\"},\"colorscale\":[[0.0,\"#0d0887\"],[0.1111111111111111,\"#46039f\"],[0.2222222222222222,\"#7201a8\"],[0.3333333333333333,\"#9c179e\"],[0.4444444444444444,\"#bd3786\"],[0.5555555555555556,\"#d8576b\"],[0.6666666666666666,\"#ed7953\"],[0.7777777777777778,\"#fb9f3a\"],[0.8888888888888888,\"#fdca26\"],[1.0,\"#f0f921\"]],\"type\":\"surface\"}],\"table\":[{\"cells\":{\"fill\":{\"color\":\"#EBF0F8\"},\"line\":{\"color\":\"white\"}},\"header\":{\"fill\":{\"color\":\"#C8D4E3\"},\"line\":{\"color\":\"white\"}},\"type\":\"table\"}]},\"layout\":{\"annotationdefaults\":{\"arrowcolor\":\"#2a3f5f\",\"arrowhead\":0,\"arrowwidth\":1},\"autotypenumbers\":\"strict\",\"coloraxis\":{\"colorbar\":{\"outlinewidth\":0,\"ticks\":\"\"}},\"colorscale\":{\"diverging\":[[0,\"#8e0152\"],[0.1,\"#c51b7d\"],[0.2,\"#de77ae\"],[0.3,\"#f1b6da\"],[0.4,\"#fde0ef\"],[0.5,\"#f7f7f7\"],[0.6,\"#e6f5d0\"],[0.7,\"#b8e186\"],[0.8,\"#7fbc41\"],[0.9,\"#4d9221\"],[1,\"#276419\"]],\"sequential\":[[0.0,\"#0d0887\"],[0.1111111111111111,\"#46039f\"],[0.2222222222222222,\"#7201a8\"],[0.3333333333333333,\"#9c179e\"],[0.4444444444444444,\"#bd3786\"],[0.5555555555555556,\"#d8576b\"],[0.6666666666666666,\"#ed7953\"],[0.7777777777777778,\"#fb9f3a\"],[0.8888888888888888,\"#fdca26\"],[1.0,\"#f0f921\"]],\"sequentialminus\":[[0.0,\"#0d0887\"],[0.1111111111111111,\"#46039f\"],[0.2222222222222222,\"#7201a8\"],[0.3333333333333333,\"#9c179e\"],[0.4444444444444444,\"#bd3786\"],[0.5555555555555556,\"#d8576b\"],[0.6666666666666666,\"#ed7953\"],[0.7777777777777778,\"#fb9f3a\"],[0.8888888888888888,\"#fdca26\"],[1.0,\"#f0f921\"]]},\"colorway\":[\"#636efa\",\"#EF553B\",\"#00cc96\",\"#ab63fa\",\"#FFA15A\",\"#19d3f3\",\"#FF6692\",\"#B6E880\",\"#FF97FF\",\"#FECB52\"],\"font\":{\"color\":\"#2a3f5f\"},\"geo\":{\"bgcolor\":\"white\",\"lakecolor\":\"white\",\"landcolor\":\"white\",\"showlakes\":true,\"showland\":true,\"subunitcolor\":\"#C8D4E3\"},\"hoverlabel\":{\"align\":\"left\"},\"hovermode\":\"closest\",\"mapbox\":{\"style\":\"light\"},\"paper_bgcolor\":\"white\",\"plot_bgcolor\":\"white\",\"polar\":{\"angularaxis\":{\"gridcolor\":\"#EBF0F8\",\"linecolor\":\"#EBF0F8\",\"ticks\":\"\"},\"bgcolor\":\"white\",\"radialaxis\":{\"gridcolor\":\"#EBF0F8\",\"linecolor\":\"#EBF0F8\",\"ticks\":\"\"}},\"scene\":{\"xaxis\":{\"backgroundcolor\":\"white\",\"gridcolor\":\"#DFE8F3\",\"gridwidth\":2,\"linecolor\":\"#EBF0F8\",\"showbackground\":true,\"ticks\":\"\",\"zerolinecolor\":\"#EBF0F8\"},\"yaxis\":{\"backgroundcolor\":\"white\",\"gridcolor\":\"#DFE8F3\",\"gridwidth\":2,\"linecolor\":\"#EBF0F8\",\"showbackground\":true,\"ticks\":\"\",\"zerolinecolor\":\"#EBF0F8\"},\"zaxis\":{\"backgroundcolor\":\"white\",\"gridcolor\":\"#DFE8F3\",\"gridwidth\":2,\"linecolor\":\"#EBF0F8\",\"showbackground\":true,\"ticks\":\"\",\"zerolinecolor\":\"#EBF0F8\"}},\"shapedefaults\":{\"line\":{\"color\":\"#2a3f5f\"}},\"ternary\":{\"aaxis\":{\"gridcolor\":\"#DFE8F3\",\"linecolor\":\"#A2B1C6\",\"ticks\":\"\"},\"baxis\":{\"gridcolor\":\"#DFE8F3\",\"linecolor\":\"#A2B1C6\",\"ticks\":\"\"},\"bgcolor\":\"white\",\"caxis\":{\"gridcolor\":\"#DFE8F3\",\"linecolor\":\"#A2B1C6\",\"ticks\":\"\"}},\"title\":{\"x\":0.05},\"xaxis\":{\"automargin\":true,\"gridcolor\":\"#EBF0F8\",\"linecolor\":\"#EBF0F8\",\"ticks\":\"\",\"title\":{\"standoff\":15},\"zerolinecolor\":\"#EBF0F8\",\"zerolinewidth\":2},\"yaxis\":{\"automargin\":true,\"gridcolor\":\"#EBF0F8\",\"linecolor\":\"#EBF0F8\",\"ticks\":\"\",\"title\":{\"standoff\":15},\"zerolinecolor\":\"#EBF0F8\",\"zerolinewidth\":2}}},\"xaxis\":{\"anchor\":\"y\",\"domain\":[0.0,0.45],\"visible\":false,\"range\":[0,500]},\"yaxis\":{\"anchor\":\"x\",\"domain\":[0.0,1.0],\"title\":{\"text\":\"Type\"}},\"xaxis2\":{\"anchor\":\"y2\",\"domain\":[0.55,1.0],\"visible\":false,\"range\":[0,500]},\"yaxis2\":{\"anchor\":\"x2\",\"domain\":[0.0,1.0]},\"annotations\":[{\"font\":{\"size\":16},\"showarrow\":false,\"text\":\"Non-legendary\",\"x\":0.225,\"xanchor\":\"center\",\"xref\":\"paper\",\"y\":1.0,\"yanchor\":\"bottom\",\"yref\":\"paper\"},{\"font\":{\"size\":16},\"showarrow\":false,\"text\":\"Legendary\",\"x\":0.775,\"xanchor\":\"center\",\"xref\":\"paper\",\"y\":1.0,\"yanchor\":\"bottom\",\"yref\":\"paper\"}],\"margin\":{\"l\":40,\"r\":10,\"t\":100,\"b\":20},\"title\":{\"text\":\"N\\u00ba of Legendary Pok\\u00e9mon's Types\"},\"width\":1000,\"height\":600,\"showlegend\":false},                        {\"responsive\": true}                    ).then(function(){\n                            \nvar gd = document.getElementById('c0a7c08b-fe3d-4b64-a38a-d112b980a6a6');\nvar x = new MutationObserver(function (mutations, observer) {{\n        var display = window.getComputedStyle(gd).display;\n        if (!display || display === 'none') {{\n            console.log([gd, 'removed!']);\n            Plotly.purge(gd);\n            observer.disconnect();\n        }}\n}});\n\n// Listen for the removal of the full notebook cells\nvar notebookContainer = gd.closest('#notebook-container');\nif (notebookContainer) {{\n    x.observe(notebookContainer, {childList: true});\n}}\n\n// Listen for the clearing of the current output cell\nvar outputEl = gd.closest('.output');\nif (outputEl) {{\n    x.observe(outputEl, {childList: true});\n}}\n\n                        })                };                });            </script>        </div>"
     },
     "metadata": {},
     "output_type": "display_data"
    }
   ],
   "source": [
    "count_type2 = pokemons.groupby('type2').size().sort_values(ascending=True)\n",
    "count_type2.index = count_type2.index.map(lambda x: x.capitalize())\n",
    "count_type2_leg = pokemons[pokemons.is_legendary == 1].groupby('type2').size().sort_values(ascending=True)\n",
    "count_type2_leg.index = count_type2_leg.index.map(lambda x: x.capitalize())\n",
    "\n",
    "fig = make_subplots(rows=1, cols=2, subplot_titles=(\"Non-legendary\", \"Legendary\"),\n",
    "                    )\n",
    "\n",
    "for idx, typ in enumerate([count_type2, count_type2_leg]):\n",
    "    fig.add_trace(go.Bar(y=typ.index, x=typ.values, \n",
    "                       text=typ.values, textposition='outside',\n",
    "                       orientation='h',\n",
    "                       marker_color=typ.index.map(dict_color_types),\n",
    "                       name=\"Type \"+str(idx+1),\n",
    "                       ),\n",
    "                       row=1, col=idx+1)\n",
    "    if idx == 1: # update range to show text on bars\n",
    "        fig.update_xaxes(visible=False, range=[0, 500], row=1, col=idx+1) \n",
    "    else:\n",
    "        fig.update_xaxes(visible=False, range=[0, 500], row=1, col=idx+1)\n",
    "\n",
    "fig.update_layout(title=\"Nº of Legendary Pokémon's Types\",\n",
    "                 template='plotly_white', width=1000, height=600,\n",
    "                 showlegend=False,\n",
    "                 margin=dict(l=40, r=10, t=100, b=20),\n",
    "                 yaxis_title=\"Type\",\n",
    "                 )\n",
    "\n",
    "fig.show()"
   ],
   "metadata": {
    "collapsed": false,
    "ExecuteTime": {
     "end_time": "2023-12-21T12:13:22.042684200Z",
     "start_time": "2023-12-21T12:13:21.821560500Z"
    }
   },
   "id": "f5eaddfa02458686"
  },
  {
   "cell_type": "code",
   "execution_count": 117,
   "outputs": [
    {
     "name": "stdout",
     "output_type": "stream",
     "text": [
      "The strongest Pokémon! (including their mega-evolution)\n"
     ]
    },
    {
     "data": {
      "text/plain": "     base_total       name  is_legendary\n149         780     Mewtwo             1\n383         780   Rayquaza             1\n382         770    Groudon             1\n381         770     Kyogre             1\n492         720     Arceus             1\n717         708    Zygarde             1\n380         700     Latios             1\n372         700  Salamence             0\n247         700  Tyranitar             0\n444         700   Garchomp             0\n718         700    Diancie             1\n379         700     Latias             1\n375         700  Metagross             0\n645         700     Kyurem             1\n719         680      Hoopa             1\n716         680    Yveltal             1\n715         680    Xerneas             1\n248         680      Lugia             1\n643         680     Zekrom             1\n791         680     Lunala             1",
      "text/html": "<div>\n<style scoped>\n    .dataframe tbody tr th:only-of-type {\n        vertical-align: middle;\n    }\n\n    .dataframe tbody tr th {\n        vertical-align: top;\n    }\n\n    .dataframe thead th {\n        text-align: right;\n    }\n</style>\n<table border=\"1\" class=\"dataframe\">\n  <thead>\n    <tr style=\"text-align: right;\">\n      <th></th>\n      <th>base_total</th>\n      <th>name</th>\n      <th>is_legendary</th>\n    </tr>\n  </thead>\n  <tbody>\n    <tr>\n      <th>149</th>\n      <td>780</td>\n      <td>Mewtwo</td>\n      <td>1</td>\n    </tr>\n    <tr>\n      <th>383</th>\n      <td>780</td>\n      <td>Rayquaza</td>\n      <td>1</td>\n    </tr>\n    <tr>\n      <th>382</th>\n      <td>770</td>\n      <td>Groudon</td>\n      <td>1</td>\n    </tr>\n    <tr>\n      <th>381</th>\n      <td>770</td>\n      <td>Kyogre</td>\n      <td>1</td>\n    </tr>\n    <tr>\n      <th>492</th>\n      <td>720</td>\n      <td>Arceus</td>\n      <td>1</td>\n    </tr>\n    <tr>\n      <th>717</th>\n      <td>708</td>\n      <td>Zygarde</td>\n      <td>1</td>\n    </tr>\n    <tr>\n      <th>380</th>\n      <td>700</td>\n      <td>Latios</td>\n      <td>1</td>\n    </tr>\n    <tr>\n      <th>372</th>\n      <td>700</td>\n      <td>Salamence</td>\n      <td>0</td>\n    </tr>\n    <tr>\n      <th>247</th>\n      <td>700</td>\n      <td>Tyranitar</td>\n      <td>0</td>\n    </tr>\n    <tr>\n      <th>444</th>\n      <td>700</td>\n      <td>Garchomp</td>\n      <td>0</td>\n    </tr>\n    <tr>\n      <th>718</th>\n      <td>700</td>\n      <td>Diancie</td>\n      <td>1</td>\n    </tr>\n    <tr>\n      <th>379</th>\n      <td>700</td>\n      <td>Latias</td>\n      <td>1</td>\n    </tr>\n    <tr>\n      <th>375</th>\n      <td>700</td>\n      <td>Metagross</td>\n      <td>0</td>\n    </tr>\n    <tr>\n      <th>645</th>\n      <td>700</td>\n      <td>Kyurem</td>\n      <td>1</td>\n    </tr>\n    <tr>\n      <th>719</th>\n      <td>680</td>\n      <td>Hoopa</td>\n      <td>1</td>\n    </tr>\n    <tr>\n      <th>716</th>\n      <td>680</td>\n      <td>Yveltal</td>\n      <td>1</td>\n    </tr>\n    <tr>\n      <th>715</th>\n      <td>680</td>\n      <td>Xerneas</td>\n      <td>1</td>\n    </tr>\n    <tr>\n      <th>248</th>\n      <td>680</td>\n      <td>Lugia</td>\n      <td>1</td>\n    </tr>\n    <tr>\n      <th>643</th>\n      <td>680</td>\n      <td>Zekrom</td>\n      <td>1</td>\n    </tr>\n    <tr>\n      <th>791</th>\n      <td>680</td>\n      <td>Lunala</td>\n      <td>1</td>\n    </tr>\n  </tbody>\n</table>\n</div>"
     },
     "execution_count": 117,
     "metadata": {},
     "output_type": "execute_result"
    }
   ],
   "source": [
    "print(\"The strongest Pokémon! (including their mega-evolution)\")\n",
    "pokemons[[\"base_total\", \"name\",\"is_legendary\"]].sort_values(\"base_total\", ascending=False).head(20)"
   ],
   "metadata": {
    "collapsed": false,
    "ExecuteTime": {
     "end_time": "2023-12-21T12:13:22.068494400Z",
     "start_time": "2023-12-21T12:13:21.871489500Z"
    }
   },
   "id": "aa0e743459f79fdd"
  },
  {
   "cell_type": "markdown",
   "source": [
    "## Scaling and Normalization"
   ],
   "metadata": {
    "collapsed": false
   },
   "id": "5b1440cb23286ef3"
  },
  {
   "cell_type": "code",
   "execution_count": 126,
   "outputs": [
    {
     "data": {
      "text/plain": "   sp_attack  sp_defense    attack   defense     speed        hp\n0  -0.195025   -0.211687 -0.897909 -0.780773 -0.738486 -0.902083\n1   0.268888    0.325465 -0.493413 -0.325488 -0.219268 -0.337312\n2   1.567846    1.757871  0.688960  1.625735  0.473022  0.415717\n3  -0.349663   -0.748839 -0.804564 -0.975896 -0.046196 -1.127992\n4   0.268888   -0.211687 -0.431183 -0.488090  0.473022 -0.412614",
      "text/html": "<div>\n<style scoped>\n    .dataframe tbody tr th:only-of-type {\n        vertical-align: middle;\n    }\n\n    .dataframe tbody tr th {\n        vertical-align: top;\n    }\n\n    .dataframe thead th {\n        text-align: right;\n    }\n</style>\n<table border=\"1\" class=\"dataframe\">\n  <thead>\n    <tr style=\"text-align: right;\">\n      <th></th>\n      <th>sp_attack</th>\n      <th>sp_defense</th>\n      <th>attack</th>\n      <th>defense</th>\n      <th>speed</th>\n      <th>hp</th>\n    </tr>\n  </thead>\n  <tbody>\n    <tr>\n      <th>0</th>\n      <td>-0.195025</td>\n      <td>-0.211687</td>\n      <td>-0.897909</td>\n      <td>-0.780773</td>\n      <td>-0.738486</td>\n      <td>-0.902083</td>\n    </tr>\n    <tr>\n      <th>1</th>\n      <td>0.268888</td>\n      <td>0.325465</td>\n      <td>-0.493413</td>\n      <td>-0.325488</td>\n      <td>-0.219268</td>\n      <td>-0.337312</td>\n    </tr>\n    <tr>\n      <th>2</th>\n      <td>1.567846</td>\n      <td>1.757871</td>\n      <td>0.688960</td>\n      <td>1.625735</td>\n      <td>0.473022</td>\n      <td>0.415717</td>\n    </tr>\n    <tr>\n      <th>3</th>\n      <td>-0.349663</td>\n      <td>-0.748839</td>\n      <td>-0.804564</td>\n      <td>-0.975896</td>\n      <td>-0.046196</td>\n      <td>-1.127992</td>\n    </tr>\n    <tr>\n      <th>4</th>\n      <td>0.268888</td>\n      <td>-0.211687</td>\n      <td>-0.431183</td>\n      <td>-0.488090</td>\n      <td>0.473022</td>\n      <td>-0.412614</td>\n    </tr>\n  </tbody>\n</table>\n</div>"
     },
     "execution_count": 126,
     "metadata": {},
     "output_type": "execute_result"
    }
   ],
   "source": [
    "from sklearn.preprocessing import StandardScaler\n",
    "\n",
    "x = ['sp_attack', 'sp_defense', 'attack', 'defense', 'speed', 'hp']\n",
    "y = ['is_legendary']\n",
    "\n",
    "scaler = StandardScaler()\n",
    "pokemons[x] = scaler.fit_transform(pokemons[x])\n",
    "pokemons[x].head()"
   ],
   "metadata": {
    "collapsed": false,
    "ExecuteTime": {
     "end_time": "2023-12-21T12:19:17.603182400Z",
     "start_time": "2023-12-21T12:19:17.580870700Z"
    }
   },
   "id": "4ade26182b91726e"
  },
  {
   "cell_type": "markdown",
   "source": [
    "## Feature Selection"
   ],
   "metadata": {
    "collapsed": false
   },
   "id": "1cceb00af13794d0"
  },
  {
   "cell_type": "code",
   "execution_count": 127,
   "outputs": [
    {
     "data": {
      "text/plain": "0    0\n1    0\n2    0\n3    0\n4    0\nName: is_legendary, dtype: int64"
     },
     "execution_count": 127,
     "metadata": {},
     "output_type": "execute_result"
    }
   ],
   "source": [
    "from sklearn.preprocessing import LabelEncoder\n",
    "\n",
    "le = LabelEncoder()\n",
    "pokemons['is_legendary'] = le.fit_transform(pokemons['is_legendary'])\n",
    "pokemons['is_legendary'].head()"
   ],
   "metadata": {
    "collapsed": false,
    "ExecuteTime": {
     "end_time": "2023-12-21T12:19:40.318249200Z",
     "start_time": "2023-12-21T12:19:40.304174800Z"
    }
   },
   "id": "56b1b3f7d25a1fdc"
  },
  {
   "cell_type": "markdown",
   "source": [
    "## Split Training and Testing"
   ],
   "metadata": {
    "collapsed": false
   },
   "id": "e8468609c0c4db6a"
  },
  {
   "cell_type": "code",
   "execution_count": 128,
   "outputs": [],
   "source": [
    "from sklearn.model_selection import train_test_split\n",
    "\n",
    "X = pokemons[x]\n",
    "y = pokemons[y]\n",
    "\n",
    "X_train, X_test, y_train, y_test = train_test_split(X, y, test_size=0.2, random_state=42)"
   ],
   "metadata": {
    "collapsed": false,
    "ExecuteTime": {
     "end_time": "2023-12-21T12:20:41.219963800Z",
     "start_time": "2023-12-21T12:20:41.214794900Z"
    }
   },
   "id": "dfa7fd78b9b50d81"
  },
  {
   "cell_type": "markdown",
   "source": [
    "## Cross Validation"
   ],
   "metadata": {
    "collapsed": false
   },
   "id": "b1074be0fb7e00d4"
  },
  {
   "cell_type": "code",
   "execution_count": 129,
   "outputs": [],
   "source": [
    "from sklearn.linear_model import LinearRegression\n",
    "\n",
    "lr = LinearRegression()\n",
    "lr.fit(X_train, y_train)\n",
    "y_pred = lr.predict(X_test)"
   ],
   "metadata": {
    "collapsed": false,
    "ExecuteTime": {
     "end_time": "2023-12-21T12:20:42.506987700Z",
     "start_time": "2023-12-21T12:20:42.473608700Z"
    }
   },
   "id": "68eb0c8a60bb76d1"
  },
  {
   "cell_type": "markdown",
   "source": [
    "## Performance Evaluation"
   ],
   "metadata": {
    "collapsed": false
   },
   "id": "166d8813c4e9a5af"
  },
  {
   "cell_type": "code",
   "execution_count": 132,
   "outputs": [
    {
     "name": "stdout",
     "output_type": "stream",
     "text": [
      "R2 Score:  0.22831086622621277\n"
     ]
    }
   ],
   "source": [
    "from sklearn.metrics import r2_score\n",
    "\n",
    "print(\"R2 Score: \", r2_score(y_test, y_pred))"
   ],
   "metadata": {
    "collapsed": false,
    "ExecuteTime": {
     "end_time": "2023-12-21T12:21:07.553242Z",
     "start_time": "2023-12-21T12:21:07.547159800Z"
    }
   },
   "id": "3cab5f369d20a3bc"
  },
  {
   "cell_type": "markdown",
   "source": [
    "## Refined composite multiscale entropy (RCME)"
   ],
   "metadata": {
    "collapsed": false
   },
   "id": "3753a1c63d5e64e6"
  },
  {
   "cell_type": "code",
   "execution_count": 131,
   "outputs": [
    {
     "name": "stdout",
     "output_type": "stream",
     "text": [
      "MSE:  0.07663006173888848\n"
     ]
    }
   ],
   "source": [
    "from sklearn.metrics import mean_squared_error\n",
    "\n",
    "print(\"MSE: \", mean_squared_error(y_test, y_pred))"
   ],
   "metadata": {
    "collapsed": false,
    "ExecuteTime": {
     "end_time": "2023-12-21T12:21:06.387195100Z",
     "start_time": "2023-12-21T12:21:06.378031800Z"
    }
   },
   "id": "cdc1eb3943492acf"
  },
  {
   "cell_type": "markdown",
   "source": [
    "## R2 Score"
   ],
   "metadata": {
    "collapsed": false
   },
   "id": "f8cf52c0e45484f3"
  },
  {
   "cell_type": "code",
   "execution_count": 130,
   "outputs": [
    {
     "name": "stdout",
     "output_type": "stream",
     "text": [
      "MAE:  0.18000894311067803\n"
     ]
    }
   ],
   "source": [
    "from sklearn.metrics import mean_absolute_error\n",
    "\n",
    "print(\"MAE: \", mean_absolute_error(y_test, y_pred))"
   ],
   "metadata": {
    "collapsed": false,
    "ExecuteTime": {
     "end_time": "2023-12-21T12:21:04.405393900Z",
     "start_time": "2023-12-21T12:21:04.392694900Z"
    }
   },
   "id": "1a56a05b975f586b"
  }
 ],
 "metadata": {
  "kernelspec": {
   "display_name": "Python 3 (ipykernel)",
   "language": "python",
   "name": "python3"
  },
  "language_info": {
   "codemirror_mode": {
    "name": "ipython",
    "version": 3
   },
   "file_extension": ".py",
   "mimetype": "text/x-python",
   "name": "python",
   "nbconvert_exporter": "python",
   "pygments_lexer": "ipython3",
   "version": "3.11.5"
  }
 },
 "nbformat": 4,
 "nbformat_minor": 5
}
